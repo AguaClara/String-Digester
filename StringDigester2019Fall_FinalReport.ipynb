{
  "nbformat": 4,
  "nbformat_minor": 0,
  "metadata": {
    "colab": {
      "name": "StringDigester2019Fall_FinalReport.ipynb",
      "provenance": [],
      "collapsed_sections": [],
      "include_colab_link": true
    },
    "kernelspec": {
      "name": "python3",
      "display_name": "Python 3"
    }
  },
  "cells": [
    {
      "cell_type": "markdown",
      "metadata": {
        "id": "view-in-github",
        "colab_type": "text"
      },
      "source": [
        "<a href=\"https://colab.research.google.com/github/AguaClara/String-Digester/blob/master/StringDigester2019Fall_FinalReport.ipynb\" target=\"_parent\"><img src=\"https://colab.research.google.com/assets/colab-badge.svg\" alt=\"Open In Colab\"/></a>"
      ]
    },
    {
      "cell_type": "markdown",
      "metadata": {
        "id": "awle31N5ykbr",
        "colab_type": "text"
      },
      "source": [
        "# **String Digester, Fall 2019**\n",
        "#### Madeline Garell, Gaby Sibel, Valentina Dai, and Amber Hsu\n",
        "#### December 6  2019\n"
      ]
    },
    {
      "cell_type": "markdown",
      "metadata": {
        "id": "lGzNCdLa1f38",
        "colab_type": "text"
      },
      "source": [
        "# **Abstract**\n",
        "\n",
        "The String Digester Fall 2019 subteam continued research on designing a new trickling filter to eliminate problems associated with conventional designs. The team developed an improved model of the previous model that used materials that do not decay as quickly. Experiments this fall focused on designing a water distribution system that does not encourage preferential flow, and creating a matrix of strings using \"loopy yarn\" as the filter media. An ideal string digester would distribute water uniformly onto a large number of densely packed strings from a spray. Previous testing demonstrated that a \"good\" spray can be achieved with flow rates on the order of 10 μL/s per string, which is the amount needed to ensure proper cleaning by a biofilm. Previous testing also found the string density resulting in the least preferential flow to be 30 strings/cm, although more trials are needed to confirm this result. Further experimentation is needed to improve the spray pattern geometry, and to determine if the \"loopy yarn\" is suitable for biofilm growth. The long-term goal of this team is to create an efficient wastewater treatment system that will perform tertiary treatment on domestic wastewater. "
      ]
    },
    {
      "cell_type": "markdown",
      "metadata": {
        "id": "TpShT1NO1jsq",
        "colab_type": "text"
      },
      "source": [
        "# **Introduction**\n",
        "\n",
        "The String Digester sub-team was created in response to the need for additional wastewater treatment after treatment from the Upflow Anaerobic Sludge Blanket (UASB) reactor. A trickling filter is a secondary wastewater treatment system that removes organic matter from the wastewater through biological means, and is crucial for the removal of harmful pathogens. The goal of the String Digester subteam is to design a new trickling filter using strings as media that addresses the expensive and inefficient nature of conventional designs. Current trickling filters utilize a large mechanical distributor arm to spray water onto filter media, which requires periodic maintenance, can clog easily, and distributes water unevenly. Other inefficiencies in trickling filter operation are caused by preferential flow in the filter media itself. \n",
        " \n",
        "When designing a new trickling filter, a priority for the subteam was following the AguaClara philosophy: plants should be designed for low cost, high performance, and accessibility. Eliminating the need for large moving parts such as the distributor arm, would reduce the energy requirements and therefore the cost of a trickling filters. Additionally, decreasing preferential flow in the filter media would improve performance, making trickling filters more competitive with other secondary treatment methods such as aeration tanks. Finally, avoiding the use of small holes susceptible to clogging was an important consideration in the trickling filter design. \n",
        " \n",
        "Strings were chosen as a filter media for several reasons. Their high surface area to volume ratio means that a large amount of water can be treated in a small space. [Research](###String-Reaeration) also shows that strings have the ability to reaerate quickly so that energy-consuming fans are not needed to reintroduce oxygen to the system. Additionally, the subteam believed that the linear geometry of a string could minimize preferential flow. \n",
        " \n",
        "The main challenges faced by the subteam are finding a way to distribute a small amount of water evenly onto a large number of strings and ensuring that water is flowing down the strings evenly with the correct flow rate (10 μL/s) so that all the water gets treated fully and there is little to no wasted space. This semester the subteam will continue experimenting with methods for water distribution that do not involve large moving mechanical parts or small orifices that can clog. One concern with strings, as with traditional filter media, is that preferential flow will limit the efficiency of the design. Taking this into account when designing a model will be important, as well as concerns about biofilm growth and treatment. \n",
        "\n",
        "\n",
        "\n",
        "\n",
        "\n"
      ]
    },
    {
      "cell_type": "markdown",
      "metadata": {
        "id": "C6_pu18oxk_E",
        "colab_type": "text"
      },
      "source": [
        "# **Literature Review**\n",
        "---"
      ]
    },
    {
      "cell_type": "markdown",
      "metadata": {
        "id": "4gfgHIlZ2Evd",
        "colab_type": "text"
      },
      "source": [
        "## **Trickling Filters**\n",
        "\n",
        "The filter media in a conventional trickling filter is usually a material such as rocks, gravel, shredded PVC bottles, or special pre-formed plastic filter media. Because all these materials are not regularly shaped and wastewater is not distributed exactly equally across the top of the media, the water follows the paths of least resistance and preferential flow occurs. To clarify, preferential flow occurs when water repeatedly follows a specific pathway through the filter media opposed to others.Thus, there is wasted space in the filter that remains dry and unused, and this is space ineffeicient. Spuhler recommended using specially manufactured plastic media, like corrugated plastic sheets or even hollow plastic cylinders, to optimize surface area for biofilm formation and allow for free movement of air [(Spuhler 2018)](https://www.sswm.info/node/8215).\n",
        "\n",
        "In addition to non-homogenous distribution of wastewater throughout the filter, there is significant documentation of other problems plant operators experience when dealing with trickling filters. Ali and co-authors stated that one major problem is clogging and ponding occurring within the filter media due to high biomass sloughing rate. In the context of a trickling filter, sloughing refers to when a layer of the microbial growth loses the ability to stay attached and is shed from the filter media and washed away by water flow. If the layer of biofilm is not maintained at a desired thickness, treatment performance will decrease. Clogging results in a decreased efficiency of treatment and if it is not addressed, the quality of the effluent will suffer. Current solutions include flashing with low doses of chlorine to remove deposited solids and kill excess biomass or periodic flooding [(Ali et al. 2017)](http://www.pjoes.com/pdf/26.6/Pol.J.Environ.Stud.Vol.26.No.6.2431-2444.pdf). The team aims to avoid the problem altogether by using a media that will not clog, however it is still an important factor to consider in the design, because any small slots or holes that the wastewater travels through in the system has the potential to clog with biofilm growth.\n",
        "\n",
        "Ali also stated that the aforementioned sloughing and clogging are often caused by uneven hydraulic loading rates (HLR). Hydraulic loading rate is the amount of flow arriving at the treatment plant and entering the treatment process at any given time. Uneven HLR is caused by clogging of the distribution arm and an uneven distribution of influent. Therefore, proper distribution of wastewater onto the filter media is crucial for optimizing efficiency of treatment. The most common method of influent distribution is rotating distributors. Rotating distributors consist of moving parts that require more maintenance and may be a burden in a plant to operators. \n",
        "\n",
        "The less common method of distribution, the fixed distribution system as seen below (**Figure 1**), utilizes lateral and main distribution pipes, which are placed just above the trickling filter medium and spaced to give uniform distribution of water. The pipes generally have nozzles with a circular hole and a deflector. This method is commonly used with intermittent dosing, meaning flow from the system varies; it starts at a maximum and lowers as the tank empties. Currently, fixed distribution systems are mostly used in deep filter and biotowers (i.e. very tall filters). Since this method is non-rotating, it may be more applicable for the proposed use of a string media. However, Sperling and colleagues showed that both the fixed and rotating distribution systems have an inconsistent hydraulic load of the influent [(Sperling 2007)](https://www.iwapublishing.com/sites/default/files/ebooks/9781780402123.pdf). Therefore, the distribution system is another area where there is huge potential for the team to increase the productivity of trickling filters.\n",
        "\n",
        "<center>\n",
        "\n",
        "![Fixed Distribution System](https://github.com/AguaClara/String-Digester/blob/master/Spring%202019/Images/Fixed%20Distribution%20Trickling%20Filter.gif?raw=true)\n",
        "\n",
        "**Figure 1:** Trickling filter with a fixed distribution system.\n",
        "\n",
        "</center>\n",
        "\n",
        "Although there are multiple problems with trickling filters, one main advantage of trickling filters is that they have a relatively low residence time. This is a consideration which the team should plan to maintain in future designs. Hinton and Stensel measured residence time per unit length of between 30 and 40 sec/m with dye tests. Their predicted residence times, calculated from laminar flow theory, were closer to about 15 sec/m. The authors attributed this discrepancy to \"dye sorption and desorption by the biofilm.\" In either case, the residence time for a 5 meter deep trickling filter would be well under 5 minutes [(Hinton and Stensel 1991)](https://ac.els-cdn.com/0043135491901179/1-s2.0-0043135491901179-main.pdf?_tid=e8d2db22-8e0f-4d3c-a421-352ef74e6f5e&acdnat=1540500088_4808114af12660c061fbd139ac0fbd33). This short treatment time makes trickling filters an appealing wastewater treatment option if problems such as uneven HLR and clogging can be minimized.\n",
        "\n",
        "[Above review of current trickling filters adapted from [Spring 2019 Final Report](https://github.com/AguaClara/String-Digester/blob/master/Spring%202019/String_Digester_Final_Report.md)]\n",
        "\n"
      ]
    },
    {
      "cell_type": "markdown",
      "metadata": {
        "id": "rBJ9tvoJx2nA",
        "colab_type": "text"
      },
      "source": [
        "## **Water Distribution**\n",
        "Uniform water distribution is essential for many applications such as irrigation and water treatment. One common method for distributing water over a relatively large area is using a spray. There are several different methods for creating a spray, two being the Fixed Spray Plate Sprinklers (FSPS) and Rotating Spray Plate Sprinklers (RSPS). A comparative study conducted by Faci found that both methods resulted in a highly uniform distribution, with RSPS slightly more uniform than FSPS (94.6% versus 93.7%). While the study also focused on the effect of wind and overlapping sprinkler arrays, the methods and materials of the sprinklers are more applicable to this report [(Faci et al. 2001)](https://ascelibrary.org/doi/pdf/10.1061/%28ASCE%290733-9437%282001%29127%3A4%28224%29).\n",
        "\n",
        "The FSPS design involves a water jet impinging on a fixed deflector plate, which then sprays water radially outward in the horizontal plane. The RSPS differs in that the deflector plate rotates when hit with the water jet. The nozzle diameters used in the study for both the FSPS and the RSPS were 3.8, 6.7, and 7.9mm. The deflector plate is what creates the spray pattern, and different deflectors can result in sprays at different angles. For the FSPS, the deflector had 33 grooves which resulted in flow being divided into 33 streams for the 3.8mm nozzle. One note from the study was that as the number of grooves in the deflector plate is increased, the drop size (for a set pressure and nozzle diameter) decreases [(Kincaid et al. 1996)](https://elibrary.asabe.org/azdez.asp?JID=3&AID=27568&CID=t1996&v=39&i=3&T=1&refer=7&access=&dabs=Y).\n",
        "\n",
        "For each of the sprinkler types, the distribution pattern was observed in varying wind conditions (low wind and medium wind) and with the sprinkler at different heights (1m and 2.5m) above the ground. Figure 2 shows that the RSPS results in a distribution with the highest density at the center (directly under the sprinkler) with the water density decreasing gradually as the radius from the center increases. However the FSPS results in a maximum density in a circular crown several meters from the center where the sprinkler is located. This difference in precipitation patterns is caused by the variation in the size of droplets from an RSPS (which can travel a wide range of distances depending on droplet diameter) compared with the relatively uniform droplet size from an FSPS.\n",
        "\n",
        "<center>\n",
        "\n",
        "<img src=\"https://github.com/AguaClara/String-Digester/blob/master/Summer_2019/Photos/FSPS_v_RSPS%20distribution.png?raw=true\" height = 350 />\n",
        "\n",
        "**Figure 2:** Water distribution from RSPS and FSPS sprinklers in different wind conditions at different heights.\n",
        "\n",
        "</center>\n",
        "\n",
        "Faci described how varying sprinkler head height causes changes in water distribution. As the sprinkler height from the ground increases, the total wetted area increases as drops emitted in the horizontal direction are able to travel a longer distance. However, drops traveling further have a tendency to drift or evaporate causing less uniformity in the sprinkler distribution, especially at higher wind speeds.\n",
        "\n",
        "While sprinklers create a uniform spray pattern that can be manipulated by varying parameters such as droplet size, nozzle diameter, and sprinkler height, sprinklers also require small orifices and large water velocities which may not be feasible with wastewater and potential clogging from biofilm growth. However the methods used to spray water outward in the radial direction could be useful when designing a system to spray water in a specific pattern, such as a straight line, and the methods used to split a water stream into several smaller jets may be applicable to future string digester designs.\n",
        "\n"
      ]
    },
    {
      "cell_type": "markdown",
      "metadata": {
        "id": "7MDrJOBXyMHP",
        "colab_type": "text"
      },
      "source": [
        "## **Orifice**\n",
        "Torricelli's principle relates the velocity of water exiting an orifice, *v*, with water height, *h*, above the orifice; *g* is acceleration due to gravity. \n",
        "\n",
        "#### Equation 1: $$v = \\sqrt{2gh}$$ \n",
        "\n",
        "Multiplying this relation by the area of the orifice and a constant called the vena contracta, $\\pi_{vc}$, gives the flow rate of water through the orifice. The vena contracta is a constant that takes into account the narrowing of the water stream as it exits the orifice, and typically has values on the order of 0.62.\n",
        "\n",
        "#### Equation 2: $$Q = \\pi_{vc}A_{orifice}\\sqrt{2gh}$$ \n",
        "\n",
        "This relation was used to calculate the height of water necessary to produce a particular flow rate, given an orifice size. [Python code](##Python-Code) was written to perform such calculations. Additionally this relation can be used to calculate the total flow rate needed to serve a particular population, given that each person needs about [300 strings](###Number-of-Strings-Needed-to-Support-a-Small-Population) and there is a maximum flow rate of 10𝜇L/s per string."
      ]
    },
    {
      "cell_type": "markdown",
      "metadata": {
        "id": "m2_4bnZvyGXN",
        "colab_type": "text"
      },
      "source": [
        "## **Biofilm Growth**\n",
        "A component of the string digester that is crucial to its success is the growth of biofilms on the strings. \"A biofilm is an assemblage of microbial cells that is irreversibly associated (not removed by gentle rinsing) with a surface and enclosed in a matrix of primarily polysaccharide material.\" [(Donlan 2002).](https://www.ncbi.nlm.nih.gov/pmc/articles/PMC2732559/) Biofilm attachment is a complex process regulated by diverse characteristics of the growth medium, substratum, and cell surface. Biofilm on trickling filters is composed of a variety of organisms and are typically enclosed in a polysaccharide. The biofilm matrix may also contain mineral crystals, corrosion particles, and clay or silt particles. In conclusion, biofilms in wastewater systems are often highly complex [(Donlan 2002).](https://www.ncbi.nlm.nih.gov/pmc/articles/PMC2732559/)\n",
        "\n",
        "Some testing has been done of the growth of biofilm in different surfaces. One study compared growth on glossy electro-polished, bright annealed stainless steel to matte stainless steel and to PVC. The paper notes that stainless steel is hydrophilic and PVC is hydrophobic. In the last 45 days of the 167 day experiment, the matte steel had about 1.44 times more microorganisms than the electro-polished steel, and there was no significant difference between the PVC and polished steel. In discussion of why this occurs, Pedersen cites two reasons: \"detachment due to shear forces from the flow will be reduced on the rougher surface since cells can be shielded from the bulk flow and more substratum surface area may be available for the biofilm\" [(Pedersen 1990).](https://www.ncbi.nlm.nih.gov/pmc/articles/PMC2732559/)\n",
        "\n",
        "[Above review of biofilm from [Spring 2019 Final Report](https://github.com/AguaClara/String-Digester/blob/master/Spring%202019/String_Digester_Final_Report.md)]"
      ]
    },
    {
      "cell_type": "markdown",
      "metadata": {
        "id": "30gT9Sr-yAa6",
        "colab_type": "text"
      },
      "source": [
        "## **String Reaeration**\n",
        "For strings to be a viable filter media in a string digester, the wastewater being treated must be exposed to a sufficient amount of oxygen. This is because biofilms consume oxygen in the process of breaking down organic material. Whether reaeration occurs as water flows slowly down a string is an important question Krasnoff and Lee answered in their report [Potential Aeration of Water Trickling Down a String](https://github.com/monroews/CEE3530/blob/master/Projects/2019/1Project.pdf). The experiments performed in this investigation into the aeration of water as it flows down a string included testing two different types of string - a flat string and a loopy yarn. By observing dissolved oxygen (DO) levels for varying amounts of chemical oxygen demand (COD) from $Na_{2}SO_{3}$, it was concluded that aeration can occur when water trickles down both the flat string and the loopy yarn. \n",
        "\n",
        "A second set of trials where the COD level was kept constant at 200 mg/L tested the aeration potential at three different flow rates. As expected the slowest flow rate resulted in the highest levels of DO since the water had the most time for aeration to occur on the string. In each case, the loopy yarn had higher levels of DO and it was shown that the loopy yarn still allowed for significant aeration at high flow rates whie the flat string did not (reaeration of the loopy yarn occurred for flow rates ranging from 1.75 to 17.2 μL/s). This means the loopy yarn is a more promising string digester filter media because a higher flow rate will increase the efficiency of the reactor without sacrificing the treatment. The higher rate of aeration in the yarn is attributed to it being hydrophilic and having \"loops\" that allow water drops to briefly collect. Because of this decreased flow rate and ability to reaerate, the loopy yarn was chosen over other materials tested by previous subteams (See [Previous Work](#Previous-work) for more details on these materials) to be used in Summer 2019 experiments. \n",
        "\n",
        "The results from these experiments showed that strings have the ability to reaerate naturally as water flows down them without needing an external source of air movement, such as with a fan. The type of string, the flow rate, and the level of COD are other variables that were proven to impact the degree of aeration and further tests with these parameters in mind would potentially lead to an ideal material and flowrate to consider for a working wastewater treatment plant. While the loopy yarn is promising in lab conditions, the biodegradability of acrylic yarn is something to consider. Under the conditions of a string digester, each strand of filter media will need to withstand a near constant flow of wastewater as well as host a biofilm for proper treatment. Further research into the effects of biofilm growth on several materials with the same \"loopy\" properties as the yarn will be needed."
      ]
    },
    {
      "cell_type": "markdown",
      "metadata": {
        "id": "FMtru8LLx6-3",
        "colab_type": "text"
      },
      "source": [
        "## **Number of Strings Needed to Support a Small Population**\n",
        "\n",
        "The [2010 World Water Day Fact Sheet](https://pacinst.org/wp-content/uploads/2013/02/water_quality_facts_and_stats3.pdf) reported an annual wastewater production of 1500 km^3 in 2003. For a  6.4 billion population in 2003, this translates to a waste water production rate of 7.50 mL/s per person. A more recent [source](https://www.researchgate.net/publication/283744445_Global_Wastewater_and_Sludge_Production_Treatment_and_Use) from 2015 reported a municpal wastewater production of 330 km^3. With a world population of 7.2 billion at in 2015, this corresponds to a wastewater production rate of 1.4 mL/s per person. \n",
        "\n",
        "To investigate the feasibility of using strings as a filter media, the subteam calculated the number of strings needed to support the population of a small town of 10,000 people. Professor Weber-Shirk estimated that the average human creates wastewater at a rate of 3 mL/s, or 3000 microliters/second. The research in the above paragraph supports this estimate, as the calculated values are on the same order of magnitude. If the flowrate down each string is 10 microliters per second, each person would need 300 strings to keep up with their own wastewater production. Therefore a population of 10,000 people would need a trickling filter composed of 3 million strings.\n"
      ]
    },
    {
      "cell_type": "markdown",
      "metadata": {
        "id": "OOkEV8L0lWoE",
        "colab_type": "text"
      },
      "source": [
        "# **Previous Work** \n",
        "---"
      ]
    },
    {
      "cell_type": "markdown",
      "metadata": {
        "id": "7v2LcOPgxeI8",
        "colab_type": "text"
      },
      "source": [
        "[//]: <> (Write previous work in a general form instead of separating by semester. I think writing it by semester makes the flow more discontinuous. Summarize the main points of the semester by the importance of their findings and how they influenced this summer's work)\n",
        "\n",
        "The String Digester team began by researching the operational difficulties, kinetics, and typical design parameters of trickling filters in Spring 2018 ([Spring 2018 Final Report](https://github.com/AguaClara/String-Digester/blob/master/Spring%20'18/TricklingFilter_Final_Report.md)). The two main areas for improvement the team identified were the filter media itself and the distribution system. The team fabricated a bench top model for flow mapping and conducted several rounds of tests to determine the distribution of flow in trickling filters with small rock and marble media. In an effort to maximize the surface area to volume ratio and minimize the preferential flow observed with traditional filter media, the team shifted focus towards strings. This concept led the team to start with very preliminary testing of an overflowing basin model.\n",
        "\n",
        "The next two semesters, the team continued experimentation with the overflowing basin and focused on trying to find an ideal material to use as the filter media. Nylon, polypropylene, and a stainless steel wire and cable were tested, however none of the materials performed well on the basin set-up as the water did not follow the strands due to their hydrophobicity. [(Fall 2018 Final Report, ](https://github.com/AguaClara/String-Digester/blob/master/Fall%20'18/Final_Report_stringdigester.md)  [Spring 2019 Final Report)](https://github.com/AguaClara/String-Digester/blob/master/Spring%202019/String_Digester_Final_Report.md) The subteam eventually identified the Dacron string as having the most potential for a string digester in terms of residence time and viability for biofilm growth. Finally, the subteam calculated the theoretical efficiency (BOD removal per unit area) of a string digester and found that it compared with or exceeded traditional low-rate and high-rate trickling filters.\n",
        "\n",
        "As discussed in the [Literature](#String-Reaeration) section, Krasnoff and Lee tested the reaeration capacity of the loopy yarn and found that reaeration occurred for flow rates ranging from 1.75 to 17.2 μL/s, whereas flat string did not demonstrate strong reaeration at higher flow rates. Therefore, the loopy yarn was used for experiments this semester and the team focused on spray and flow patterns rather than choosing a filter media. \n",
        "\n",
        "The Summer 2019 team focused on creating an initial model using a matrix of strings and experimented with sprays. The team fabricated a benchtop model and began observing preferential flow patterns using red dye. Conclusions from the summer included how to create a good spray and get water onto a wall of strings using a deflector plate with a specific geometry, an ideal flow rate per string, and ideal string placement geometry (based on spacing, angle, texture and physical properties of the loopy yarn, …). [(Summer 2019 Final Report)](https://github.com/AguaClara/String-Digester/blob/master/StringDigester_Summer2019_FinalReport.ipynb)\n",
        " \n",
        "This semester the subteam hopes to continue the work from the Summer 2019 team by re-fabricating the benchtop model to be completely enclosed (for future wastewater tests), and by designing a more reliable method for spraying water onto the strings. "
      ]
    },
    {
      "cell_type": "markdown",
      "metadata": {
        "id": "a7POfNmj2Gr7",
        "colab_type": "text"
      },
      "source": [
        "# **Methods**\n",
        "---\n",
        "\n",
        "\n",
        "\n",
        "\n",
        "\n",
        "\n",
        "\n",
        "\n",
        "\n"
      ]
    },
    {
      "cell_type": "markdown",
      "metadata": {
        "id": "0foPZldWruWB",
        "colab_type": "text"
      },
      "source": [
        "## **Design 1.0 Capillary Action**\n"
      ]
    },
    {
      "cell_type": "markdown",
      "metadata": {
        "id": "-g073DxQ7C_d",
        "colab_type": "text"
      },
      "source": [
        "### **Number of strings used in capillary action experiments**\n",
        "Changing the number of strands in each string used in the capillary action experiments changes the flow rate of water down the strings, which consequently changes the length required for the strings. In the following analysis and descriptions of the capillary action experiments, strand will refer to a single length of loopy yarn while string will refer to the combination of several parallel strands (see Figure 3). \n",
        "\n",
        "  In initial tests where individual strands of yarn were used as strings, the team observed that the water evaporated before reaching the end of the string. This result indicated that combining several strands of loopy yarn into a string would be a better design for the string digester where the length of each string will have to be at least a meter. Combining two or more strands into a single string means that a greater volume of water can flow down the string at once and water can also flow between the strands. \n",
        " \n",
        "  Several tests were run with combinations of two, four, and eight strands into strings. The results from these experiments showed that the flow rate increased as the number of strands per string increased. Since the target flow rate down each string is 10𝜇L/s more experiments will have to be completed to determine an optimal number of strands per string for a working string digester. \n",
        "<center>\n",
        "<p style=\"text-align: center;\">\n",
        "<img src=\"https://github.com/AguaClara/String-Digester/blob/master/Fall%2019/Images/labeled%20strings%20and%20strands.png?raw=true\" height = 300 />\n",
        " </p>\n",
        "\n",
        "  **Figure 3:** This image shows three strings, the first with one strand and the second two each with 4 strands.\n",
        " </center>\n"
      ]
    },
    {
      "cell_type": "markdown",
      "metadata": {
        "id": "uluVroCF7xD7",
        "colab_type": "text"
      },
      "source": [
        "### **Length of strings in capillary action experiments** \n",
        "The required length of the strings to properly treat the water as it flows down depends on several factors: the number of strands per string and the resulting flow rate down the strings, the distance water has to travel from the top of the reservoir to the top of the string, and the properties of the fluid flowing down the strings. As the number of strands per string increases, the flow rate increases and consequently the length required for a suitable residence time increases. The distance the water must travel to the top of the vertical portion of the strings influences the flow rate of water down the strings because the rate at which water rises to the top of the strings via capillary action depends on the water pressure in the reservoir. This means that the height of water in the reservoir, which is a basin that holds the untreated water, and the distance between the surface of the water to the top of the strings have an effect on the flow rate and the length of the strings. \n",
        " \n",
        "  While the team has been running experiments with water, wastewater will have different properties that might change the results of the capillary action experiments. \n",
        " \n",
        "  To determine the required length of each string, the following equation was used: \n",
        " \n",
        "  $$ L = \\frac{t*m*Q}{h}$$\n",
        " \n",
        "  (Where $L$ is the length of the string, $t$ is the residence time required for treatment, which previous teams have determined to be 900s (15 min), $Q$ is the flow rate of the water flowing down the string, $m$ is the weight of the water on a string, and $h$ is the height of the strings.)\n",
        " \n",
        "  One important consideration when determining the length of strings is that the height of the string digester must be within reason - meaning that the height of the strings will need to be less than 3 meters. Another reason to minimize the string height is the concern that the water being treated will evaporate before reaching the bottom. \n"
      ]
    },
    {
      "cell_type": "markdown",
      "metadata": {
        "id": "V7JTPHPr72yW",
        "colab_type": "text"
      },
      "source": [
        "### **Minimum size of orifice for spray experiments** \n",
        "As the summer 2019 subteam concluded, a good spray results from water with a relatively high flow rate exiting a small orifice. However, a difficulty working with wastewater is that small orifices clog easily, which is a problem in the rotating arms that spray wastewater in trickling filters. Determining the minimum size for an orifice that can be used in a string digester design is an important parameter that the team is intending to determine. "
      ]
    },
    {
      "cell_type": "markdown",
      "metadata": {
        "id": "x2-35GKg7YWA",
        "colab_type": "text"
      },
      "source": [
        " ### **Experimental Apparatus**\n",
        "The Capillary Action experiments were designed to have a set up of two, four, and eight equal length of strands attached to the inside rod of a rectangular container filled with 17.1 cm and 17.2 cm height of water. Each strand was closely packed together as a compact string of two, four, and eight. The water container was placed at a high elevation with strings hanging on the outer wall of the container. To collect the water dripping down, 50 mL graduated cylinders were placed below the strings to determine the amount of water from the strings. The subteam measured the time for the water to accumulate to a certain amount, and thus attain the values of total flow rate (mL/s), flow rate per string (mL/s) and flow rate per string (μL/s).\n",
        "\n",
        "\n",
        "<center>\n",
        "<p style=\"text-align: center;\">\n",
        "<img src=\"https://github.com/AguaClara/String-Digester/blob/master/Fall%2019/Images/labeled%20capillary%20action%20lab%20setup.png?raw=true\" height = 400 />\n",
        " </p>\n",
        "\n",
        "**Figure 4:** This image shows the lab set up for the capillary action experiments.\n",
        "\n",
        "</center>\n"
      ]
    },
    {
      "cell_type": "markdown",
      "metadata": {
        "id": "4hwce52FK4bI",
        "colab_type": "text"
      },
      "source": [
        "## **Design 2.0 Enclosed Spray Experiments**"
      ]
    },
    {
      "cell_type": "markdown",
      "metadata": {
        "id": "f0or0jNamv7T",
        "colab_type": "text"
      },
      "source": [
        "### **Spray System**\n",
        "The subteam designed a spray system that ejected a flat stream of water from a thin orifice on one face of the device, in order that it could be aimed directly at the strings. The team used a tall and thin water column elevated above their lab bench to create enough pressure through the tubing leading up to the spray device to create the optimal spray. After designing a spray system the team tested the flow rates by seeing how long it took for water to run out of the tube and into a 100 mL graduated cylinder. From this the subteam determined a total flow rate of 14.5 mL/s In order for each string to have a flow rate of 10 𝜇L/s the total flow rate would need to be directed onto a matrix of about 1500 strings and in order to produce clean wastewater at 1 L/s a total of about 1 million \n",
        "strings would be needed. Thus the team decided to continue adjusting parameters on the spray device, but also experiment more with capillary action. "
      ]
    },
    {
      "cell_type": "markdown",
      "metadata": {
        "id": "ezBbwZPxrsmX",
        "colab_type": "text"
      },
      "source": [
        "### **Square Tube Deflector**\n",
        "\n",
        "One of the challenges in using a spray to get water onto the strings in our model is containing and controlling the water being sprayed. This means creating a spray that is the same width as the wall of strings in the model so there is no excess water sprayed, which could influence the flow down the strings and would have to be collected and then treated. In previous semesters, the team attempted to limit the width of the spray using curved (half-pipe) deflectors and trying to set the width of the spray using additional pipes that would collect any excess water. However, a problem with limiting the spray after it had formed - rather than using a deflector with a different geometry - changed the spray pattern by causing it to curve inward and be much thinner. Another problem the team ran into was large streams of water dripping off the edges of the curved or flat deflectors. These streams of water, which would have to be collected to be treated and controlling the width of the spray were two challenges the team solved this semester. \n",
        "\n",
        "While experimenting with additional deflectors, the team discovered that a square tube could create a spray of a specific width - the width of the tube - that did not have as much water dripping off the sides. After wrapping the strings on the matrix model, the desired width for the spray was 4 cm, as that was the width of the wall of strings at the top of the system. Since the square tube that the team had been testing with was too thin to make a 4 cm spray, a wider tube was fabricated with a side length of 4 cm so that the resulting spray was the same width as the wall and there would be no excess water spraying at the strings. \n",
        "\n",
        "The new square tube deflector was attached below the inlet water tube using a T-slot rail so that the x-location and angle down from the horizontal could be changed as seen in Figure 5. \n",
        "\n",
        "<center>\n",
        "<p style=\"text-align: center;\">\n",
        "<img src=\"https://github.com/AguaClara/String-Digester/blob/master/Fall%2019/Images/labeleddeflector2.png?raw=true\" height = 400 />\n",
        " </p>\n",
        "\n",
        "**Figure 5:** The deflector tube is attached to the inlet cylinder and can move along the x axis and rotate about the z axis. \n",
        "\n",
        "</center>\n",
        "\n"
      ]
    },
    {
      "cell_type": "markdown",
      "metadata": {
        "id": "2qYjjfRyp4VE",
        "colab_type": "text"
      },
      "source": [
        "### **Experimental Apparatus**\n",
        "\n",
        "<center>\n",
        "<p style=\"text-align: center;\">\n",
        "<img src=\"https://github.com/AguaClara/String-Digester/blob/master/Fall%2019/Images/labeled%20full%20set%20up.png?raw=true\" height = 500 />\n",
        " </p>\n",
        "\n",
        "**Figure 6:** Lab-scale model with inlet tubing and column, square tube deflector, string matrix, and basin to collect water.\n",
        "\n",
        "</center>\n",
        "\n",
        "In this experimental setup, it was important to be able to change certain parameters, such as flow rate and angle of the deflector, so the team used T-slot bars to position the inlet tube, deflector, and board with the string matrix. Water flows into the system through a tube connected to the water source in the lab then into the inlet cylinder. The inlet cylinder is marked with three different heights and has an orifice of diameter 0.25 in at the bottom. The first mark on the cylinder is at 3.65 cm, which is the equilibrium water height, i.e. where the water entering from the source is equal to the water flowing out the bottom of the cylinder. The second mark is at 14.6 cm, which is 4 times the height of the equilibrium height and results in a velocity that is twice the equilibrium velocity according to Toricelli’s principle. The third mark is at 32.85 cm, which is 9 times the equilibrium height and gives three times the equilibrium velocity. The orifice at the bottom of the cylinder is ¼” because this is the estimated smallest diameter that will not clog. \n",
        "\n",
        "As depicted in Figure 6, after exiting the inlet cylinder, water free falls a short distance to the deflector plate, the orientation of which can easily be changed by loosening screws in the apparatus to allow two degrees of freedom: sliding along the x axis and rotating about the z axis. The deflector plate is positioned a few cm away from the wall of strings and angled such that the spray that is created impinges on the center of the wall of strings, as shown in Figure 7. Then the water flows down the strings, through the matrix, and drips into a large basin on the lab bench. This setup, while still needing some modifications such as a full enclosure to further contain the spray, is promising in initial tests in terms of the creation of a spray that evenly hits the wall of strings, the reproducibility of experiments, and the ability to easily change specific parameters while keeping the rest of the variables constant. \n",
        "\n",
        "<center>\n",
        "<p style=\"text-align: center;\">\n",
        "<img src=\"https://github.com/AguaClara/String-Digester/blob/master/Fall%2019/Images/set%20up%201.png?raw=true\" height = 400 />\n",
        " </p>\n",
        "\n",
        "**Figure 7:** The deflector plate is angled towards the wall of strings. \n",
        "\n",
        "</center>"
      ]
    },
    {
      "cell_type": "markdown",
      "metadata": {
        "id": "_Nn9zXKc-Fjq",
        "colab_type": "text"
      },
      "source": [
        "# **Results and Analysis**\n",
        "---\n",
        "\n",
        "\n",
        "\n",
        "[//]: <> (Use past tense for this section)"
      ]
    },
    {
      "cell_type": "markdown",
      "metadata": {
        "id": "jMT3DPjW_HvR",
        "colab_type": "text"
      },
      "source": [
        "## **Preliminary Spray Experiments**"
      ]
    },
    {
      "cell_type": "markdown",
      "metadata": {
        "id": "BC6rwqSP_IDA",
        "colab_type": "text"
      },
      "source": [
        "### **Minimum orifice size** \n",
        "While the team has designed a more accurate inlet device to produce a good spray to direct onto the strings, the dimensions of the device still need to be determined. The requirement of a small orifice size is the main problem the team faced when designing the spray model because small orifices clog easily. This limitation may be a factor in determining which method to use for a string digester. "
      ]
    },
    {
      "cell_type": "markdown",
      "metadata": {
        "id": "yfKnW4HsOrIP",
        "colab_type": "text"
      },
      "source": [
        "### **Potentials to resolve cloggings**\n",
        "Since small orifice might encounter clogging problems, there are two possibilities; Design a spray that can be disassembled when cloggings are observed, which might be hard to observe as well. In a sense, the whole system is very inefficient and in need of manual labor; Use another filter device before the spray and let the wastewater flow out from the orifices, which will be designed to have a similar size as the outlet of the spray. The device before the spray can be designed to be easier to be cleaned. From here, string digester is functioning as a tertiary treatment device.\n",
        "\n",
        "<center>\n",
        "<p style=\"text-align: center;\">\n",
        "<img src=\"https://github.com/AguaClara/String-Digester/blob/master/Fall%2019/Images/preliminary%20spray.png?raw=true\" height = 200 />\n",
        " </p>\n",
        "<p style=\"text-align: center;\">\n",
        "<img src=\"https://github.com/AguaClara/String-Digester/blob/master/Fall%2019/Images/spray%20cut.jpeg?raw=true\" height = 100 />\n",
        " </p>\n",
        " \n",
        "**Figure 8:** Preliminary Spray Model\n",
        "</center>\n",
        "\n",
        "\n"
      ]
    },
    {
      "cell_type": "markdown",
      "metadata": {
        "id": "1yTrhZGdvEOV",
        "colab_type": "text"
      },
      "source": [
        "### **Potential Geometry for Shell Enclosed System**\n",
        "The outlet of the spray will be the orifices from the circular tube. The speed of the spray needs to be aligned with the ideal speed of wastewater being treated by biofilms on strings, whcih can be accomplished by varying the orifice size or the hydraulic head. There are three circular steel rods for the strings to be wrapped around in a full circle to form a full string wall. Beads also can be added between each string to create the spacing here on the circular steel rod. \n",
        "\n",
        "  Apparently, the device would has the same problems as the previous device that cloggings might be encountered at orifices. Therefore, either different spraying system needs to be designed or the device is better to be used for a tertiary treatment device.\n",
        "\n",
        "<center>\n",
        "<p style=\"text-align: center;\">\n",
        "<img src=\"https://github.com/AguaClara/String-Digester/blob/master/Fall%2019/Images/cicular%20final%20model.png?raw=true\" height = 300 />\n",
        " </p>\n",
        "\n",
        "**Figure 9:** Circular Geomertry increasing space efficiency \n",
        "</center>"
      ]
    },
    {
      "cell_type": "markdown",
      "metadata": {
        "id": "2A8-UEL5qswS",
        "colab_type": "text"
      },
      "source": [
        "## **Enclosed Spray Experiments**"
      ]
    },
    {
      "cell_type": "markdown",
      "metadata": {
        "id": "3L15YJN-vfLP",
        "colab_type": "text"
      },
      "source": [
        "To determine the best conditions for creating a spray, three variables were changed in the square tube deflector apparatus: flow rate, angle, and impact location. The flow rate was varied by changing the height of the water in the inlet tube and the team tested three different heights, which are described in detail in the Experimental Apparatus section of this report and are labeled h1, h2, and h3 in Figure 10. The angle of the deflector tube was varied and was tested at 30, 45, and 60 degrees down from the horizontal. These angles were chosen because in initial testing they provided reasonable sprays that were not too extreme (were not extreme in the volume of water dripping off the sides or in the irregularity of droplet size in the spray). Lastly, the effect of the location of water impact from the inlet tube on the deflector tube was observed at two locations on the deflector. To ensure the reproducibility of the experiment, the two locations - one near the front edge and one near the back edge - were marked on the bottom of the tube. \n",
        "\n",
        "<center>\n",
        "<p style=\"text-align: center;\">\n",
        "<img src=\"https://github.com/AguaClara/String-Digester/blob/master/Photos/angle%20position%20comparison%20photo.png?raw=true\" height = 500 />\n",
        " </p>\n",
        "\n",
        "**Figure 10:** Results from varying three parameters with the square tube deflector plate. \n",
        "</center>\n",
        "\n",
        "The results of the experiment are displayed in Figure 10, where a photo was taken for each combination of variables to give an instantaneous image of the spray for each condition. For each of the angles and heights, the front position produced a better spray than the back position. The team determined that the best observed spray was for 60 degrees, height 2, and the front position. This spray did not have large drops of water at the edges of the spray, was realtively flat and uniform, and, unlike the 60-h3-back spray, fit the width of the deflector tube without curving up the edges. Additional information and observations on each spray is tabulated in Appendix B. \n",
        "\n",
        "While future tests may be performed with more specific variation in the parameters to futher optimize the spray, the team will move forward with the 60-h2-front combination and begin testing this setup with strings next semester. "
      ]
    },
    {
      "cell_type": "markdown",
      "metadata": {
        "id": "-SMsvEpO_QgQ",
        "colab_type": "text"
      },
      "source": [
        "## **Capillary Action Experiments** "
      ]
    },
    {
      "cell_type": "markdown",
      "metadata": {
        "id": "pS1_L0UP_Q6D",
        "colab_type": "text"
      },
      "source": [
        "### **Number of strings used in capillary action experiments**\n",
        "So far the team has not performed enough tests to get conclusive results on the ideal number of strings for a 10𝜇L/s flow rate. However, the team did notice a general trend, as the number of strands per string increased, the flow rate increased. The next step in determining this design parameter is to run many more tests and plot the results to observe the relationship between strands and flow rate. \n"
      ]
    },
    {
      "cell_type": "markdown",
      "metadata": {
        "id": "zz1kCbp3OkFV",
        "colab_type": "text"
      },
      "source": [
        "### **Capillary Action System**\n",
        "In order to control the relative speed of the capillary action, a former device before the rectangular container is needed to automatically filling up wastewater to the top surface of the container: tipping bucket from UASB. Another possibility is to install a tube with tiny orifices at the bottom of the rectangular container.\n"
      ]
    },
    {
      "cell_type": "markdown",
      "metadata": {
        "id": "BC7HV-l7_Xl9",
        "colab_type": "text"
      },
      "source": [
        "### **Length of strings in capillary action experiments**\n",
        "Using the formula for the length, L, of the strings described in the Methods section of this report, the team will calculate the necessary length of the strings after determining the flow rate from the ideal number of strings. "
      ]
    },
    {
      "cell_type": "markdown",
      "metadata": {
        "id": "XJSjHIAswTja",
        "colab_type": "text"
      },
      "source": [
        "### **Code For Caculating Necessary Length of Strings**"
      ]
    },
    {
      "cell_type": "code",
      "metadata": {
        "id": "xk2ibPyu8AJm",
        "colab_type": "code",
        "outputId": "d47c3d77-d565-486f-ff17-ca3b3e9b5d20",
        "colab": {
          "base_uri": "https://localhost:8080/",
          "height": 310
        }
      },
      "source": [
        "import matplotlib.pyplot as plt\n",
        "import pandas as pd\n",
        "import numpy as np\n",
        "\n",
        "#NS, HW, HWTP, HTDS, AWC, TIME, TFR, FRPS, FRPSuL= np.loadtxt('https://github.com/AguaClara/String-Digester/blob/master/Fall%2019/CAP_ACT_FR_TESTS.csv', unpack = True, delimiter = ',')\n",
        "#NS = Number of Strings\n",
        "#HW = Height of Water\n",
        "#HWTP = Height Water Travels to Peak\n",
        "#HTDS = How far the water has to travel down the string\n",
        "#AWC = Amount of Water Collected\n",
        "#TIME = measured amount of time once water started being collected\n",
        "#TFR = total flow rate\n",
        "#FRPS = flow rate per string in mL/s\n",
        "#FRPSuL = flow rate per string uL/s\n",
        "\n",
        "df = pd.read_csv('https://raw.githubusercontent.com/AguaClara/String-Digester/master/Fall%2019/CAP_ACT_FR_TESTS.csv')\n",
        "NS = df.iloc[:, 0] # Number of Strings\n",
        "HW = df.iloc[:, 1] # Height of Water\n",
        "HWTP = df.iloc[:, 2] # Height Water Travels to Peak\n",
        "HTDS = df.iloc[:, 3] # How far the water has to travel down the string\n",
        "AWC = df.iloc[:, 4] # Amount of Water Collected\n",
        "TIME = df.iloc[:, 5] #measured amount of time once water started being collected\n",
        "TFR = df.iloc[:, 6] #total flow rate\n",
        "FRPS = df.iloc[:, 7] #flow rate per string in mL/s\n",
        "FRPSuL = df.iloc[:, 8] #flow rate per string uL/s\n",
        "\n",
        "plt.figure(0)\n",
        "plt.plot(NS,TFR)\n",
        "plt.title('Total Flow Rate for \\nDifferent Number of Strings')\n",
        "plt.xlabel('Number of Strings')\n",
        "plt.ylabel('Total Flow Rate (mL/s)')\n",
        "#plt.savefig('/Users/gvsso/OneDrive/Documents/Gaby/String-Digester/Fall 19/images/NSvsTFR')\n",
        "plt.show()"
      ],
      "execution_count": 0,
      "outputs": [
        {
          "output_type": "display_data",
          "data": {
            "image/png": "[encoded data removed]",
            "text/plain": [
              "<Figure size 432x288 with 1 Axes>"
            ]
          },
          "metadata": {
            "tags": []
          }
        }
      ]
    },
    {
      "cell_type": "markdown",
      "metadata": {
        "id": "Me12TWjY-Iys",
        "colab_type": "text"
      },
      "source": [
        "# **Conclusions**\n",
        "---\n",
        "\n",
        "\n"
      ]
    },
    {
      "cell_type": "markdown",
      "metadata": {
        "id": "LoCJCp43PNR1",
        "colab_type": "text"
      },
      "source": [
        "Following the work done in previous semesters, the Fall 2019 team focused on figureing out a way to successfully get water onto a large number of strings. The team began with two separate approaches to this challenge: spray and capillary action. Both these methods involved using the loopy yarn as in Summer 2019 and the main goals of the experiments carried out were determing the range of flow rates that could be achieved with each of the methods. Determining whether or not each of these methods could produce a target flow rate of 10 𝜇L/s per string was a main objective of this semesters' experiments, along with designing a final system from influent \"untreated\" water to \"treated\" water dripping evenly off the ends of a matrix of strings. While the semester goal of completing a finalized CAD drawing of a string digester model was not realized, a significant amount of progress was made in terms of deciding which method to move forward with and fabricating a lab-scale model that prooved promising in preliminary tests and was able to be used to determine important parameters so the team can move on to flow observation experiments next semester. \n",
        "\n",
        "Based on the capillary action experiments, the team concluded that more strings will lead to higher flow rate. However, the function between these two parameters is not just in a linear relationship. More data needs to be collected and future ploting between the flow rate and number of strings needs to further optimized in order to determine a potential equation, as well the function between the flow rate and the length of the strings. While this method did not require any small orifices or a large water pressure, the team ultimately decided to abandon the capillary action method in favor of the spray method. This decision was made because once biofilms are introduced when the team begins testing with wastewater, the capillary action mechanism and subsequent flow rates and patterns will vary greatly from what the team observed when using clean water in the lab.  \n",
        "\n",
        "The spray method, which the team chose to move forward with as the system for getting water evenly onto the strings, was more complicated than the capillary action method, but the results when biofilms are introduced will hopefully be more consistent with the clean water tests. Continuing with the string matrix design from the Summer 2019 team, this semester's team focused on minimizing the amount of wasted water that will be sprayed onto the wall of strings. This involved fabricating a square deflector tube - rather than a half- or quarter- pipe deflector or flat plate deflector - after observing that water sprayed evenly out of a square pipe. After fabricating our own square deflector and running experiments to test the effects of three different parameters, it was concluded that the best spray was created when the deflector was angled 60 degrees below the horizontal, when the flow rate was 33.23 mL/s, and the water from the influent cylinder was colliding with the deflector at a location near the front edge of the deflector (near the spray edge). While these results might need to be adjusted for the desired number of strings being tested in the lab in the future, figuring out what kind of delfector to use and how to set up the deflector plate so that the team could repeat experiments consistently was an important accomplishment of the semester. "
      ]
    },
    {
      "cell_type": "markdown",
      "metadata": {
        "id": "YaxoMSs9cuTK",
        "colab_type": "text"
      },
      "source": [
        "# **Future Work**\n",
        "---\n"
      ]
    },
    {
      "cell_type": "markdown",
      "metadata": {
        "id": "B_3FJiSDjEDw",
        "colab_type": "text"
      },
      "source": [
        "The goal of the subteam next semester is to complete a design of a string digester and draw a CAD model of the enclosed proposed design. The first step towards this goal is to finalize design of the Spray System in order to treat tertiary wastewater treatment system. This will include obtaining more results and data from the system to optimize the angle of the spray device, flow rate, the width of the spray device and concurrently the width of the strings on the rod on the string system itself. Based on these results, the next step would be fabricating a system that will abide by all the design parameters and also making a CAD model.\n",
        "\n",
        "Once a lab model is successful in terms of water dispensing and flow down strings, future teams will also need to perform experiments with biofilms on the loopy yarn or other potential filter media to treat wastewater. Experiments with synthetic wastewater will be conducted in the lab until the team has constructed an apparatus to test at the Ithaca wastewater plant and finally implement in an AguaClara wastewater treatment plant. \n",
        "\n",
        "Furthermore, considering the problems after scaling up, there will be the potential to change to larger-scaled string materials to accommodate an ideal situation. The components and chemical properties of the materials need to be further examined. If degradability in materials can not be resolved, easy methods to change strings in the device need to be derived. Lastly, the patterns of the strings can be further tested as well."
      ]
    },
    {
      "cell_type": "markdown",
      "metadata": {
        "id": "ZXUik5SH-YFM",
        "colab_type": "text"
      },
      "source": [
        "# **Bibliography**\n",
        "---\n",
        "\n",
        "\n",
        "\n",
        "\n",
        "\n"
      ]
    },
    {
      "cell_type": "markdown",
      "metadata": {
        "id": "D3rYytcxya9Z",
        "colab_type": "text"
      },
      "source": [
        "Faci, J. M. et al. \"Comparison of Fixed and Rotating Spray Plate Sprinklers.\" ASCE, Journal of Irrigation and Drainage Engineering, July/August 2001, 127(4): 224-233. https://ascelibrary.org/doi/pdf/10.1061/%28ASCE%290733-9437%282001%29127%3A4%28224%29\n",
        "\n",
        "Kincaid, D. C.; Solomon, K. H; Oliphant, J. C.; \"Drop Size Distibutions for Irrigation Sprinklers.\" 1996 American Society for Agricultural Engineers. Vol. 39(3): 839-845. http://citeseerx.ist.psu.edu/viewdoc/download?doi=10.1.1.465.5537&rep=rep1&type=pdf\n",
        "\n",
        "Mateo-Sagasta, Javier & Raschid-Sally, Liqa & Thebo, Anne. (2015). *Global Wastewater and Sludge Production, Treatment and Use.* Wastewater: Economic Asset in an Urbanizing World. 15-38. 10.1007/978-94-017-9545-6_2. Retrieved from https://www.researchgate.net/publication/283744445_Global_Wastewater_and_Sludge_Production_Treatment_and_Use \n",
        "\n",
        "World Water Day 2010 (2010, March 22). *World water Quality Facts and Staistics.* Retrieved from https://pacinst.org/wp-content/uploads/2013/02/water_quality_facts_and_stats3.pdf"
      ]
    },
    {
      "cell_type": "markdown",
      "metadata": {
        "id": "EvBA8kN4-dty",
        "colab_type": "text"
      },
      "source": [
        "# **Manual**\n",
        "---"
      ]
    },
    {
      "cell_type": "markdown",
      "metadata": {
        "id": "FpvqExKj7Ecc",
        "colab_type": "text"
      },
      "source": [
        "## **Materials**"
      ]
    },
    {
      "cell_type": "markdown",
      "metadata": {
        "id": "nZjJveUXy_37",
        "colab_type": "text"
      },
      "source": [
        "The materials utilized in the following experiments include:\n",
        "\n",
        "| Experiment | Manual | Details | McMaster ID |\n",
        "| --- | --- | --- | --- |\n",
        "| Capillary Action | Tubing ID:⅜” | | 5233K63 |\n",
        "|  | Tubing ID: ¼” |  |\t5233K63\t |\n",
        "|  | 6 Quart Basin |  |\t8993T43\t|\n",
        "|  | Very Large Basin | Large enough to collect dripping water | \t4533T53 |\n",
        "|  | Acrylic Loopy Yarn | Mill Ends 1 lb Acrylic Blend |\n",
        "|  | Polyvinyl Chloride (PVC) Sheet | Thickness: 1/4\" |\t8747K114 |\n",
        "|  | Electric Drill | Drill Bit:½” |\n",
        "|  | 2 Medium Push to Connect | Threaded: ⅜” | \t51055K17 |\n",
        "|  | 2 Plugs | Fit in the Push to Connect threaded side |\n",
        "|  | 2 X ½” metal nut and washers |  | 95462A029, \t90107A029\t|\n",
        "|  | 2 Metal Clamps |  |\n",
        "| Spray Experiment | Clear PVC Pipe | Diameter: 1” and Length: 2’ | \t49035K45 |\n",
        "|  | Tubing ID: ⅜” |  |\t5233K63\t|\n",
        "|  | Push to Connect Valve | Fits ⅜\" tubing |\t51055K17 |\n",
        "|  | Beads | Hildie & Jo plastic beads (1000 count) 5 mm outer diameter, purchased from Joann's |\n",
        "|  | Polyvinyl Chloride (PVC) Sheet | Thickness: 1/4\" |\t8747K114 |\n",
        "|  | 20 metal rods with outer diameter 0.00625” |  |\n",
        "|  | 4 15 cm ¼” - 20 threaded rods | | 90322A658 |\n",
        "|  | 8 1/4\"- 20 hex nuts | | 95462A029\t|\n",
        "|  | Electric Drill |  |\n",
        "|  | Drill Bits | ¼” |\n",
        "|  | 6 T-Slot Bars |  |\t47065T101\t|"
      ]
    },
    {
      "cell_type": "markdown",
      "metadata": {
        "id": "B-yu_p-B7OAw",
        "colab_type": "text"
      },
      "source": [
        "## **Capillary Action Experiment**"
      ]
    },
    {
      "cell_type": "markdown",
      "metadata": {
        "id": "9uogtEL87SmX",
        "colab_type": "text"
      },
      "source": [
        "### **Fabrication Details**\n",
        "1. Drill two ½” diameter holes straight across from each other in the 6 quart basin and secure the threaded push to connect’s in the holes with metal nuts and rubber washers.\n",
        "2. On the outside of the basin place plugs in the push to connect holes. \n",
        "3. On the inside cut the right length of ¼” tubing and place into other side of push to connect. \n",
        "4. Cut 5 8’ long strands of loopy yarn and loop around tubing in basin. "
      ]
    },
    {
      "cell_type": "markdown",
      "metadata": {
        "id": "kR-aVR6l7r1_",
        "colab_type": "text"
      },
      "source": [
        "### **Special Components**\n",
        "1. Loopy yarn: Mill Ends 1 lb Acrylic Blend\n",
        "\n",
        "\n",
        "\n"
      ]
    },
    {
      "cell_type": "markdown",
      "metadata": {
        "id": "5DB1hMxF7uj-",
        "colab_type": "text"
      },
      "source": [
        "### **Experimental Procedure**\n",
        "1. Measure the length of the from top of peak to bottom of string where water will drip off.\n",
        "2. Evenly space the strings as close together as possible without having them clumped\n",
        "3. Fill basin almost all the way to the top with water. \n",
        "4. Measure the height of the water and the height from the top of the water to the top of the peak of the strings. \n",
        "5. To measure flow rate start a timer and at the same time place a graduated cylinder or beaker under the dripping strings. \n",
        "6. Collect any desired amount of water. \n",
        "7. Stop the timer and remove the graduated cylinder from under the strings at the same time. \n",
        "8. Read the amount of water collected and divide that by the time it took to collect it to obtain the flow rate."
      ]
    },
    {
      "cell_type": "markdown",
      "metadata": {
        "id": "L-wSWWIH7xiG",
        "colab_type": "text"
      },
      "source": [
        "## **Spray Experiment**"
      ]
    },
    {
      "cell_type": "markdown",
      "metadata": {
        "id": "jAjThjpf70LE",
        "colab_type": "text"
      },
      "source": [
        "### **Fabrication Details**\n",
        "\n",
        "**String Matrix Board**\n",
        "\n",
        "1. Orient the PVC rectangle so the shorter side is at the bottom. Drill a horizontal row of 10 1.4 mm holes spaced 5 mm apart 10 cm from the bottom of the PVC sheet.\n",
        "2. Drill a second row of 10 1.4 mm holes spaced 5 mm apart 10 cm above the first row.\n",
        "3. Drill one 1/4\" hole 2 cm below the center of the first row of 1.4 mm holes and one 1/4\" hole 8cm above the second row of 1.4 mm holes. \n",
        "4. Drill one 1/4\" hole 2 cm to the right and 1 cm above the topmost 1/4\" hole.\n",
        "5. Insert the 15 cm 1/4\"- 20 threaded rods into the 1/4\" holes and secure each with hex nuts. Place lengths of tubing over the threaded rods for a smooth surface to wrap strings around.\n",
        "6. Insert the rods into the smaller holes, ensuring they are secure.\n",
        "7. Place 8 beads on each rod and secure in place by gluing the top bead on each rod.\n",
        "8. Secure the end of the yarn with tape and wrap around the rods using the winding pattern in the figure below to create a string matrix of 88 strings that converges at the top and bottom 1/4\" rods. Wrap the yarn so that it goes between each bead, does not overlap, and is very taught.\n",
        "\n",
        "<center>\n",
        "<p style=\"text-align: center;\">\n",
        "<img src=\"https://github.com/AguaClara/String-Digester/blob/master/Summer_2019/Photos/winding_pattern_labeled.JPG?raw=true\" height = 500 />\n",
        " </p>\n",
        "\n",
        "**Figure 1:** Winding pattern for string matrix apparatus\n",
        "</center>\n",
        "\n",
        "\n",
        "**Influent Cylinder**\n",
        "1. Drill a 1/4\" hole in a piece (at least 10 cm by 10 cm) of 1/4\" thick plastic, this is the base of the inlet cylinder.\n",
        "2. Glue a PVC pipe (length at least 50 cm) to the base, centering the pipe over the hole. \n",
        "3. Use the influent water source to determine the equilibrium height of water in the tube, mark with a line and number 1. This is the equilibrium velocity/flow rate.\n",
        "4. Mark a second line (labeled 2) at a height 4 times the height of line 1. This height of water in the cylinder will give a flow rate twice the equilibrium flow rate. \n",
        "5. Mark a third line (labeled 3) at a height 9 times the height of line 1. This height of water in the cylinder will give a flow rate three times the equilibrium flow rate. \n",
        "\n",
        "**Square Deflector Tube**\n",
        "1. Measure the width of the wall of strings.\n",
        "2. Make a three-sided square tube with inner side lengths of the square equal to the width of the wall of strings. \n",
        "3. Drill ¼ “ hole in one corner on each side of the deflector tube. \n",
        "4. Use PVC glue to build the deflector tube, making sure to orient the sides so that the drilled holes line up (a screw must fit across the width of the tube through the two holes).\n",
        "5. Drill two ¼” holes spaced 4 cm apart in the base plate of the influent tube so that the line through the two holes is 2 cm from the influent orifice at the base of the tube.\n",
        "6. Use a T-slot rail to attach the square tube to the influent tube base plate.\n",
        "*See Figure 5*\n",
        "\n",
        "**System Setup**\n",
        "1. Attach the influent tube/deflector apparatus to the lab bench approximately 2 ft above the benchtop. \n",
        "2. Position the string matrix board under the deflector so the wall of strings is approximately 2-3 cm away from the deflector edge.\n",
        "3. Place a large plastic bin under the entire set up to catch water. \n",
        "4. Use 1/4\" diameter tubing to bring water from the influent source to the influent cylinder. \n",
        "*See Figure 6* \n",
        "\n"
      ]
    },
    {
      "cell_type": "markdown",
      "metadata": {
        "id": "yQu23Vbh8C0T",
        "colab_type": "text"
      },
      "source": [
        "### **Special Components**\n",
        "1. Loopy yarn: Mill Ends 1 lb Acrylic Blend"
      ]
    },
    {
      "cell_type": "markdown",
      "metadata": {
        "id": "Q4uiLHZG8HbY",
        "colab_type": "text"
      },
      "source": [
        "### **Experimental Procedure**\n",
        "1. Direct the spray device at the top of the system towards the rod with the layer of strings on it. Adjust the angle of the deflector by loosening the screws that attach it and using a protractor to measure the angle below the horizontal. \n",
        "2. Determine a flow rate to test and fill the influent tube to the corresponding line labeled on the tube (covering the orifice at the bottom with a finger to fill the tube). \n",
        "3. Observe the spray and the flow down strings to try and identify preferential pathways.\n",
        "\n"
      ]
    },
    {
      "cell_type": "markdown",
      "metadata": {
        "colab_type": "text",
        "id": "Yd_GRy_7-U-X"
      },
      "source": [
        "# **Appendices**\n",
        "---"
      ]
    },
    {
      "cell_type": "markdown",
      "metadata": {
        "id": "LaELphDxGIE-",
        "colab_type": "text"
      },
      "source": [
        "## Appendix A: Python Code\n",
        "\n"
      ]
    },
    {
      "cell_type": "code",
      "metadata": {
        "id": "Cq2qbVl1GpO3",
        "colab_type": "code",
        "outputId": "e6b144d3-ce4f-4ff6-ab2f-d47bf99edba9",
        "colab": {
          "base_uri": "https://localhost:8080/",
          "height": 410
        }
      },
      "source": [
        "!pip install aguaclara"
      ],
      "execution_count": 0,
      "outputs": [
        {
          "output_type": "stream",
          "text": [
            "Requirement already satisfied: aguaclara in /usr/local/lib/python3.6/dist-packages (0.1.4)\n",
            "Requirement already satisfied: numpy in /usr/local/lib/python3.6/dist-packages (from aguaclara) (1.16.4)\n",
            "Requirement already satisfied: matplotlib in /usr/local/lib/python3.6/dist-packages (from aguaclara) (3.0.3)\n",
            "Requirement already satisfied: scipy in /usr/local/lib/python3.6/dist-packages (from aguaclara) (1.3.0)\n",
            "Requirement already satisfied: onshapepy in /usr/local/lib/python3.6/dist-packages (from aguaclara) (0.0.18)\n",
            "Requirement already satisfied: pandas in /usr/local/lib/python3.6/dist-packages (from aguaclara) (0.24.2)\n",
            "Requirement already satisfied: pint==0.8.1 in /usr/local/lib/python3.6/dist-packages (from aguaclara) (0.8.1)\n",
            "Requirement already satisfied: kiwisolver>=1.0.1 in /usr/local/lib/python3.6/dist-packages (from matplotlib->aguaclara) (1.1.0)\n",
            "Requirement already satisfied: pyparsing!=2.0.4,!=2.1.2,!=2.1.6,>=2.0.1 in /usr/local/lib/python3.6/dist-packages (from matplotlib->aguaclara) (2.4.0)\n",
            "Requirement already satisfied: cycler>=0.10 in /usr/local/lib/python3.6/dist-packages (from matplotlib->aguaclara) (0.10.0)\n",
            "Requirement already satisfied: python-dateutil>=2.1 in /usr/local/lib/python3.6/dist-packages (from matplotlib->aguaclara) (2.5.3)\n",
            "Requirement already satisfied: ruamel.yaml in /usr/local/lib/python3.6/dist-packages (from onshapepy->aguaclara) (0.16.0)\n",
            "Requirement already satisfied: requests in /usr/local/lib/python3.6/dist-packages (from onshapepy->aguaclara) (2.21.0)\n",
            "Requirement already satisfied: pytz>=2011k in /usr/local/lib/python3.6/dist-packages (from pandas->aguaclara) (2018.9)\n",
            "Requirement already satisfied: setuptools in /usr/local/lib/python3.6/dist-packages (from kiwisolver>=1.0.1->matplotlib->aguaclara) (41.0.1)\n",
            "Requirement already satisfied: six in /usr/local/lib/python3.6/dist-packages (from cycler>=0.10->matplotlib->aguaclara) (1.12.0)\n",
            "Requirement already satisfied: ruamel.yaml.clib; platform_python_implementation == \"CPython\" and python_version < \"3.8\" in /usr/local/lib/python3.6/dist-packages (from ruamel.yaml->onshapepy->aguaclara) (0.1.0)\n",
            "Requirement already satisfied: certifi>=2017.4.17 in /usr/local/lib/python3.6/dist-packages (from requests->onshapepy->aguaclara) (2019.6.16)\n",
            "Requirement already satisfied: chardet<3.1.0,>=3.0.2 in /usr/local/lib/python3.6/dist-packages (from requests->onshapepy->aguaclara) (3.0.4)\n",
            "Requirement already satisfied: urllib3<1.25,>=1.21.1 in /usr/local/lib/python3.6/dist-packages (from requests->onshapepy->aguaclara) (1.24.3)\n",
            "Requirement already satisfied: idna<2.9,>=2.5 in /usr/local/lib/python3.6/dist-packages (from requests->onshapepy->aguaclara) (2.8)\n"
          ],
          "name": "stdout"
        }
      ]
    },
    {
      "cell_type": "markdown",
      "metadata": {
        "id": "8qbmPv9QBT5b",
        "colab_type": "text"
      },
      "source": [
        "### Appendix B: Enclosed Spray Matrix Table\n",
        "| Height(m) |Flow Rate Calculated (mL/s)  | Angle(deg) | Position |Description|  \n",
        "| :---: | :---: | :---: | :---: | :---: | \n",
        "| $h_1$ | 16.62 | 30 | Front | Two streams of large droplets off sides/corners; no spray pattern |\n",
        "| $h_1$ | 16.62 | 45 | Front | Lot of stray streams; minimal spray pattern |\n",
        "| $h_1$ | 16.62 | 60 | Front | Thin spray and two streams off corner |\n",
        "| $h_1$ | 16.62 | 30 | Back | No spray random pattern of droplets |\n",
        "| $h_1$ | 16.62 | 45 | Back | Two large streams off corners |\n",
        "| $h_1$ | 16.62 | 60 | Back | No spray random pattern of droplets |\n",
        "| $h_2$ | 33.23 | 30 | Front | Two corner streams of large droplets; spray formed pretty flat otherwise, but short |\n",
        "| $h_2$ | 33.23 | 45 | Front | Flat good spray but two large streams off corners |\n",
        "| $h_2$ | 33.23 | 60 | Front | Flat good spray but two large streams off corners |\n",
        "| $h_2$ | 33.23 | 30 | Back | Two small streams off corners |\n",
        "| $h_2$ | 33.23 | 45 | Back | Thick spray, very curved |\n",
        "| $h_2$ | 33.23 | 60 | Back | Decent spray but thick and curved |\n",
        "| $h_3$ | 49.85 | 30 | Front | Two large streams coming off corner; spray is flat; notably too much water for plate width of 4cm |\n",
        "| $h_3$ | 49.85 | 45 | Front | Two streams coming off corner; spray is flat |\n",
        "| $h_3$ | 49.85 | 60 | Front | Two streams coming off corner; spray is flat |\n",
        "| $h_3$ | 49.85 | 30 | Back | Three concentrated streams; two on sides one in middle |\n",
        "| $h_3$ | 49.85 | 45 | Back | Two sprays coming off sides but not in middle |\n",
        "| $h_3$ | 49.85 | 60 | Back | Very parabola shaped spray; goes onto sides of device |\n",
        "\n",
        "$h_1$ = 0.0365 m is the equilibrium position of the water column, $h_2$ =4$h_1$ = .146 m, $h_3$ = 9$h_1$ = 0.3285 m"
      ]
    }
  ]
}