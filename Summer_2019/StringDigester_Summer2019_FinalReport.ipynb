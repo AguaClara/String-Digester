{
  "nbformat": 4,
  "nbformat_minor": 0,
  "metadata": {
    "colab": {
      "name": "StringDigester_Summer2019_FinalReport.ipynb",
      "version": "0.3.2",
      "provenance": [],
      "collapsed_sections": [],
      "include_colab_link": true
    },
    "kernelspec": {
      "name": "python3",
      "display_name": "Python 3"
    }
  },
  "cells": [
    {
      "cell_type": "markdown",
      "metadata": {
        "id": "view-in-github",
        "colab_type": "text"
      },
      "source": [
        "<a href=\"https://colab.research.google.com/github/AguaClara/String-Digester/blob/master/StringDigester_Summer2019_FinalReport.ipynb\" target=\"_parent\"><img src=\"https://colab.research.google.com/assets/colab-badge.svg\" alt=\"Open In Colab\"/></a>"
      ]
    },
    {
      "cell_type": "markdown",
      "metadata": {
        "id": "awle31N5ykbr",
        "colab_type": "text"
      },
      "source": [
        "# String Digester, Summer 2019\n",
        "#### Madeline Garell, Emily Wood\n",
        "#### 16 August 2019\n",
        "\n",
        "\n"
      ]
    },
    {
      "cell_type": "code",
      "metadata": {
        "id": "IyKCS5uLSsS2",
        "colab_type": "code",
        "colab": {}
      },
      "source": [
        "I will make comment by inserting a code block after each section in addition to the commments inside the text block. After addressing the comments, please do not delete the code block for next submission."
      ],
      "execution_count": 0,
      "outputs": []
    },
    {
      "cell_type": "markdown",
      "metadata": {
        "id": "lGzNCdLa1f38",
        "colab_type": "text"
      },
      "source": [
        "# Abstract\n",
        "The String Digester Summer 2019 subteam continued research on designing a new trickling filter to eliminate problems associated with conventional designs. Experiments this summer focused on designing a water distribution system that does not encourage preferential flow, and creating a matrix of strings using \"loopy yarn\" as the filter media. An ideal string digester would distribute water uniformly onto a large number of densely packed strings from a spray. Initial testing demonstrated that a \"good\" spray can be achieved with flow rates on the order of 10 μL/s, which is the amount needed to ensure proper cleaning by a biofilm. Initial testing found the string density resulting in the least preferential flow to be between 25 and 30 strings/cm, although more trials are needed to confirm this result. Further experimentation is also needed to improve the spray pattern geometry, and to determine if the \"loopy yarn\" is suitable for biofilm growth. The long-term goal of this team is to create an efficient wastewater treatment system that will perform secondary and tertiary treatment on domestic wastewater. "
      ]
    },
    {
      "cell_type": "markdown",
      "metadata": {
        "id": "TpShT1NO1jsq",
        "colab_type": "text"
      },
      "source": [
        "# Introduction\n",
        "\n",
        "The String Digester sub-team was created in response to the need for additional wastewater treatment after treatment from the Upflow Anaerobic Sludge Blanket (UASB) reactor. A trickling filter is a secondary wastewater treatment system that removes organic matter from the wastewater through biological means, and is crucial for the removal of harmful pathogens. The goal of the String Digester subteam is to design a new trickling filter using strings as media that addresses the expensive and inefficient nature of conventional designs. Current trickling filters utilize a large mechanical distributor arm to spray water onto filter media, which requires periodic maintenance, can clog easily, and distributes water unevenly. Other inefficiencies in trickling filter operation are caused by preferential flow in the filter media itself. \n",
        "\n",
        "[//]: <> (The last sentence on preferential flow feels out of place. I suggest eliminating the mention of preferential flow here and just state that the uneven distribution causes inefficiency since you are talking about it next paragraph anyways)\n",
        "\n",
        "When designing a new trickling filter, a priority for the subteam was following the AguaClara philosophy: plants should be designed for low cost, high performance, and accessibility. Eliminating the need for large moving parts such as the distributor arm, would reduce the energy requirements and therefore the cost of a trickling filters. Additionally, decreasing preferential flow in the filter media would improve performance, making trickling filters more competitive with other secondary treatment methods such as aeration tanks. Finally, avoiding the use of small holes susceptible to clogging was an important consideration in the trickling filter design. \n",
        "\n",
        "Strings were chosen as a filter media for several reasons. Their high surface area to volume ratio means that a large amount of water can be treated in a small space. [Research](###String-Reaeration) also shows that strings have the ability to reaerate quickly so that energy-consuming fans are not needed to reintroduce oxygen to the system. Additionally, the subteam believed that the linear geometry of a string could minimize preferential flow. \n",
        "\n",
        "The main challenge faced by the subteam was finding a way to distribute a small amount of water evenly onto a large number of strings. The subteam proposed two distribution designs. The first involved impinging a stream of water onto a deflector plate to create a spray, which would be aimed at a row of densely packed strings. The second design consisted of a basin covered with holes on the bottom which guide water onto strings hanging from them. This design involves small holes, and will therefore only be feasible to implement if a simple method for cleaning them or preventing clogging is developed. For this reason, the subteam focused on the  first design which is described in more detail as follows:\n",
        "\n",
        "[//]: <> (Explain more about the challenge before talking about the design)\n",
        "\n",
        "A peristltic pump is used to pump water through a flow accumulator and into a water column which serves as a holding container (See **Figure 1: Right**). A small orifice on the bottom of the water column releases a stream of water which is aligned directly above a deflector plate. The water impinges the deflector plate creating a spray that is aimed at a target area. This target area consists of a row of strings packed so closely together that they form a solid wall, as demonstrated in **Figure 2**.  These strings are wrapped through a 'loom' of smaller rods, forming a string matrix (**Figure 1: Left**). The water sprayed onto the target area hypothetically divides itself evenly between strings and travels through the string matrix. Organic matter is removed from the water by biofilms grown on the strings. Upon reaching the bottom of the string matrix, the water falls off into a collecting basin (not shown). **Figure 1** demonstrates this setup, however, more details will be provided in the [Methods](#Methods) section\n",
        " \n",
        "<center>\n",
        " <p style=\"text-align: center;\">\n",
        "<img src=\"https://github.com/AguaClara/String-Digester/blob/master/Summer_2019/Photos/combined_labeled_pictures.png?raw=true\" height = 350 />\n",
        "  </p>\n",
        "\n",
        "**Figure 1:** Left: A picture of the initial proposed design for a trickling filter made of densely packed strings that converge on a single main rod. Right: Converging strings lab setup showing the flow of water (blue).\n",
        "\n",
        "</center>\n",
        "\n",
        "\n",
        "<center>\n",
        " <p style=\"text-align: center;\">\n",
        "<img src=\"https://github.com/AguaClara/String-Digester/blob/master/Summer_2019/Photos/Converging_strings_wallofStrings.JPG?raw=true\" height = 250 />\n",
        "  </p>\n",
        "  \n",
        "**Figure 2:** This image shows a row of strings wrapped around a main rod so tightly a 'wall of strings' is formed.\n",
        "\n",
        "  </center>\n",
        "  \n",
        "[//]: <> (Consider labeling the figure)\n",
        "  \n",
        "  \n",
        "The model described above address many of the issues with conventional trickling filters. With the exception of the orifice, the design does not include any small holes that can clog. Additionally, it does not involve any large moving mechanical parts, which are expensive and difficult to maintain. Concern remains, however, that preferential flow will limit the efficiency of this design. Additionally, research needs to be conducted to determine how to produce a good spray pattern, and the minimum flow rate at which that spray pattern can be achieved. "
      ]
    },
    {
      "cell_type": "markdown",
      "metadata": {
        "id": "4gfgHIlZ2Evd",
        "colab_type": "text"
      },
      "source": [
        "# Literature Review\n",
        "## Trickling Filters\n",
        "[//]: <> (Write literature review in past tense unless it's a fact or a theory, for example, someone stated not states)\n",
        "The filter media in a conventional trickling filter is usually a material such as rocks, gravel, shredded PVC bottles, or special pre-formed plastic filter media. Because all these materials are not regularly shaped and wastewater is not distributed exactly equally across the top of the media, the water follows the paths of least resistance and preferential flow occurs. To clarify, preferential flow occurs when water repeatedly follows a specific pathway through the filter media opposed to others.Thus, there is wasted space in the filter that remains dry and unused, and this is space ineffeicient. Spuhler recommended using specially manufactured plastic media, like corrugated plastic sheets or even hollow plastic cylinders, to optimize surface area for biofilm formation and allow for free movement of air [(Spuhler 2018)](https://www.sswm.info/node/8215).\n",
        "\n",
        "In addition to non-homogenous distribution of wastewater throughout the filter, there is significant documentation of other problems plant operators experience when dealing with trickling filters. Ali and co-authors stated that one major problem is clogging and ponding occurring within the filter media due to high biomass sloughing rate. In the context of a trickling filter, sloughing refers to when a layer of the microbial growth loses the ability to stay attached and is shed from the filter media and washed away by water flow. If the layer of biofilm is not maintained at a desired thickness, treatment performance will decrease. Clogging results in a decreased efficiency of treatment and if it is not addressed, the quality of the effluent will suffer. Current solutions include flashing with low doses of chlorine to remove deposited solids and kill excess biomass or periodic flooding [(Ali et al. 2017)](http://www.pjoes.com/pdf/26.6/Pol.J.Environ.Stud.Vol.26.No.6.2431-2444.pdf). The team aims to avoid the problem altogether by using a media that will not clog, however it is still an important factor to consider in the design, because any small slots or holes that the wastewater travels through in the system has the potential to clog with biofilm growth.\n",
        "\n",
        "Ali also stated that the aforementioned sloughing and clogging is often caused by uneven hydraulic loading rates (HLR). Hydraulic loading rate is the amount of flow arriving at the treatment plant and entering the treatment process at any given time. Uneven HLR is caused by clogging of the distribution arm and an uneven distribution of influent. Therefore, proper distribution of wastewater onto the filter media is crucial for optimizing efficiency of treatment. The most common method of influent distribution is rotating distributors. Rotating distributors consist of moving parts that require more maintenance and may be a burden in a plant to operators. \n",
        "\n",
        "The less common method of distribution, the fixed distribution system as seen below (**Figure 3**), utilizes lateral and main distribution pipes, which are placed just above the trickling filter medium and spaced to give uniform distribution of water. The pipes generally have nozzles with a circular hole and a deflector. This method is commonly used with intermittent dosing, meaning flow from the system varies; it starts at a maximum and lowers as the tank empties. Currently, fixed distribution systems are mostly used in deep filter and biotowers (i.e. very tall filters). Since this method is non-rotating, it may be more applicable for the proposed use of a string media. However, Sperling and colleagues showed that both the fixed and rotating distribution systems have an inconsistent hydraulic load of the influent [(Sperling 2007)](https://www.iwapublishing.com/sites/default/files/ebooks/9781780402123.pdf). Therefore, the distribution system is another area where there is huge potential for the team to increase the productivity of trickling filters.\n",
        "\n",
        "<center>\n",
        "\n",
        "![Fixed Distribution System](https://github.com/AguaClara/String-Digester/blob/master/Spring%202019/Images/Fixed%20Distribution%20Trickling%20Filter.gif?raw=true)\n",
        "\n",
        "**Figure 3.** Trickling filter with a fixed distribution system.\n",
        "\n",
        "</center>\n",
        "\n",
        "Although there are multiple problems with trickling filters, one main advantage of trickling filters is that they have a relatively low residence time. This is a consideration which the team should plan to maintain in future designs. Hinton and Stensel measured residence time per unit length of between 30 and 40 sec/m with dye tests. Their predicted residence times, calculated from laminar flow theory, were closer to about 15 sec/m. The authors attributed this discrepancy to \"dye sorption and desorption by the biofilm.\" In either case, the residence time for a 5 meter deep trickling filter would be well under 5 minutes [(Hinton and Stensel 1991)](https://ac.els-cdn.com/0043135491901179/1-s2.0-0043135491901179-main.pdf?_tid=e8d2db22-8e0f-4d3c-a421-352ef74e6f5e&acdnat=1540500088_4808114af12660c061fbd139ac0fbd33). This short treatment time makes trickling filters an appealing wastewater treatment option if problems such as uneven HLR and clogging can be minimized.\n",
        "\n",
        "[Above review of current trickling filters adapted from [Spring 2019 Final Report](https://github.com/AguaClara/String-Digester/blob/master/Spring%202019/String_Digester_Final_Report.md)]\n",
        "\n",
        "## Water Distribution\n",
        "Uniform water distribution is essential for many applications such as irrigation and water treatment. One common method for distributing water over a relatively large area is using a spray. There are several different methods for creating a spray, two being the Fixed Spray Plate Sprinklers (FSPS) and Rotating Spray Plate Sprinklers (RSPS). A comparative study conducted by [Faci et al. (2001)](https://ascelibrary.org/doi/pdf/10.1061/%28ASCE%290733-9437%282001%29127%3A4%28224%29) found that both methods resulted in a highly uniform distribution, with RSPS slightly more uniform than FSPS (94.6% versus 93.7%). While the study also focused on the effect of wind and overlapping sprinkler arrays, the methods and materials of the sprinklers are more applicable to this report.\n",
        "\n",
        "The FSPS design involves a water jet impinging on a fixed deflector plate, which then sprays water radially outward in the horizontal plane. The RSPS differs in that the deflector plate rotates when hit with the water jet. The nozzle diameters used in the study for both the FSPS and the RSPS were 3.8, 6.7, and 7.9mm. The deflector plate is what creates the spray pattern, and different deflectors can result in sprays at different angles. For the FSPS, the deflector had 33 grooves which resulted in flow being divided into 33 streams for the 3.8mm nozzle. One note from the study was that as the number of grooves in the deflector plate is increased, the drop size (for a set pressure and nozzle diameter) decreases [(Kincaid et al. 1996)](https://elibrary.asabe.org/azdez.asp?JID=3&AID=27568&CID=t1996&v=39&i=3&T=1&refer=7&access=&dabs=Y).\n",
        "\n",
        "For each of the sprinkler types, the distribution pattern was observed in varying wind conditions (low wind and medium wind) and with the sprinkler at different heights (1m and 2.5m) above the ground. Figure 2 shows that the RSPS results in a distribution with the highest density at the center (directly under the sprinkler) with the water density decreasing gradually as the radius from the center increases. However the FSPS results in a maximum density in a circular crown several meters from the center where the sprinkler is located. This difference in precipitation patterns is caused by the variation in the size of droplets from an RSPS (which can travel a wide range of distances depending on droplet diameter) compared with the relatively uniform droplet size from an FSPS.\n",
        "\n",
        "<center>\n",
        "\n",
        "<img src=\"https://github.com/AguaClara/String-Digester/blob/master/Summer_2019/Photos/FSPS_v_RSPS%20distribution.png?raw=true\" height = 350 />\n",
        "\n",
        "**Figure 4.** Water distribution from RSPS and FSPS sprinklers in different wind conditions at different heights.\n",
        "\n",
        "</center>\n",
        "\n",
        "[Faci et al. (2001)](https://ascelibrary.org/doi/pdf/10.1061/%28ASCE%290733-9437%282001%29127%3A4%28224%29) described how varying sprinkler head height causes changes in water distribution. As the sprinkler height from the ground increases, the total wetted area increases as drops emitted in the horizontal direction are able to travel a longer distance. However, drops traveling further have a tendency to drift or evaporate causing less uniformity in the sprinkler distribution, especially at higher wind speeds.\n",
        "\n",
        "While sprinklers create a uniform spray pattern that can be manipulated by varying parameters such as droplet size, nozzle diameter, and sprinkler height, sprinklers also require small orifices and large water velocities which may not be feasible with wastewater and potential clogging from biofilm growth. However the methods used to spray water outward in the radial direction could be useful when designing a system to spray water in a specific pattern, such as a straight line, and the methods used to split a water stream into several smaller jets may be applicable to future string digester designs.\n",
        "\n",
        "## Orifice\n",
        "Torricelli's principle relates the velocity of water exiting an orifice, *v*, with water height, *h*, above the orifice; *g* is acceleration due to gravity. \n",
        "\n",
        "#### Equation 1: $$v = \\sqrt{2gh}$$ \n",
        "\n",
        "Multiplying this relation by the area of the orifice and a constant called the vena contracta, $\\pi_{vc}$, gives the flow rate of water through the orifice. The vena contracta is a constant that takes into account the narrowing of the water stream as it exits the orifice, and typically has values on the order of 0.62.\n",
        "\n",
        "#### Equation 2: $$Q = \\pi_{vc}A_{orifice}\\sqrt{2gh}$$ \n",
        "\n",
        "This relation was used to calculate the height of water necessary to produce a particular flow rate, given an orifice size. [Python code](##Python-Code) was written to perform such calculations. Additionally this relation can be used to calculate the total flow rate needed to serve a particular population, given that each person needs about [300 strings](###Number-of-Strings-Needed-to-Support-a-Small-Population) and there is a maximum flow rate of 10𝜇L/s per string.\n",
        "\n",
        "## Biofilm Growth\n",
        "A component of the string digester that is crucial to its success is the growth of biofilms on the strings. \"A biofilm is an assemblage of microbial cells that is irreversibly associated (not removed by gentle rinsing) with a surface and enclosed in a matrix of primarily polysaccharide material.\" [(Donlan 2002).](https://www.ncbi.nlm.nih.gov/pmc/articles/PMC2732559/) Biofilm attachment is a complex process regulated by diverse characteristics of the growth medium, substratum, and cell surface. Biofilm on trickling filters is composed of a variety of organisms and are typically enclosed in a polysaccharide. The biofilm matrix may also contain mineral crystals, corrosion particles, and clay or silt particles. In conclusion, biofilms in wastewater systems are often highly complex [(Donlan 2002).](https://www.ncbi.nlm.nih.gov/pmc/articles/PMC2732559/)\n",
        "\n",
        "Some testing has been done of the growth of biofilm in different surfaces. One study compared growth on glossy electro-polished, bright annealed stainless steel to matte stainless steel and to PVC. The paper notes that stainless steel is hydrophilic and PVC is hydrophobic. In the last 45 days of the 167 day experiment, the matte steel had about 1.44 times more microorganisms than the electro-polished steel, and there was no significant difference between the PVC and polished steel. In discussion of why this occurs, Pedersen cites two reasons: \"detachment due to shear forces from the flow will be reduced on the rougher surface since cells can be shielded from the bulk flow and more substratum surface area may be available for the biofilm\" [(Pedersen 1990).](https://www.ncbi.nlm.nih.gov/pmc/articles/PMC2732559/)\n",
        "\n",
        "[Above review of biofilm from [Spring 2019 Final Report](https://github.com/AguaClara/String-Digester/blob/master/Spring%202019/String_Digester_Final_Report.md)]\n",
        "\n",
        "## String reaeration\n",
        "For strings to be a viable filter media in a string digester, the wastewater being treated must be exposed to a sufficient amount of oxygen. This is because biofilms consume oxygen in the process of breaking down organic material. Whether reaeration occurs as water flows slowly down a string is an important question Krasnoff and Lee answered in their report [Potential Aeration of Water Trickling Down a String](https://github.com/monroews/CEE3530/blob/master/Projects/2019/1Project.pdf). The experiments performed in this investigation into the aeration of water as it flows down a string included testing two different types of string - a flat string and a loopy yarn. By observing dissolved oxygen (DO) levels for varying amounts of chemical oxygen demand (COD) from $Na_{2}SO_{3}$, it was concluded that aeration can occur when water trickles down both the flat string and the loopy yarn. \n",
        "\n",
        "A second set of trials where the COD level was kept constant at 200 mg/L tested the aeration potential at three different flow rates. As expected the slowest flow rate resulted in the highest levels of DO since the water had the most time for aeration to occur on the string. In each case, the loopy yarn had higher levels of DO and it was shown that the loopy yarn still allowed for significant aeration at high flow rates whie the flat string did not (reaeration of the loopy yarn occurred for flow rates ranging from 1.75 to 17.2 μL/s). This means the loopy yarn is a more promising string digester filter media because a higher flow rate will increase the efficiency of the reactor without sacrificing the treatment. The higher rate of aeration in the yarn is attributed to it being hydrophilic and having \"loops\" that allow water drops to briefly collect. Because of this decreased flow rate and ability to reaerate, the loopy yarn was chosen over other materials tested by previous subteams (See [Previous Work](#Previous-work) for more details on these materials) to be used in Summer 2019 experiments. \n",
        "\n",
        "The results from these experiments showed that strings have the ability to reaerate naturally as water flows down them without needing an external source of air movement, such as with a fan. The type of string, the flow rate, and the level of COD are other variables that were proven to impact the degree of aeration and further tests with these parameters in mind would potentially lead to an ideal material and flowrate to consider for a working wastewater treatment plant. While the loopy yarn is promising in lab conditions, the biodegradability of acrylic yarn is something to consider. Under the conditions of a string digester, each strand of filter media will need to withstand a near constant flow of wastewater as well as host a biofilm for proper treatment. Further research into the effects of biofilm growth on several materials with the same \"loopy\" properties as the yarn will be needed. \n",
        "\n",
        "## Number of Strings Needed to Support a Small Population\n",
        "\n",
        "The [2010 World Water Day Fact Sheet](https://pacinst.org/wp-content/uploads/2013/02/water_quality_facts_and_stats3.pdf) reported an annual wastewater production of 1500 km^3 in 2003. For a  6.4 billion population in 2003, this translates to a waste water production rate of 7.50 mL/s per person. A more recent [source](https://www.researchgate.net/publication/283744445_Global_Wastewater_and_Sludge_Production_Treatment_and_Use) from 2015 reported a municpal wastewater production of 330 km^3. With a world population of 7.2 billion at in 2015, this corresponds to a wastewater production rate of 1.4 mL/s per person. \n",
        "\n",
        "To investigate the feasibility of using strings as a filter media, the subteam calculated the number of strings needed to support the population of a small town of 10,000 people. Professor Weber-Shirk estimated that the average human creates wastewater at a rate of 3 mL/s, or 3000 microliters/second. The research in the above paragraph supports this estimate, as the calculated values are on the same order of magnitude. If the flowrate down each string is 10 microliters per second, each person would need 300 strings to keep up with their own wastewater production. Therefore a population of 10,000 people would need a trickling filter composed of 3 million strings.\n",
        "\n",
        "[//]: <> (Thorough previous work, great job! but i think you can combine next section in this)"
      ]
    },
    {
      "cell_type": "markdown",
      "metadata": {
        "id": "OOkEV8L0lWoE",
        "colab_type": "text"
      },
      "source": [
        "# Previous Work \n",
        "[//]: <> (Write previous work in a general form instead of separating by semester. I think writing it by semester makes the flow more discontinuous. Summarize the main points of the semester by the importance of their findings and how they influenced this summer's work)\n",
        "\n",
        "The String Digester team began by researching the operational difficulties, kinetics, and typical design parameters of trickling filters in Spring 2018 ([Spring 2018 Final Report](https://github.com/AguaClara/String-Digester/blob/master/Spring%20'18/TricklingFilter_Final_Report.md)). The two main areas for improvement the team identified were the filter media itself and the distribution system. The team fabricated a bench top model for flow mapping and conducted several rounds of tests to determine the distribution of flow in trickling filters with small rock and marble media. In an effort to maximize the surface area to volume ratio and minimize the preferential flow observed with traditional filter media, the team shifted focus towards strings. This concept led the team to start with very preliminary testing of an overflowing basin model.\n",
        "\n",
        "The next two semesters, the team continued experimentation with the overflowing basin and focused on trying to find an ideal material to use as the filter media. Nylon, polypropylene, and a stainless steel wire and cable were tested, however none of the materials performed well on the basin set-up as the water did not follow the strands due to their hydrophobicity. [(Fall 2018 Final Report, ](https://github.com/AguaClara/String-Digester/blob/master/Fall%20'18/Final_Report_stringdigester.md)  [Spring 2019 Final Report)](https://github.com/AguaClara/String-Digester/blob/master/Spring%202019/String_Digester_Final_Report.md) The subteam eventually identified the Dacron string as having the most potential for a string digester in terms of residence time and viability for biofilm growth. Finally, the subteam calculated the theoretical efficiency (BOD removal per unit area) of a string digester and found that it compared with or exceeded traditional low-rate and high-rate trickling filters.\n",
        "\n",
        "As discussed in the [Literature](#String-Reaeration) section, Krasnoff and Lee tested the reaeration capacity of the loopy yarn and found that reaeration occurred for flow rates ranging from 1.75 to 17.2 μL/s, whereas flat string did not demonstrate strong reaeration at higher flow rates. Therefore, the loopy yarn was used for experiments this semester and the team focused on spray and flow patterns rather than choosing a filter media.  \n",
        "\n"
      ]
    },
    {
      "cell_type": "markdown",
      "metadata": {
        "id": "a7POfNmj2Gr7",
        "colab_type": "text"
      },
      "source": [
        "# Methods\n",
        "[//]: <> (Write this entire section in passive voice)\n",
        "\n",
        "In the summer 2019 semester, design parameters for the trickling filter were researched and a prototype was built for initial testing. Two designs were considered as outlined in the [Introduction](#Introduction) section: a converging strings design, and a basin with holes design. Specifically, the maximum angle needed to keep water on a the loopy yarn, the minimum flow rate to produce a 'good' spray, and the maximum string density possible were addressed. These design questions, among others, will be elaborated on in the following paragraphs.\n",
        "\n",
        "\n",
        "\n",
        "\n",
        "\n",
        "\n",
        "\n",
        "\n",
        "\n"
      ]
    },
    {
      "cell_type": "markdown",
      "metadata": {
        "id": "m8p8W_x4y3zX",
        "colab_type": "text"
      },
      "source": [
        "## Determining Design Parameters"
      ]
    },
    {
      "cell_type": "markdown",
      "metadata": {
        "id": "2ccUVE49y03t",
        "colab_type": "text"
      },
      "source": [
        "### Maximum flow rate on each string\n",
        "\n",
        "Previous research conducted by members of CEE 4530 used flow rates ranging from 1.75 to 17.2 microliters/second to test the aeration of water on the loopy yarn. This was used as a basis for selecting 10  μL/s  as the maximum flow rate on each string. Additionally, this number was consistent with the low flow rates calculated by the Spring 2019 subteam needed to achieve a 15 minute residence time. "
      ]
    },
    {
      "cell_type": "markdown",
      "metadata": {
        "id": "7Op581Mmyyxu",
        "colab_type": "text"
      },
      "source": [
        "###  Maximum angle needed to keep water on a string\n",
        "\n",
        "The converging strings design requires water to drip down strings displaced at an angle from the vertical position. It was hypothesized that there is a maximum string angle beyond which the force of gravity overcomes the adhesion of water to the string, causing the water to fall off the string prematurely instead of flowing all of the way down to the end.\n",
        "\n",
        "To investigate this property, approximately 2 feet of loopy yarn were hung vertically from a support rod. The peristaltic pump was used with microtubing at 75.0 RPM to supply water to the top of the string, just below the rod. The flow of water was observed as the string was gradually pulled outwards, forming an angle (θ) between the string's original and current position, as seen in **Figure 5** below. The angle theta was varied from 0 degrees to slightly less than 90 degrees (about 85 degrees).\n",
        "\n",
        "<center>\n",
        "<p style=\"text-align: center;\">\n",
        "<img src=\"https://github.com/AguaClara/String-Digester/blob/master/Summer_2019/Photos/Diagrams/maximum_angle_needed_to_keep_water_on_string.PNG?raw=true\" height = 350 />\n",
        " </p>\n",
        "\n",
        "**Figure 5:** This diagram shows a string (double solid line) hanging at an angle from a support rod (grey rectangle). The angle phi was measured and used to calculate the angle theta via the equation  in red. The dotted line indicates the original (vertical) position of the string before it was pulled outwards. \n",
        "</center>"
      ]
    },
    {
      "cell_type": "markdown",
      "metadata": {
        "id": "yygiOtC9ywwR",
        "colab_type": "text"
      },
      "source": [
        "### Number of Strings that Fit on 1 cm of a Rod\n",
        "\n",
        "The maximum density that the loopy yarn could be packed without overlapping was acquired experimentally by tightly wrapping it around a thin rod until it coverd 1 cm of the rod's length. \n",
        "\n"
      ]
    },
    {
      "cell_type": "markdown",
      "metadata": {
        "id": "aUjYVa1-yt7Z",
        "colab_type": "text"
      },
      "source": [
        "### Minimum Spacing Between Strings\n",
        "\n",
        "Several factors were considered when choosing the initial spacing between strings. Due to the vast number of strings required to support a small town, the subteam needed to pack the strings as densely as possible to improve space efficiency. However, if the strings were too close, water droplets could potentially switch from one string to another mid-flow, leading to preferential pathways. The size of a water droplet was estimated to be about 3 mm in diameter. Therfore a string spacing of 5 mm was chosen to avoid unwanted string interaction. "
      ]
    },
    {
      "cell_type": "markdown",
      "metadata": {
        "id": "7-Bxv6phynqO",
        "colab_type": "text"
      },
      "source": [
        "### Testing Deflector Plate Geometries\n",
        "[//]: <> (what diameter of pipe)\n",
        "\n",
        "Several materials and geometries were tested for use as a deflecting plate. These included PVC pipes cut in half and quartered (producing semi-cylinders with a 5 cm inner diameter), PVC sheets of different thicknesses and widths, a bottle to test a cylindrical shape, and a modified spoon. For specific dimensions of these materials, please reference the [manual](#Deflector-Plate-Experiments) section. These materials were tested by placing them under running water from the sink and observing the quality of the spray. They were visually evaluated on spray uniformity and width.\n",
        "\n",
        "Additionally, a 'sprinkler head' was fabricated as another deflector plate design. The bottom of a nalgene bottle was removed with a bandsaw. Thin, vertical cuts were made around circumference of the bottle bottom to replicate a Fixed Spray Plate Sprinkler as described in the [Literature Review](#Water-distribution). \n",
        "\n",
        "Small scale testing of the experimental apparatus required the width of the spray to be limited while also maintaining a good pattern. A plastic spoon was tested as a deflector plate with about 1/3 of the \"bowl\" part cut off. This seemed like a viable option, since the curvature of the spoon replicated the curvatue of the 1/4 PVC pipe tested previously. The subteam also tried testing a ladle with 1/2 of the \"bowl\" part cut off, to see if the width of the spray could be controlled by adjusting the size of the spoon. "
      ]
    },
    {
      "cell_type": "markdown",
      "metadata": {
        "id": "EEqD7UGMyky9",
        "colab_type": "text"
      },
      "source": [
        "### Minimum Flow Rate Needed to Produce a 'Good' Spray\n",
        "\n",
        "The residence time of water on a string could be controlled by either altering the length of each string or the flowrate of water. Using increasingly longer strings to lengthen the residence time is problematic, because a taller filter requires more energy to transport the water to the top for cleaning. Therefore it is important to minimize the flow rate of the spray in order to have more control over the residence time. \n",
        "\n",
        "A good spray pattern was defined as being composed of small droplets uniformly spaced over a large area.  \n",
        "\n",
        "The laboratory sink was first used to identify a baseline flow rate that would produce a 'good' spray. A flat sheet of plastic approximately 1 inch in width was held under the faucet as a deflector plate such that the water stream struck the middle of the plate. The same deflector plate was used for all experiments to follow unless noted otherwise. The strength of the faucet was adjusted until a wide, flat, and even spray was formed. The strength of the faucet was decreased gradually until the water spray could no longer be defined as 'good'. At this point, the deflector plate was removed and the flow rate of the sink was measured by timing how long it took to fill up a 3 liter container. The volume was divided by the time to obtain the flow rate in L/s. This measurement was repeated for a total of 3 times, and the trials were averaged.\n",
        "\n",
        "With this baseline flowrate in mind, an apparatus was built to replicate the spray pattern using water flow due to gravity through an orifice. The end of a clear PVC tube was covered with a hard plastic sheet and glued to form a watertight seal. Four different diameter holes were drilled into the PVC sheet: 7/32\" (5.56 mm), 15/64\" (5.95 mm), 17/64\" (6.75 mm), and 3/8\" (9.53 mm). Any hole that was not being used for a particular trial was temporarily sealed with waterproof tape. The PVC tube, or 'water column' as it will now be referenced as, was measured and marked every centimeter along its length.\n",
        "\n",
        "Using the 9.53 mm orifice, [python code](##-Appendix-A:-Python-Code) utilizing [Equation 2](##Orifice) was used to calculate the height of water needed in the column to obtain the same flow rate that was used in the sink: 0.1160 L/s. The water column was filled beyond this height and centered over the deflector plate. The spray pattern was observed when the water level reached the calculated height of 28.9 cm.\n",
        "\n",
        "#### Decreasing Flow Rate\n",
        "\n",
        "The subteam wanted to know if a reasonable spray pattern could be produced with an even lower flow rate from the orifice. Decreasing the flowrate was desirable due to the limitation on the number of strings that could be packed into a finite space. With the current flow rate of 0.1160 L/s, a total of 11,600 strings would need to be used to achieve a maximum flow rate of 10 microliters/second per string. With 5 mm spacing between strings, this would cover a square area with 38.1 cm side lengths.\n",
        "\n",
        "The remaining orifice sizes were tested with different flow rates and water heights. The combinations of orifice size, flow rate, and water column height tested are shown in Table 1 below. Due to unnecessary rounding of orifice diameters when using Equation 2, errors existed when calculating the water height needed to achieve a flow rate of 0.05798 L/s. The last column of the table shows the corrected height calculated after experimentation using more precise orifice measurements.\n",
        "\n",
        "**Table 1:** This table shows the combinations of orifice sizes and water heights used to test the spray patterns of lower flow rates. \n",
        "\n",
        "|Trial |Orifice Diameter [mm]|Flow Rate [L/s]|Water Height [cm]| Height Correction [cm]|\n",
        "|:---:|:---:|:---:|:---:|:---:|\n",
        "|1| 6.72  | 0.05798  | 35.5  | 34.9 |\n",
        "|2| 6.72 | 0.03866  | 15.8 | correct  |\n",
        "|3| 5.56   | 0.039374 |  35.0 |  correct |\n",
        "|4| 5.95  | 0.030079  | 15.5  |  correct |\n",
        "\n",
        "For trials 1 and 2, the desired flow rate was initially chosen and the corresponding height of the water column was caluclated. For Trials 3 and 4, the orifice size was pre-selected. The water column was filled to the top and then drained over the deflecting plate. The height of the water in the column was recorded at the last point at which the spray pattern was 'acceptable'. This water height was used to calculate the corresponding flow rate with Equation 2. Additionally, in Trial 4, two different distances between the orifice and the deflecting plate were used: 11 cm and 25 cm. \n",
        "\n",
        "#### Varying water velocity\n",
        "\n",
        "The minimum flow rate to produce a good spray was found to be approximately 0.035 +/- 0.005 L/s. However, these calculations neglected to consider the effect of velocity on spray pattern. It was hypothesized that the same quality of spray could be achieved at a lower flow rate by increasing the velocity of water hitting the deflector plate. The velocity of the water was increased by extending the time and distance that it fell from the orifice before hitting the deflecting plate. As the water velocity was more difficult to measure directly, an experiment was conducted to determine the ideal distance between the orifice and deflecting plate.\n",
        "\n",
        "The spray pattern produced by the water column was video recorded as it was repeatedly filled and emptied, with different orifice-deflecting plate distances. Distances of 10, 20, 30, 40, and 50 cm were used with a constant orifice diameter of 5.95 mm. The water height was read off of the PVC tube while it was emptied so that the spray pattern in the video could be associated with a particular flow rate via [Equation 2](##Orifice). A tape measure was laid down in the plane of water spray so that the size of the spray could be compared between trials. The videos were analyzed by identifying the water height at which the spray pattern could no longer be defined as 'good'. [Python code](##-Appendix-A:-Python-Code) incorporating Equation 2 was written to calculate the flow rate associated with these water heights.\n",
        "\n",
        "\n",
        "\n"
      ]
    },
    {
      "cell_type": "markdown",
      "metadata": {
        "id": "dISMhHOrye5Z",
        "colab_type": "text"
      },
      "source": [
        "### Minimizing water impact location area\n",
        "\n",
        "The location at which water exiting the orifice strikes the deflector plate is important, because it influences the shape of the resulting spray pattern. This point was defined as the 'impact location'. In order to get a consistent, high-quality spray pattern, the impact location must be extremley precise, meaning that it does not move from the target location. If it does move, the total area that it strikes should be minimized. \n",
        "\n",
        "It was suspected that turbulence in the water column was creating inconsistency in impact location. When the effluent tubing from the peristaltic pump was above the water level in the column,  many bubbles formed and splashing occurred. However, submerging the effluent tubing into the water reduced this turbulence significantly.  \n",
        "\n",
        "To observe and quantify how the impact location varied, a circular 'bulls-eye' target was drawn on a flat sheet of plastic and placed 18.5 cm under the orifice. The peristalitc pump was used to supply a constant flow of water to the column placed on an elevated surface, and the impact location was observed over time when the effluent tube was both submerged and above the water level in the column. The approximate area impacted by water in each scenario was compared and videos were taken of both trials.\n",
        "\n",
        "Several other parameters were considered that may cause changes in the impact location on the deflector plate: flow rate, orifice size, distance between orifice and deflector plate, and pulsing from the peristaltic pump. Since the flow rate and orifice size were already limited by the number of strings and the potential for clogging, the effect of the peristaltic pump on the impact location was explored.\n",
        "\n",
        "To eliminate the pulsing behavior, a flow accumulator (or pressure attenuator) was installed after the perisistaltic pump, but before the water column. Afterwards, the consistency of the impact location was retested using the bulls-eye target procedure. \n",
        "\n",
        "\n"
      ]
    },
    {
      "cell_type": "markdown",
      "metadata": {
        "id": "f31VkLyOyVrC",
        "colab_type": "text"
      },
      "source": [
        "### Preferential Flow Experiments\n",
        "\n",
        "#### Preliminary Testing\n",
        "\n",
        "The subteam wanted to know if red dye could be used to determine how much water flowed down each string. It was hypothesized that strings exposed to the red dye longer would be darker in color. Three strings were submerged in a container of red dye solution for 10 seconds, 1 minute, and 5 minutes. Afterwards the color of the strings was compared.\n",
        "\n",
        "#### String Density vs. Water Distribution\n",
        "\n",
        "An experiment was conducted to explore the relationship between the density of strings on the main rod, and the fraction of strings that receive water. Previously, it was observed that too few strings caused water to preferentially flow to the right side of the matrix, while too many strings caused water to preferentially flow to the left side of the matrix. It was hypothesized that an ideal string density exists that would maximize the percentage of strings receiving water.\n",
        "\n",
        "The subteam attempted to find this ideal string density, by gradually increasing the number of strings wrapped on a fixed length of the main rod. Densities of 12, 18, 22.5, 24, and 30 strings/cm were used. For each trial, a red-dye solution was dripped onto the string target area and the number of strings that water travelled down was recorded. The strings were categorized on a scale of 0 to 2. Zero indicated no flow (a completely white string), one indicated partial flow (part of the string was red or pink), and two indicated full flow (the entire string was red). To clarify, only the string between the two sets of beaded rods was used in this analysis, as seen in **Figure 6**\n",
        "\n",
        "<center>\n",
        "<p style=\"text-align: center;\">\n",
        "<img src=\"https://github.com/AguaClara/String-Digester/blob/master/Summer_2019/Photos/Converging_strings_3rods_middleStrings.jpg?raw=true\" height = 350 />\n",
        " </p>\n",
        "\n",
        "**Figure 6:** Only the middle portion of the string matrix, indicated by the red box, was taken into account when determining if water had flowed down the string.\n",
        "</center>\n",
        "\n",
        "#### Concentrated Dye Test\n",
        "\n",
        "An alternative method was used to observe preferential flow in the string matrix. For this procedure, a high concentration of red dye was applied to the string target area and about 5 mL of water was added above it using a pipette. Pictures were taken to record the subsequent pattern of red dye that flowed down the strings."
      ]
    },
    {
      "cell_type": "markdown",
      "metadata": {
        "id": "HooTUi-fyStq",
        "colab_type": "text"
      },
      "source": [
        "## Experimental Apparatus"
      ]
    },
    {
      "cell_type": "markdown",
      "metadata": {
        "id": "ZcYJhUQEyPc9",
        "colab_type": "text"
      },
      "source": [
        "### Converging Strings Design\n",
        "\n",
        "#### Initial Design \n",
        "\n",
        "In order to create a more efficient trickling filter, the subteam needed to design a matrix of strings that minimized preferential flow while packing the strings as densely as possible.\n",
        "\n",
        "A design was proposed in which the strings would be wrapped around a 'loom' of rods, using beads as a separator between strings on each rod (**Figure 7**). Each loop of string would be wrapped as compactly as possible around a large central rod where water would be sprayed (**Figure 8**).\n",
        "\n",
        "<center>\n",
        "  \n",
        "  \n",
        "  <p style=\"text-align: center;\">\n",
        "<img src=\"https://github.com/AguaClara/String-Digester/blob/master/Summer_2019/Photos/Converging_strings_bead_separation.JPG?raw=true\" height = 250 />\n",
        "  </p>\n",
        " \n",
        " **Figure 7:** Beads threaded onto the rods separate the strings and tension holds them in place\n",
        "\n",
        "<p style=\"text-align: center;\">\n",
        "<img src=\"https://github.com/AguaClara/String-Digester/blob/master/Summer_2019/Photos/Converging_strings_TopLeftView(1).JPG?raw=true\" height = 250 />\n",
        "  </p>\n",
        " \n",
        " **Figure 8:** All strings in the matrix converge to one main rod, where water would be sprayed.\n",
        "  \n",
        " \n",
        "  </center>\n",
        "   \n",
        "To fabricate the string matrix, two rows of holes were drilled in a piece of plywood approximately 10 cm apart. Each row contained 16 holes with 5 mm spacing. Thin rods were inserted into each hole and threaded with 8 beads that were 5 mm in diameter. The top bead was glued in place. Two additional holes were drilled about 10 cm above the top row and another one about 10 cm below the bottom row as seen in **Figure 9**. A threaded rod was inserted into each hole and secured with a nut and washer on either side of the plywood. These rods were covered with 1/4\" NPT hard plastic tubing to provide a smooth surface for the strings to rest on. The end of the loopy yarn was taped to the backside of the plywood and the rest of the string was wrapped around the system of rods according to **Figure 10** to form a matrix.\n",
        "\n",
        "<center>\n",
        "  <p style=\"text-align: center;\">\n",
        "<img src=\"https://github.com/AguaClara/String-Digester/blob/master/Summer_2019/Photos/Converging_strings_matrix(1)_labeled.jpg?raw=true\" height = 450 />\n",
        "  </p>\n",
        "  \n",
        "  **Figure 9:** This diagram shows a front view of the experimental set-up used for preferential flow trials before wrapping the string. \n",
        "\n",
        "  <p style=\"text-align: center;\">\n",
        "<img src=\"https://github.com/AguaClara/String-Digester/blob/master/Summer_2019/Photos/winding_pattern_labeled.JPG?raw=true\" height = 450 />\n",
        "  </p>\n",
        "  \n",
        "  **Figure 10:** This diagram shows the pattern in which string was wrapped around the matrix. Steps 1-8 (indicated by the red arrows) were repeated across the entire row of rods moving left to right. The second layer was wrapped from right to left. This direction alternated for each subsequent layer.  \n",
        "  \n",
        "  </center>\n",
        "  \n",
        "  A peristaltic pump, flow accumulator, water column, and deflector plate were installed as described in the  [Introduction](##Introduction) section, to achieve the setup in **Figure 1**   \n",
        "\n",
        "\n",
        "#### Modified Design \n",
        "After running initial experiments, some design changes were made to the apparatus. Adding a third rod at the top of the setup (in the same way the rods in the initial design were fabricated) not only made the wrapping process easier but also created a flatter \"target area\" between the first and second rods for the spray. In the original design the spray was aimed at the main rod, which both was a small area to accurately direct the spray onto and led to preferential flow due to the peaks and troughs. However, in the new design the spray is aimed at a larger area where the strings create a flat surface.\n",
        "\n",
        "For experiments using both setups, a large plastic bucket was placed under the apparatus to collect water."
      ]
    },
    {
      "cell_type": "markdown",
      "metadata": {
        "id": "JWjzJtP0yKkT",
        "colab_type": "text"
      },
      "source": [
        "### Basin with Holes Design\n",
        "\n",
        "An alternative water distribution system was designed and tested. It consisted of a small open-faced basin (**Figure 11**) with thirteen holes drilled into the bottom of it spaced out according to **Figure 12**.  A piece of loopy yarn was threaded through each hole and was secured by tying a knot on the top end. The knot was large enough to prevent the string from slipping back down the hole. A small hex nut was tied to the bottom of each string to act as a weight. The basin was mounted and tied to a support rod about 1 foot in the air. Thirteen cuvettes were numbered and glued to a thin plastic sheet according to **Figure 13**, and they were placed under the basin.  Each weighted string was placed into the closest cuvette. This was done to hold the strings in place,  but also as a means of comparing the amount of water that flowed down each string. The entire apparatus is shown in **Figure 14**. More details on the fabrication of the apparatus can be found in the [Manual](#Manual) section.\n",
        "\n",
        "<center>\n",
        "<p style=\"text-align: center;\">\n",
        "<img src=\"https://github.com/AguaClara/String-Digester/blob/master/Summer_2019/Photos/basin_with_holes_basin.JPG?raw=true\" height = 250 />\n",
        "  </p>\n",
        "  \n",
        "  **Figure 11:** Dacron string was used to tie the basin to a support rod.\n",
        "\n",
        "\n",
        "<p style=\"text-align: center;\">\n",
        "<img src=\"https://github.com/AguaClara/String-Digester/blob/master/Summer_2019/Photos/Diagrams/basin_with_holes_drill_pattern.PNG?raw=true\" height = 250 />\n",
        "  </p>\n",
        "  \n",
        "  **Figure 12** This diagram shows the hole pattern of the basin.  A 5 x 5 grid of dots with 5 mm spacing was drawn on the bottom of the basin. Circles indicated with the color red were drilled to create a hole. \n",
        "  \n",
        "<p style=\"text-align: center;\">\n",
        "<img src=\"https://github.com/AguaClara/String-Digester/blob/master/Summer_2019/Photos/basin_with_holes_cuvette_sheet_numbered.JPG?raw=true\" height = 350 />\n",
        "  </p>\n",
        "  \n",
        "  **Figure 13** This image shows the layout of cuvettes on the plastic sheet. The yellow tape was later replaced with PVC glue. The cuvettes were numbered 1-13 for identification.\n",
        "   \n",
        "  \n",
        "<p style=\"text-align: center;\">\n",
        "<img src=\"https://github.com/AguaClara/String-Digester/blob/master/Summer_2019/Photos/basin_with_holes_experimental_setup.JPG?raw=true\" height = 350 />\n",
        "  </p>\n",
        "  \n",
        "  **Figure 14** This picture shows the complete experimental setup. The basin with holes is mounted above a sheet of cuvettes. One piece of loopy yarn weighted with a hex nut is guided into each cuvette. \n",
        "</center>\n",
        "\n",
        "To test the apparatus, the basin was filled with a known amount of water several times and the subsequent flow was observed. The total flow rate and average flow rate per string was calculated. Additionally, an experiment was conducted to identify preferential pathways in the system. This was done by filling the basin with 15 mL of water and measuring the height of water that accumulated in each cuvette.  15 mL of water was chosen because it produced a flowrate close to 10 μL/s. "
      ]
    },
    {
      "cell_type": "markdown",
      "metadata": {
        "id": "_Nn9zXKc-Fjq",
        "colab_type": "text"
      },
      "source": [
        "# Results and Analysis\n",
        "\n",
        "[//]: <> (Use past tense for this section)"
      ]
    },
    {
      "cell_type": "markdown",
      "metadata": {
        "id": "wCypK924wxUO",
        "colab_type": "text"
      },
      "source": [
        "## Maximum Angle to Keep Water on a String\n",
        "\n",
        "Water did not fall off of the string for any angle between 0 and 85 degrees, and was observed dripping off of the end as desired. These results demonstrate that the string angle will not inhibit water from flowing down the strings. However, having strings at different angles from the vertical may lead to preferential flow, and this factor should be considered further in the design of the trickling filter."
      ]
    },
    {
      "cell_type": "markdown",
      "metadata": {
        "id": "_yQie3KKws3A",
        "colab_type": "text"
      },
      "source": [
        "## Number of Strings that Fit on 1 cm of a Rod\n",
        "It was found that at most 19 passes of loopy yarn could fit on a length of rod 1 cm long without overlapping. A higher density of strings may lead to an uneven distribution of water if some strings are shielded from the full water spray. "
      ]
    },
    {
      "cell_type": "markdown",
      "metadata": {
        "id": "TTIdwJuQwoyV",
        "colab_type": "text"
      },
      "source": [
        "## Testing Deflector Plate Geometries\n",
        "\n",
        "The materials that produced the flattest spray patterns with the most even droplets were thin sheets of plastic of a short width, and the semi-cylindrical PVC pipes. Thicker and wider PVC sheets did not produce a good spray pattern, because the spray was highly uneven and a large portion of water dribbled away in an unwanted direction. The PVC cylinders were preferred over the flat plastic sheet, because it only sprayed water in one direction, rather than two directions. Furthermore, the 1/4 plastic pipe behaved better than the 1/2 PVC pipe, because less water was deflected backwards and wasted. \n",
        "\n",
        "The 'sprinkler' design also showed potential as a deflector plate. The droplets formed by this geometry were very small and evenly spaced. However, the sprinkler plate filled with water and overflowed, wasting a lot of water. The main problem with this design was that it did not project water in a flat line. Rather, the water was spread over a large circular area, which would be difficult to capture on a solid line of string. It was noted that the bottom of the bottle was not entirely flat and there was a large lip between where the water struck and the edge of the plate. Changing these characteristics could potentially improve the spray pattern. \n",
        "\n",
        "One problem that occurred with all deflecting plates described so far was the wasting of water deflected in the opposite direction of the spray. It was found however, that if the jet spray was applied exactly tangent to the interior of the 1/4 PVC pipe, the backwards flow was eliminated such that almost all water went into the spray. \n",
        "\n",
        "Another problem was that the spray produced by the 1/4 pipe was too wide for testing the experimental apparatus at small scales. A potential solution to this problem was to block part of the spray with a piece of PVC pipe cut in half (forming a semi-cylinder) to divert water away from the strings. However, this method changed the spray pattern by causing the spray to become narrower farther away from the deflector plate. \n",
        "\n",
        "Using a spoon as a deflector plate was much more successful at limiting the width of the spray. When tested, the widest spray achieved matched the width of the spoon, without a significant change in the desired spray pattern. \n",
        "This was especially useful for the  experiments with the string matrix, because the width of the \"wall of strings\" could easily be adjusted to match the width of the spoon or vice versa. Additionally, the handle of the spoon made it easier to direct water tangentially to the surface of the plate and further minimized the amount of water dripping off the back and sides of the deflector. Additional tests with a similarly modified ladle showed that while a wider \"spoon area\" could produce a wider spray, a much higher flow rate was needed to achieve this width. This flow rate would be too high for the small number of strings currently needed for testing. \n",
        "\n",
        "The ability to limit the width of the spray made the plastic spoon the best deflector plate tested so far, so it was used for subsequent preferential flow experiments. \n",
        "\n",
        "\n",
        "\n"
      ]
    },
    {
      "cell_type": "markdown",
      "metadata": {
        "id": "OexZyHlqv9ye",
        "colab_type": "text"
      },
      "source": [
        "## Minimum Flow Rate Needed to Produce a 'Good' Spray\n",
        "\n",
        "### Ideal Spray from the Faucet\n",
        "\n",
        "**Figure 14** below shows the faucet running at a flow rate that was subjectively chosen to create an ideal spray pattern. As seen from the [gif](https://github.com/AguaClara/String-Digester/blob/master/Summer_2019/Photos/jet_flow_rate_Exp2.gif), the spray is flat and relatively even. \n",
        "\n",
        "<center>\n",
        "<p style=\"text-align: center;\">\n",
        "<img src=\"https://github.com/AguaClara/String-Digester/blob/master/Summer_2019/Photos/jet_flow_rate_Exp2.gif?raw=true\" height = 350 />\n",
        "  </p>\n",
        "\n",
        "**Figure 14** The ideal spray pattern from the faucet corresponding to 0.11596 L/s. \n",
        "</center>\n",
        "\n",
        "[//]: <> (Gif might not work well on pdf)\n",
        "\n",
        "Without asjusting the faucet, the time to fill a 3 L container with water are displayed in Table 2 below. \n",
        "\n",
        "**Table 2:** Displays the time the faucet took to fill a 3 L container for 3 trials\n",
        "\n",
        "|Trial|Time(s)|\n",
        "|:---:|:---|\n",
        "|1|26.53|\n",
        "|2|26.05|\n",
        "|3|25.03|\n",
        "\n",
        "These times averaged to 25.87 seconds. The 3 L volume was divided by the average time to produce an average flow rate of 0.1160 L/s. If the flow rate per string was 10 μL/s, this flow rate would provide enough water for 11,600 strings.  The large number of strings associated with this flowrate was concerning due to space limitations. As noted earlier in the [results](#Number-of-Strings-that-Fit-on-1-cm-of-a-Rod) section only 19 strings could fit in the length of a centimeter without overlapping. This spray would therefore have to hit a solid line of strings 305 cm long (on both sides of the deflecting plate for a total of 610 cm). \n",
        "\n",
        "### Replicating the Faucet Spray a Water Column\n",
        "\n",
        "The spray pattern created by the 9.53 mm orifice at a height of 28.9 cm was similar to the one produced by the faucet. However, the water droplets were slightly less even in size and distribution. Additionally, the water spray reached a smaller area. \n",
        "\n",
        "It was recognized afterwards, that the 9.53 mm orifice was rounded to 10.0 mm when calculating the water height needed to achieve the same flow rate as the sink. The correct water height should have been 35.15 cm instead of 28.9 cm. This discrepancy could help explain the differences in spray pattern between the faucet and the water column. \n",
        "\n",
        "### Decreasing Flow Rate\n",
        "\n",
        "**Trial 1:**\n",
        "In the first trial a flow rate of 0.05798 L/s was observed. The spray pattern was relatively even with large droplets. However, the flow rate was still too high, because it would require 5798 strings to be oriented under a single jet. This would be challenging due to the maximum string packing density of 18 strings per cm.\n",
        "  \n",
        "**Trial 2:**\n",
        "In the second trial, the flow rate was decreased to 0.03866 L/s. Water droplets were visibly uneven in size: they were bigger in the middle of the spray and smaller towards the edges. Because of this non-uniformity, this combination was not viable for a spray pattern. However, it is possible that increasing the velocity with this flow rate would have produced a reasonble spray pattern.\n",
        "  \n",
        "**Trial 3:**\n",
        "In the third trial a flow rate of 0.039374 L/s was used.   Droplets were approximately the same size as trials 1 and 2. This flow rate would require 3937 strings. \n",
        "  \n",
        "**Trial 4:** \n",
        "The 25 cm version produced very small sprits of water. In contrast the 11 cm version appeared to have two different splashing regimes. There were time droplets that shot up and out and larger droplets towards the middle that only traveled short distances. This trial resulted in a spray pattern at the lowest 'acceptable' water height for an orifice-deflector distance of 25 cm. \n",
        "  \n",
        " Trials 2-4 indicated a minimum flow rate on the order of 0.035 +/- 0.005 L/s. Flow rates below this were not strong enough to produce an even spray. However, these results should be considered as a generalization as the manner of determining a good spray required a large amount of human subjectivity. Future experiments should utilize a more quantitative method for comparing spray patterns to each other. \n",
        " \n",
        "*Refer to [Appendix B](#Appendix-B:-Spray-Images) for images of the spray from each trial.*\n",
        "\n",
        "### Varying Water Velocity\n",
        "\n",
        "Videos of the water spray at each distance between the orifice and deflector plate were taken.  Afterwards the videos were analyzed by determining the last point in time at which the spray pattern was adequate. The corresponding water height was recorded and the flow rate at that point in time was calculated using [Equation 2](#Orifice). Additionally the width of the spray pattern was estimated from the tape measure placed in the video for reference. This analysis was conducted separately by two different people and the results are shown in Table 3 and Table 4 below. The raw videos can be found on the String Digester [Repository](https://github.com/AguaClara/String-Digester/tree/master/Summer_2019/Photos) under the title jet_flow_rate_Exp3.3.\n",
        "\n",
        "**Table 3:** This table shows the minimum flow rate that can produce a good spray at using a particular distance between the orifice and deflector plate, as determined by Person 1.\n",
        "\n",
        "|Distance (cm) |Water Height (cm)| Flow Rate (L/s) | Spray Width (cm)|Time in Video (s)|\n",
        "|:---:|:---:|:---:|:---:|:---:|\n",
        "|10|9|0.02293|7|10.0|\n",
        "|20|6|0.01872|8|18.0|\n",
        "|30|4|0.01529|9|20.0|\n",
        "|40|2|0.01081|9|23.0|\n",
        "|50|1|0.007643|10|24.0|\n",
        "\n",
        "**Table 4:** This table shows the minimum flow rate that can produce a good spray at using a particular distance between the orifice and deflector plate, as determined by Person 2\n",
        "\n",
        "|Distance (cm) |Water Height (cm)| Flow Rate (L/s) | Spray Width (cm)|Time in Video (s)|\n",
        "|:---:|:---:|:---:|:---:|:---:|\n",
        "|10 |20+|0.03418|14|4.0|\n",
        "|20|30- |0.04186| 25  |8.0|\n",
        "|30| 4 |0.01529|  9 | 20.0  |\n",
        "|40| 2  |0.01081| 14  | 23.0  |\n",
        "|50| 2  |0.01081| 19 | 23.0  |\n",
        "\n",
        "''+'' = well over 20;\n",
        "\"-\" = a little below 30\n",
        "\n",
        "*Refer to [Appendix B](#Appendix-B:-Spray-Images) for images of the sprays documented in Table 4.*\n",
        "\n",
        "The results demonstrate the large degree of subjectivity involved in identifying a 'good' spray. For example, at a distance of 10 cm, Person 1 and Person 2 disagreed on the minimum height by more than 11 cm. However, as the distance between the orifice and the deflector plate increased, the recorded water heights moved closer and closer together. This instills higher confidence in the results for distances of 30, 40, and 50 cm. The calculated flow rates for these trials were consistently around 10 mL/s. The subteam therfore concluded that the minimum flowrate that could be used to produce a good spray was around 10 mL/s at a height around 30 cm. The minimum height leading to a 10 mL/s flow rate according to Person 1 and Person 2 was chosen due to energy constraints (i.e. choosing a higher distance would only require more energy to execute with little gain in spray quality).\n",
        "\n"
      ]
    },
    {
      "cell_type": "markdown",
      "metadata": {
        "id": "8_h2SHv1vxJU",
        "colab_type": "text"
      },
      "source": [
        "## Impact Location\n",
        "\n",
        "<center>\n",
        "<p style=\"text-align: center;\">\n",
        "<img src=\"https://github.com/AguaClara/String-Digester/blob/master/Summer_2019/Photos/above_water_target.gif?raw=true\" height = 350 />\n",
        "  </p>\n",
        "\n",
        "**Figure 15:** This gif shows the water impacting the target area when the persistaltic pump tubing was inserted above the water level in the column.\n",
        "</center>\n",
        "\n",
        "<center>\n",
        "<p style=\"text-align: center;\">\n",
        "<img src=\"https://github.com/AguaClara/String-Digester/blob/master/Summer_2019/Photos/underwater_target.gif?raw=true\" height = 350 />\n",
        "  </p>\n",
        "\n",
        "**Figure 16:** This gif shows the water impacting the target area when the persistaltic pump tubing submerged below the water level in the column.\n",
        "</center>\n",
        "\n",
        "Analyzing the videos taken during the experiment and comparing the results of the two trials resulted in the conclusion that submerging the peristaltic pump tubing increased the impact location precision. In the video where the tubing is submerged (**Figure 16**), the impact location remained inside the 1 cm diameter circle. But for the trial where the tubing was above the water (**Figure 15**), the impact location was more random and only remained within the 2 cm diameter circle. The subteam believed that this difference in target area was caused by a higher level of turbulence in the water column; air bubble were mixed in the water and caused the stream from the orifice to be more random. Additionally, with the tube above water, the stream from the orifice was less steady and broke up into individual droplets several centimeters before hitting the target. But with the tube underwater, the flow from the orifice was more uniform and the stream was steady for almost the entire distance to the target.\n",
        "\n",
        "After adding the flow accumulator to the experimental apparatus, the water stayed within the 1 cm diameter circle. Therefore, the flow accumulator did not improve the impact location consistency further. \n",
        "\n",
        "Impact location precision is important for maintaining a constant spray from the deflector plate. However, as observed from the teams experiments, water flowing from an orifice does not hit the deflector in a constant location. Getting the target area of the impact as small as possible was the goal of this experiment and a circular area of 1 cm was achieved when the effluent tubing from a peristaltic pump was underwater."
      ]
    },
    {
      "cell_type": "markdown",
      "metadata": {
        "id": "lfzwMtjHvgfM",
        "colab_type": "text"
      },
      "source": [
        "## Preferential Flow Experiments\n",
        "\n",
        "### Preliminary Testing\n",
        "\n",
        "There was no visually distinguishable difference in color between the three strings as seen in **Figure 17**. This meant that the color of a string could not be used to gauge how much water flowed down it. However, the red dye could still be used to determine if water flowed down a string at all.\n",
        "\n",
        "<center>\n",
        "<p style=\"text-align: center;\">\n",
        "<img src=\"https://github.com/AguaClara/String-Digester/blob/master/Summer_2019/Photos/preferential_flow_Exp1.1_strings.JPG?raw=true\" height = 150 />\n",
        " </p>\n",
        "\n",
        " **Figure 17:** This image shows the color of three strings submerged in red dye for 10 seconds, 1 minute, and 5 minutes, from top to bottom, respectively.\n",
        " </center>\n",
        "  \n",
        " ### String Density vs. Water Distribution\n",
        " \n",
        " <center>\n",
        "<p style=\"text-align: center;\">\n",
        "<img src=\"https://github.com/AguaClara/String-Digester/blob/master/Summer_2019/Photos/preferential_flow_Exp1.4_resultsTable.PNG?raw=true\" height = 500 />\n",
        " </p>\n",
        "  </center>\n",
        "\n",
        "**Figure 18:** This collection of diagrams shows the distribution of water across the string matrix for different densities of strings wrapped around the main rod. Each box represents one string, and the color represents the amount of red dye that remained on that string at the end of the experiment. The top of each diagram corresponds to the outermost row of beads/strings, and the bottom of each diagram corresponds to the innermost row of beads/strings closest to the plywood.\n",
        "\n",
        "The diagram above shows how water was distributed across the string matrix for all trials. Each box represents a particular string, and the color describes the amount of flow that the string recieved as indicated in the key. No clear patterns emerged simply by visually analyzing these diagrams. However, calculating the percentage of strings that were dyed in each trial revealed more information. **Figure 19** below graphs the average percentage of strings that were completely or partially dyed for each string density. A second order polynomial regression was performed for each data set and a trendline was graphed along with the data.\n",
        "   \n",
        " <center>\n",
        "<p style=\"text-align: center;\">\n",
        "<img src=\"https://github.com/AguaClara/String-Digester/blob/master/Summer_2019/Photos/preferential_flow_Exp1.4_resultsgraph_5TrialsPerStringDensity.PNG?raw=true\" height = 250 </p>\n",
        "  </center>\n",
        "  \n",
        "  **Figure 19:** This graph shows the average percentages of strings that received water or that were completely covered with dye. Five trials were conducted for each string density. A second order polynomial regression was performed for both sets of data points and a trendline was drawn on the graph.The R-squared value corresponding to the strings that were partially or fully dyed was 0.7439. The R-squared value corresponding only to the strings that were fully dyed was 0.5753.\n",
        "  \n",
        "The R-squared values of 0.74 and 0.58 suggest that in the range tested, there was general quadratic relationship between the density of strings on the main rod and the percentage of strings that received water. However, these results do not provide any information about string densities greater than 36 strings/cm. Confidence in these results and the regression analysis could be improved by completing many more trials at the densities already tested as well as higher ones. \n",
        "\n",
        "### Concentrated Dye Test\n",
        "\n",
        "In all trials, water appeared to 'jump' from one string to another when it came in contact with the beaded rods. This behavior is apparent in **Figure 20**, where some strings are completely white above the beads, but red below the beads.\n",
        "\n",
        "<center>\n",
        "<p style=\"text-align: center;\">\n",
        "<img src=\"https://github.com/AguaClara/String-Digester/blob/master/Summer_2019/Photos/preferential_flow_Exp1.5_Trial1_flowDivide.JPG?raw=true\" height = 250/>\n",
        " </p>\n",
        "\n",
        "**Figure 20:** This image shows the front of the string matrix after Trial 1. The red dye indicates places where water flowed.\n",
        "</center>\n",
        "  \n",
        "The red line in **Figure 21** shows where a large drop of water ran down a particular string in the front-center of the string matrix. This occurred in almost the same exact location for both Trial 2 and Trial 3.\n",
        "\n",
        "<center>\n",
        "<p style=\"text-align: center;\">\n",
        "<img src=\"https://github.com/AguaClara/String-Digester/blob/master/Summer_2019/Photos/preferential_flow_Exp1.5_Trial3_streak.JPG?raw=true\" height = 250 />\n",
        " </p>\n",
        " \n",
        "**Figure 21:** In this image of Trial 3, the red line of dye indicates where a large drop of water ran down the string matrix.\n",
        "</center>\n",
        "  \n",
        "The subteam originally believed that the transfer of water between strings would lead to preferential flow. However, this experiment revealed that water transfer can actually lead to a more even distribution of water. In the rightmost row of strings in **Figure 22**, only 2 strings show a solid line of red from the point of application to the bottom of the string matrix. However, because of the beaded rods, a total of 6 strings ended up with water flowing down them by the time it reached the bottom of the matrix.\n",
        "\n",
        "<center>\n",
        "<p style=\"text-align: center;\">\n",
        "<img src=\"https://github.com/AguaClara/String-Digester/blob/master/Summer_2019/Photos/preferential_flow_Exp1.5_Trial1_waterTransfer(zoomed).jpg?raw=true\" height = 250 />\n",
        " </p>\n",
        "\n",
        "**Figure 22:** This picture shows the right-hand side of the string matrix after Trial 1. Above the beaded rods, only 2 strings are covered in dye as shown by the yellow numbering. However, below the beads, all 5 strings in the row are red, indicated by blue numbering.\n",
        "  </center>"
      ]
    },
    {
      "cell_type": "markdown",
      "metadata": {
        "id": "vzNZgDxouwQe",
        "colab_type": "text"
      },
      "source": [
        "## Experimental Apparatus\n",
        "\n",
        "Several observations were made while building the initial string matrix that led to improvements in the design.\n",
        "\n",
        "First, the strings on the main rod overlapped significantly. A total of 85 strings fit in a distance of 2 cm. That is a string density of 42.5 strings per cm instead of the expected 19 strings per cm. This raises the question of whether overlapping strings prevent the water from being distributed uniformly. The overlapping strings may have been caused by the fact that the apparatus was originally designed for 10 rods rather than 16 rods, and the extra  strings may have forced them to overlap with each other. Later tests with the modified apparatus only used a portion of the rods to keep the strings from overlapping.\n",
        "\n",
        "Fewer rods were also used because in the original design, the rightmost string was loose in every layer of the matrix since the applied tension did not act towards the beaded rods. By wrapping fewer strings, only 9 rows instead of 17, there were no loose strings on the end and the process of wrapping and unwrapping to see the results of each experiment went much faster - which allowed time for more experiments to be run.\n",
        "\n",
        "Second, the wrapping of strings in the initial design, steps 4-6 of **Figure 9**, required dexterity. With the addition of a third rod (labeled 2 in **Figure 5**) and by moving the rod each string is wrapped around (labeled 3 in **Figure 5**) to a higher location, the wrapping process went faster and the target location for the water was a more uniform wall of strings without the peaks and troughs that were present in the original design.\n",
        "\n",
        "After the water was dripped on the main rod in the initial setup for several minutes, the strings were felt by hand to get a preliminary idea of whether the strings were being evenly wet. The strings on the right of the apparatus were wet, while the strings on the left side were almost completely dry. These results indicate that preferential flow was occurring in some capacity. The wrapping pattern caused the strings to rest at different heights close to the main rod. **Figure 23** shows a side view of the strings where they converged at the main rod. There were distinct peaks and troughs in the 'wall of strings': the peaks corresponded to the left half of the string matrix, and the troughs corresponded to the right half of the matrix; the team suspected that the different angles of the strings leaving the main rod accounted for the preferential flow that was occurring.\n",
        "\n",
        "<center>\n",
        "<p style=\"text-align: center;\">\n",
        "<img src=\"https://github.com/AguaClara/String-Digester/blob/master/Summer_2019/Photos/Converging_strings_peaksandTroughs.PNG\n",
        "?raw=true\" height = 250 />\n",
        "  </p>\n",
        "  \n",
        " **Figure 23:**  A side view of the 'wall of strings' as they converge at the main rod. Distinct peaks and troughs can be seen in the layer of strings.   \n",
        "</center>\n",
        "\n",
        "### Basin with Holes\n",
        "\n",
        "As seen in **Table 5** below, the basin with holes design produced an average flowrate per string that ranged from 3.49 to 20.8 μL/s. This range includes the targeted 10  μL/s flow rate, and demonstrates that the flowrate can be easily controlled by adjusting the height of water in the basin. \n",
        "\n",
        "**Table 5:** This table shows the total flowrate observed and estimated flowrate per string for 6 different water volumes added to the basin.\n",
        "\n",
        "| Trial Number | Volume Water (mL) | Time (s) | Total Flowrate (mL/s) | Average Flowrate per String (μL/s) |\n",
        "|:------------:|:-----:|:-----------:|:--------:|:-----------------:|\n",
        "| 1 | 50.0 | 184.89 | 0.270 | 20.8 |\n",
        "| 2 | 25.0 | 139.59 | 0.179 | 13.8 |\n",
        "| 3 | 20.0 | 126.25 | 0.158 | 12.2 |\n",
        "| 4 | 15.0 | 117.90 | 0.127 | 9.77 |\n",
        "| 5 | 10.0 | 109.48 | 0.091 | 7.03 |\n",
        "| 6 |  5.0  | 110.12 | 0.045 | 3.49 |\n",
        "\n",
        "\n",
        "**Table 6:** This table shows the height of water that accumulated in each cuvette when 15 mL of water was added to the basin.\n",
        "\n",
        "| Cuvette Number | Trial 1 Height (mm) | Trial 2 Height (mm) |\n",
        "|:---:|:---:|:---:|\n",
        "|1|19.2| 6.2|\n",
        "|2|36.2|27.7|\n",
        "|3|37.2|23.2|\n",
        "|4|10.7|4.2|\n",
        "|5|26.7|25.9|\n",
        "|6|23.2|0.00|\n",
        "|7|4.2|0.00|\n",
        "|8|4.2|0.00|\n",
        "|9|11.7|20.7|\n",
        "|10|36.7|0.00|\n",
        "|11|28.2|15.2|\n",
        "|12|33.7|20.2|\n",
        "|13|6.2|0.00|\n",
        "\n",
        "In trial 2, a lot of water dripped out of the holes, but missed the strings as demonstrated in **Figure 24** .  This problem was sometimes fixed by tugging on the string in question. It was hypothesized that a close positioning of the knot above the hole prevented too much water from flowing out of the hole at once. This 'leaky basin' problem occurred very inconsistently with various heights of water in the basin. Additionally, the leaking did not subside as water drained and is a concern for the future of this distribution design.\n",
        "\n",
        "<center>\n",
        "<p style=\"text-align: center;\">\n",
        "<img src=\"https://github.com/AguaClara/String-Digester/blob/master/Summer_2019/Photos/basin_with_holes_dripping_failure.gif\n",
        "?raw=true\" height = 250 />\n",
        "  </p>\n",
        "\n",
        "**Figure 24:** Water leaked from the basin and fell to the table instead of running down the strings. This occurred inconsistently and did not subside as water drained from the basin.\n",
        "</center>\n",
        "\n",
        "With only 2 trials, few conclusions could be drawn about preferential flow in this design. However, it was apparent that preferential flow was occuring. For example, in Trial 1, two cuvettes recieved 4.2 mm of water while another recieved 36.2 mm. It was unclear whether there was a pattern to this flow discrepancy \n",
        "\n",
        "The attempt to identify preferential pathways was temporarily postponed, due to an interest in exploring the converging strings design more thoroughly. The converging strings design is advantageous over the basin with holes desgin because it doesn't involve small holes that could get clogged easily. The subteam considered whether there was a simple way to clean the holes in the basin design to prevent them from clogging. Ideas included using the strings like floss to periodically scrub the sides of the holes. Considering the simplicity of the basin with holes design, it may be reconsidered in the future. Other challenges include identifying the correct hole size and water height to get the desired flow rate, and finding a more efficient method of threading the strings through the holes. \n",
        "\n",
        "[//]: <> (Cut down figure 14 to 22 into one figure or table to explain the results and figure 24 is unnecessary and in figure 23 pointing out the peaks and troughs would be helpful)\n",
        "\n"
      ]
    },
    {
      "cell_type": "markdown",
      "metadata": {
        "id": "Me12TWjY-Iys",
        "colab_type": "text"
      },
      "source": [
        "# Conclusions\n",
        "This semester the subteam focused on creating a spray of water that could be distributed evenly onto a 'wall of strings.' Tests performed in the laboratory sink resulted in a better understanding of how sprays are formed, how they disperse, and what conditions (water height, deflector geometry, and the distance between the orifice and deflector) are optimal for creating a flat and wide spray. The subteam concluded that a water height between 10 and 20 cm, and an orifice-deflector distance around 30 cm were optimal. Additionally, the best deflector geometry tested was a small plastic spoon with about 1/3 of the \"bowl\" part cut off. These results present a good starting point for further research and improvements to this 'converging strings' design. However, many of the experiments that were conducted involved qualitative and highly subjective observations. This means that these parameters should be refined as future subteams create new iterations of the string digester design.\n",
        "\n",
        "In addition to the spray experiments, the subteam assembled a preliminary model for the string matrix. Taking a different direction than previous semester, the team stuck with loopy yarn as a filter media after students in CEE 4530 saw success with the yarn in terms of water reaeration and high residence times. Additionally, the subteam found that water could flow down this loopy yarn when it was displaced from the vertical postion at any angle up to 85 degrees. These results were especially useful in modeling the first string matrix. \n",
        "\n",
        "Finally, the subteam conducted an experiment to determine the maximum density of strings on the main rod that minimizes preferential flow. The density that showed the best results appears to be between 25 and 30 strings/cm. The subteam acknowledges, however, that the growth of biofilms on the strings may influence how water flows through the matrix. Therefore, the subteam's current preferential flow tests may not accurately represent realistic trickling filter behavior. Further preferential flow tests should be conducted with biofilms to determine if strings reduce the efficiency problems associated with conventional filter media. \n",
        "\n",
        "Designing an affordable yet efficient string digester would greatly impact AguaClara's involvement in the treatment of wastewater. Combined with the Upflow Anaerobic Sludge Blanket Reactor, the trickling filter has the potential to provide a low energy treatment option to communities that would otherwise release their waste directly into streams and rivers. Thus, string digester research has both environmental and human health implications. Using strings as a filter media could increase the efficiency of trickling filters due to their high surface area to volume ratio and ability to reaerate naturally. The subteam looks forward to continuing research on this design and eventually creating a full scale string digester. \n",
        "\n",
        "\n",
        "\n",
        "\n"
      ]
    },
    {
      "cell_type": "markdown",
      "metadata": {
        "id": "uQBlaQNP-VJA",
        "colab_type": "text"
      },
      "source": [
        "# Future Work\n",
        "\n",
        "In the future, the subteam will determine if the loopy yarn supports biofilm growth. If a promising microorganism is found, biofilms will be grown on the string matrix to determine whether they successfully remove organics from synthetic wastewater. This could potentially be measured with a test for Total Organic Carbon.\n",
        "\n",
        "Once the subteam verifies that a tricking filter made of strings can remove organics from the water, research should focus on making the current design more efficient and eliminating any problems that arise. This may involve implementing intermittent spraying to further decrease the flow rate on each string to desired levels (on the order of 10 microL/s). The deflector plate geometry could be improved to get a more controlled and even spray. The subteam will also have to determine the minimum spacing between strings such that water does not 'jump' from string to string. This may involve moving the smaller rods closer together or using smaller beads. Additionally, preferential flow experiments may have to be modified to include biofilms since the presence of a biofilm may result in unexpected flow patterns.  \n",
        "\n",
        "Finally, the subteam will test its trickling filter design in the Ithaca Wastewater Treatment Facility with real wastewater to determine if it is more efficient than conventional designs. The long term goal for the subteam is to implement a trickling filter design in conjunction with an Upflow Anaerobic Sludge Blanket Reactor that is both more efficient and cheaper than conventional designs.\n",
        "\n"
      ]
    },
    {
      "cell_type": "markdown",
      "metadata": {
        "id": "ZXUik5SH-YFM",
        "colab_type": "text"
      },
      "source": [
        "# Bibliography\n",
        "\n",
        "Faci, J. M. et al. \"Comparison of Fixed and Rotating Spray Plate Sprinklers.\" ASCE, Journal of Irrigation and Drainage Engineering, July/August 2001, 127(4): 224-233. https://ascelibrary.org/doi/pdf/10.1061/%28ASCE%290733-9437%282001%29127%3A4%28224%29\n",
        "\n",
        "Kincaid, D. C.; Solomon, K. H; Oliphant, J. C.; \"Drop Size Distibutions for Irrigation Sprinklers.\" 1996 American Society for Agricultural Engineers. Vol. 39(3): 839-845. http://citeseerx.ist.psu.edu/viewdoc/download?doi=10.1.1.465.5537&rep=rep1&type=pdf\n",
        "\n",
        "Mateo-Sagasta, Javier & Raschid-Sally, Liqa & Thebo, Anne. (2015). *Global Wastewater and Sludge Production, Treatment and Use.* Wastewater: Economic Asset in an Urbanizing World. 15-38. 10.1007/978-94-017-9545-6_2. Retrieved from https://www.researchgate.net/publication/283744445_Global_Wastewater_and_Sludge_Production_Treatment_and_Use \n",
        "\n",
        "World Water Day 2010 (2010, March 22). *World water Quality Facts and Staistics.* Retrieved from https://pacinst.org/wp-content/uploads/2013/02/water_quality_facts_and_stats3.pdf\n",
        "\n",
        "\n",
        "\n",
        "\n",
        "\n"
      ]
    },
    {
      "cell_type": "markdown",
      "metadata": {
        "id": "EvBA8kN4-dty",
        "colab_type": "text"
      },
      "source": [
        "# Manual\n",
        "This manual is broken down into several different experimental methods, each with a brief description, list of materials, fabrication details, special components, and experimental procedure."
      ]
    },
    {
      "cell_type": "markdown",
      "metadata": {
        "id": "sReWa-CZ5yqf",
        "colab_type": "text"
      },
      "source": [
        "## Materials \n",
        "|Experiment|Material|Details|\n",
        "|--|--|--|\n",
        "|Maximum String Angle Experiment|Loopy yarn|Mill Ends 1 lb Acrylic Blend|\n",
        "| |Peristaltic pump with microtubing of ID = 0.5 mm| |\n",
        "|Converging Strings Experiment|Loopy yarn|See special components|\n",
        "| |Tape| |\n",
        "|Basin With Holes Experiment|Loopy yarn|See special components|\n",
        "| |Plastic sheet| |\n",
        "| |2 plastic rectangles 5.3 x 5.8 cm (sides of basin)| |\n",
        "| |2 plastic rectangles 8.9 x 3.6 cm (sides of basin)| |\n",
        "| |1 plastic rectangle 8.9 x 3.7 cm (bottom of basin)| |\n",
        "| |PVC glue| |\n",
        "| |Electrical drill with 5 mm drill bit| |\n",
        "| |13 cuvettes| |\n",
        "| |13 hex nuts|https://www.mcmaster.com/95462a029|\n",
        "|Deflector Plate Experiments|Flat piece of plastic 1\" x 19.5\"| |\n",
        "| |1/2 plastic pipe (5 cm inner diameter)| | \n",
        "| |1/4 plastic pipe (5 cm inner diameter)| |\n",
        "| |Bandsaw| |\n",
        "| |Sink| |\n",
        "| |Plastic spoon|https://www.mcmaster.com/9769t23|\n",
        "| |Plastic ladle|https://www.mcmaster.com/3359k2|\n",
        "|Spray Experiments|Clear PVC tube with inner diameter 4.5 cm and length at least 60 cm| |\n",
        "| |Plastic sheet (8 x 6.5 cm)| |\n",
        "| |PVC glue| |\n",
        "| |Tape measure| |\n",
        "| |Deflector plate (from above experiment)| |\n",
        "| |Sink| |\n",
        "| |Electric drill| |\n",
        "| |Drill bits: 7/32\", 3/8\", 15/64\", 17/64\"| |\n",
        "| |6L bucket| |\n",
        "| |Tape| |\n",
        "| |Tape measures| |\n",
        "|Impact Location Experiments|Flat sheet of plastic approximately 11 x 19 cm| |\n",
        "| |Sharpie| |\n",
        "| |Water column with different orifice sizes|See Spray Experiments|\n",
        "| |Large container/bucket| |\n",
        "|Preferential Flow Experiments: Preliminary Testing|3 short pieces of loopy yarn| |\n",
        "| |Water containing red dye (exact concentration unknown)| |\n",
        "| |Large container| |\n",
        "| |Tape| |\n",
        "| |White paper| |\n",
        "|Preferential Flow Experiments: String Density vs. Water Distribution|String matrix|See Current Model|\n",
        "| |Loopy yarn|See special components|\n",
        "| |Water containing red dye|Exact concentration unknown|\n",
        "| |Large container| |\n",
        "| |1 mL pipette|https://www.mcmaster.com/7029t6|\n",
        "|Preferential Flow Experiments: Concentrated Dye Testing|Loopy yarn|See special components|\n",
        "| |String matrix|See Current Model |\n",
        "| |1 mL pipette|https://www.mcmaster.com/7029t6|\n",
        "| |Red dye solution|40 g/mL used|\n",
        "| |Large bucket| |\n",
        "|Current Model|Loopy yarn|See special components|\n",
        "| |Plastic beads|Hildie & Jo plastic beads (1000 count) 5 mm outer diameter, purchased from Joann's| \n",
        "| |Plywood 30 x 45 cm| | \n",
        "| |Drill| |\n",
        "| |Drill bits|1.4mm, 1/4\"|\n",
        "| |3 15 cm 1/4\"- 20 threaded rods|https://www.mcmaster.com/90322a658| \n",
        "| |6 1/4\"- 20 hex nuts|https://www.mcmaster.com/95462a029|\n",
        "| |3 10 cm lengths of 1/4\" inner diameter tubing| |\n",
        "| |20 metal rods with outer diameter 0.00625\"| | \n",
        "| |Glue| |\n"
      ]
    },
    {
      "cell_type": "markdown",
      "metadata": {
        "id": "-HQR49EGCyga",
        "colab_type": "text"
      },
      "source": [
        "## Maximum String Angle Experiment \n",
        "Determine the minimum angle that a string (specifically loopy yarn) can be displaced from the vertical position such that no water falls off of the string prematurely as it runs down.\n",
        "\n",
        "### Fabrication Details \n",
        "1. Cut a length (at least 20cm) of yarn and attach one end of yarn to object where the yarn can hang down and the angle between the length of yarn and the vertical can be varied from 0 to 90 degrees.\n",
        "\n",
        "2. Set up peristaltic pump to drip water onto the top of the string and pump at 75.0 rpm\n",
        "\n",
        "### Special Components \n",
        "- Loopy yarn: Mill Ends 1 lb Acrylic Blend \n",
        "\n",
        "<center>\n",
        "<img src=\"https://github.com/AguaClara/String-Digester/blob/master/Summer_2019/Photos/loopy_yarn2.png?raw=true\" height = 350 />\n",
        "</center>\n",
        "\n",
        "\n",
        "### Experimental Procedure \n",
        "1. Gradually pull the bottom end of the string outwards, increasing the angle between the string and the vertical from 0 to just below 90 degrees.\n",
        "\n",
        "2. Observe the path the water travels as this angle is increased."
      ]
    },
    {
      "cell_type": "markdown",
      "metadata": {
        "id": "zA5_P_waD5oK",
        "colab_type": "text"
      },
      "source": [
        "## Converging Strings Experiment \n",
        "Determine if water will distribute itself over several lines of string brought together, and if it will subsequently trickle down the strings without falling off. Consider whether the angle between two adjacent strings influences the ability of water to remain on the string.  \n",
        "\n",
        "### Fabrication Details \n",
        "1. Cut two 20 cm lengths of loopy yarn and use tape to secure one end of each string to a single point 10 cm above a table.\n",
        "\n",
        "2. Secure the other end of each string to points on the table so that the taught strings form a diagonal and are spaced 5mm apart.\n",
        "\n",
        "### Special Components \n",
        "- None\n",
        "\n",
        "### Experimental Procedure \n",
        "1. Use a pipette to drip water onto the point where the strings converge and observe the flow of water down the strings.\n",
        "\n",
        "2. Vary the angle between the strings by increasing or decreasing the distance between the strings on the table and observe the flow of water."
      ]
    },
    {
      "cell_type": "markdown",
      "metadata": {
        "id": "shwxNa3FEYgZ",
        "colab_type": "text"
      },
      "source": [
        "## Basin With Holes Experiment \n",
        "Experiment with small holes, and distribution of water from a basin down several strings. \n",
        "\n",
        "### Fabrication Details \n",
        "#### Fabrication of Basin\n",
        "1. Use PCV glue and the small plastic rectangles to form a basin. \n",
        "\n",
        "2. Mark a grid of points 2.5 cm by 2.5 cm on the bottom of the basin with points every 5 mm in each direction.\n",
        "\n",
        "3. Drill through selected points (red points in image below) using specified drill bit size.\n",
        "\n",
        "<center>\n",
        "<p style=\"text-align: center;\">\n",
        "<img src=\"https://github.com/AguaClara/String-Digester/blob/master/Summer_2019/Photos/Diagrams/basin_with_holes_drill_pattern.PNG?raw=true\" height = 250 />\n",
        "  </p>\n",
        "  </center>\n",
        "\n",
        "#### Experiment Set-up\n",
        "1. Cut 13 20 cm lengths of loopy yarn and thread one end of each string through a hole in the bottom of the basin, knotting twice to secure on inside of basin.\n",
        "\n",
        "2. Tie a hex nut at the other end of each string as a weight to keep the strings taught.\n",
        "\n",
        "3. Secure basin at a height so the strings  hang down.\n",
        "\n",
        "4. Glue cuvettes to the 14 x 23 cm piece of plastic in the same pattern as the drilled holes so that each hex nut can be placed in a cuvette and the corresponding string will form a straight line from the basin to the cuvette.\n",
        "\n",
        "5. Mark each cuvette 1-13 for reference.\n",
        "\n",
        "### Special Components \n",
        "- Basin \n",
        "\n",
        "### Experimental Procedure\n",
        "1. Ensure that the knots in the basin are directly over the drilled holes and that the strings are taught.\n",
        "\n",
        "2. Fill the basin with water and observe how long it takes to empty, the flow of water down each string, and the distribution of water collected in the cuvettes.\n",
        "\n",
        "3. Record data such as volume of water added to basin, time for basin to empty, and the height of water in each cuvette in a table. Calculate total flowrate and flowrate per string and record.   \n",
        "\n",
        "4. Take hexnuts and strings out of cuvettes to empty cuvettes then place the back to repeat experiment.\n"
      ]
    },
    {
      "cell_type": "markdown",
      "metadata": {
        "id": "wApucN0-FIC8",
        "colab_type": "text"
      },
      "source": [
        "## Deflector Plate Experiments \n",
        "Determine a material and geometry that will produce an ideal spray pattern (a line of spray).\n",
        "\n",
        "### Fabrication Details \n",
        "#### Sprinkler deflector plate fabrication\n",
        "1. Using bandsaw, cut off the bottom centimeter of the bottle.\n",
        "\n",
        "2. Mark 20 1 cm lines uniformly spaced around the edge of the circle from the bottom of the bottle.\n",
        "\n",
        "3. Use the band saw to cut 1 cm slits around the bottom of the bottle.\n",
        "\n",
        "#### Modified spoon and ladle fabrication \n",
        "1. Use band saw to cut of the last third of the \"bowl\" part of the spoon. \n",
        "2. Repeat for ladle. \n",
        "\n",
        "### Special Components \n",
        "- Sprinkler deflector plate (modeled from FSPS deflector, see Literature Review: Water Distribution)\n",
        "- Modified spoon \n",
        "\n",
        "### Experimental Procedure \n",
        "1. In a sink, begin with a uniform flowrate and, one at a time, place each deflector in the flow to create a spray pattern.\n",
        "\n",
        "2. Observe spray pattern (droplet size, spray distance, ...) and any changes when the position (height or orientation) of the deflector is changed.\n"
      ]
    },
    {
      "cell_type": "markdown",
      "metadata": {
        "id": "X8jE1-FAGQnV",
        "colab_type": "text"
      },
      "source": [
        "## Spray Experiments \n",
        "Determine the flow rate, orifice size, and water height that will produce the best jet spray. Ideally the jet spray would cover a wide surface area evenly with small water droplets.\n",
        "\n",
        "### Fabrication Details \n",
        "#### Fabrication of water dispensing tube\n",
        "1. Use PVC glue to attach PVC sheet to one end of the PVC tube with a watertight seal.\n",
        "\n",
        "2. Mark and label heights every 5 cm from the bottom of the tube (with the PVC sheet) to the top.\n",
        "\n",
        "3. Drill one hole of each size in the bottom of the PVC sheet so that each is inside the circumference of the tube but not too close to each other.\n",
        "\n",
        "### Special Components\n",
        "- Water column \n",
        "\n",
        "<center>\n",
        "<img src=\"https://github.com/AguaClara/String-Digester/blob/master/Summer_2019/Photos/water_column2.png?raw=true\" height = 350 />\n",
        "</center>\n",
        "\n",
        "### Experimental Procedure\n",
        "Three different procedures were tested to observe how changing different parameters effects spray patterns:\n",
        "\n",
        "*For each experiment, extend a tape measure across the sink to observe the extent of the spray.*\n",
        "\n",
        "#### 1. Varying Water Height\n",
        "1. Tape over all but one hole on the bottom of the water column.\n",
        "\n",
        "2. Plug remaining hole with a finger and fill column with water to a height of at least 50 cm.\n",
        "\n",
        "3. Hold column at a constant height above the deflector plate in the sink, unplug the hole, and direct water onto deflector plate to create a spray.\n",
        "\n",
        "4. Record/video what the spray looked like at several different water heights. \n",
        "\n",
        "#### 2. Varying Orifice Diameter\n",
        "1. Repeat the above Varying Water Height experiment with the varying drilled hole diameters\n",
        "\n",
        "#### 3. Varying Distance Between Orifice and Deflector \n",
        "1. Repeat the above Varying Water Height experiments but change the height the column is held above the deflector plate for each test (begin with a distance of 10 cm and increase to 50 cm in 10 cm increments)."
      ]
    },
    {
      "cell_type": "markdown",
      "metadata": {
        "id": "Zxpi77WKZr0L",
        "colab_type": "text"
      },
      "source": [
        "## Impact Location Experiments\n",
        "\n",
        "### Fabrication Details\n",
        "1. Draw a 5 mm diameter dot in the center of the piece of plastic.\n",
        "2. Draw 3 concentric circles around the dot with diameters of 1 cm, 2 cm, and 3 cm to form a target area.\n",
        "3. Place the plastic sheet on a flat elevated surface.\n",
        "4. Position and secure the water column approximately 18.5 cm above the plastic sheet such that the orifice is directly above the center of the target.\n",
        "5. Place a large container underneath the entire apparatus to contain water spillage.\n",
        "6. Place the effluent tube of the peristaltic pump into the top of the water column and secure it with tape.\n",
        "\n",
        "### Special Components\n",
        "- Target plate \n",
        "\n",
        "<center>\n",
        "<img src=\"https://github.com/AguaClara/String-Digester/blob/master/Summer_2019/Photos/target.jpeg?raw=true\" height = 350 />\n",
        "</center>\n",
        "\n",
        "### Experimental Procedure\n",
        "1. Turn on peristaltic pump and increase the RPM until the water height in the column equilibrates to 2.5 cm. An RPM of 170 was used.\n",
        "2. Secure the peristaltic pump tubing about 7 cm above the water surface in the column.\n",
        "3. Video record the target area and the water in the column for 10 seconds.\n",
        "4. Move and secure the peristaltic pump tubing so that it is submerged in the water.\n",
        "5. Video record the target area and also the water in the column for 10 seconds\n",
        "6. Compare the amount of time that the impact location spent in each ring of the target.\n"
      ]
    },
    {
      "cell_type": "markdown",
      "metadata": {
        "id": "0pwi-6-uo292",
        "colab_type": "text"
      },
      "source": [
        "## Preferential Flow Experiments\n",
        "\n",
        "### Preliminary Testing\n",
        "\n",
        "#### Experimental Procedure\n",
        "- Fill the container with red dye solution. The concentration of dye should be high enough that it is clearly visibly on a string.\n",
        "- Submerge one end of each string in the dye, and tape the dry end to the edge of the bucket for easy removal.\n",
        "- Remove the first string after 10 seconds, the second after 1 minute, and the third after 5 minutes.\n",
        "- Carefully dab any excess dye off on a paper towel and place the strings next to each other on a piece of paper for comparison.\n",
        "\n",
        "### String Density vs. Water Distribution\n",
        "\n",
        "### Procedure\n",
        "- Wrap the matrix with the correct number of strings: either 18, 27, 36, or 45. Each row of strings should only use 9 rods, and the rest should be left empty.\n",
        "- Number each row of strings from outermost bead to the bead closest to the plywood, and each column from the leftmost rod to the rightmost rod in a table\n",
        "- Measure the width of the line of strings at the top, middle, and bottom of the target area and adjust it to be 1.5 cm.\n",
        "- Pour water over the string matrix until all strings are thoroughly wet.\n",
        "- Use a small pipette to repeatedly apply drops of the red dye solution to the string target area.\n",
        "  - Moving from the front to the back, apply 5 evenly-spaced drops of water across the line of strings.\n",
        "  - Drop should be applied slowly enough that no large droplets are observed flowing down the strings.\n",
        "  - Add a total of 11 pipette-fulls of water (about 11 mL).\n",
        "- Place a white sheet of paper or plastic behind the outermost row of strings and record the amount of red dye on each string in a table with one of the following descriptions: No flow (no red dye on string); Partial flow (red dye on part of the string); or Flow (red dye on entire length of string).\n",
        "- Once observations have been recorded for a layer of strings, unwind that layer and make observations for the next layer underneath.\n",
        "- Calculate the percentage of strings that received water for each trial (ie. strings labeled 1 or 2), and the percentage of strings that were completely covered in dye (ie. strings labeled 2 only).\n",
        "\n",
        "### Concentrated Dye Testing\n",
        "\n",
        "#### Experimental Procedure\n",
        "- Wind string matrix with 5 rows of 9 strings (ie. using 5 beads on 9 pairs of rods) leaving the remaining rods and beads empty.\n",
        "- Place the bucket under the string matrix to contain water flow.\n",
        "- For Trial 1, compress the width of the strings on the main rod to 2 cm, and for Trial 2 and Trial 3 compress it to 1.5 cm.\n",
        "- Pour water over the string matrix until all strings are thoroughly wet.\n",
        "- Add 5-6 drops of highly concentrated red dye (40 g/mL) to the bottom of the target area of the strings.\n",
        "- Apply 5 mL of water to the string target area *above* the location of the red dye with a clean pipette. Disperse 5 drops at a time across the target area, moving from the outer end of the rods towards the plywood.\n",
        "- Observe the subsequent flow of dye down the strings and take pictures of the resulting dye pattern."
      ]
    },
    {
      "cell_type": "markdown",
      "metadata": {
        "id": "kzxqVt7uGiTI",
        "colab_type": "text"
      },
      "source": [
        "## Current Model \n",
        "Model to test string separation distance, converging strings, and experiment with applying water to a line of strings with a spray.\n",
        "\n",
        "### Fabrication Details\n",
        "1. Orient the plywood rectangle so the shorter side is at the bottom. Drill a horizontal row of 10 1.4 mm holes spaced 5 mm apart 10 cm from the bottom of the plywood. \n",
        "\n",
        "2. Drill a second row of 10 1.4 mm holes spaced 5 mm apart 10 cm above the first row. \n",
        "\n",
        "3. Drill one 1/4\" hole 2 cm below the center of the first row of 1.4 mm holes and one 1/4\" hole 8cm above the second row of 1.4 mm holes. \n",
        "\n",
        "4. Drill one 1/4\" hole 2 cm to the right and 1 cm above the topmost 1/4\" hole. \n",
        "\n",
        "5. Insert the 15 cm 1/4\"- 20 threaded rods into the 1/4\" holes and secure each with hex nuts. Place lengths of tubing over the threaded rods for a smooth surface to wrap strings around. \n",
        "\n",
        "6. Insert the rods into the smaller holes, ensuring they are secure. \n",
        "\n",
        "7. Place 8 beads on each rod and secure in place by gluing the top bead on each rod. \n",
        "\n",
        "8. Secure the end of the yarn with tape and wrap around the rods to create a string matrix of 88 strings that converges at the top and bottom 1/4\" rods. Wrap the yarn so that it goes between each bead, does not overlap, and is very taught.\n",
        "\n",
        "### Special Components\n",
        "- Plastic beads: Hildie & Jo plastic beads (1000 count) 5 mm outer diameter, purchased from Joann's\n",
        "\n",
        "<center>\n",
        "<img src=\"https://github.com/AguaClara/String-Digester/blob/master/Summer_2019/Photos/5mm_beads.png?raw=true\" height = 350 />\n",
        "</center>\n",
        "\n",
        "\n",
        "### Experimental Procedure\n",
        "1. Hold plywood vertically so the rods with beads are horizontal \n",
        "\n",
        "2. Drip water onto the rod where the strings converge and observe the flow down the strings"
      ]
    },
    {
      "cell_type": "markdown",
      "metadata": {
        "id": "JV2lPwPD8K2R",
        "colab_type": "text"
      },
      "source": [
        "# Appendices"
      ]
    },
    {
      "cell_type": "markdown",
      "metadata": {
        "id": "LaELphDxGIE-",
        "colab_type": "text"
      },
      "source": [
        "## Appendix A: Python Code\n",
        "\n"
      ]
    },
    {
      "cell_type": "code",
      "metadata": {
        "id": "Cq2qbVl1GpO3",
        "colab_type": "code",
        "outputId": "e6b144d3-ce4f-4ff6-ab2f-d47bf99edba9",
        "colab": {
          "base_uri": "https://localhost:8080/",
          "height": 410
        }
      },
      "source": [
        "!pip install aguaclara"
      ],
      "execution_count": 0,
      "outputs": [
        {
          "output_type": "stream",
          "text": [
            "Requirement already satisfied: aguaclara in /usr/local/lib/python3.6/dist-packages (0.1.4)\n",
            "Requirement already satisfied: numpy in /usr/local/lib/python3.6/dist-packages (from aguaclara) (1.16.4)\n",
            "Requirement already satisfied: matplotlib in /usr/local/lib/python3.6/dist-packages (from aguaclara) (3.0.3)\n",
            "Requirement already satisfied: scipy in /usr/local/lib/python3.6/dist-packages (from aguaclara) (1.3.0)\n",
            "Requirement already satisfied: onshapepy in /usr/local/lib/python3.6/dist-packages (from aguaclara) (0.0.18)\n",
            "Requirement already satisfied: pandas in /usr/local/lib/python3.6/dist-packages (from aguaclara) (0.24.2)\n",
            "Requirement already satisfied: pint==0.8.1 in /usr/local/lib/python3.6/dist-packages (from aguaclara) (0.8.1)\n",
            "Requirement already satisfied: kiwisolver>=1.0.1 in /usr/local/lib/python3.6/dist-packages (from matplotlib->aguaclara) (1.1.0)\n",
            "Requirement already satisfied: pyparsing!=2.0.4,!=2.1.2,!=2.1.6,>=2.0.1 in /usr/local/lib/python3.6/dist-packages (from matplotlib->aguaclara) (2.4.0)\n",
            "Requirement already satisfied: cycler>=0.10 in /usr/local/lib/python3.6/dist-packages (from matplotlib->aguaclara) (0.10.0)\n",
            "Requirement already satisfied: python-dateutil>=2.1 in /usr/local/lib/python3.6/dist-packages (from matplotlib->aguaclara) (2.5.3)\n",
            "Requirement already satisfied: ruamel.yaml in /usr/local/lib/python3.6/dist-packages (from onshapepy->aguaclara) (0.16.0)\n",
            "Requirement already satisfied: requests in /usr/local/lib/python3.6/dist-packages (from onshapepy->aguaclara) (2.21.0)\n",
            "Requirement already satisfied: pytz>=2011k in /usr/local/lib/python3.6/dist-packages (from pandas->aguaclara) (2018.9)\n",
            "Requirement already satisfied: setuptools in /usr/local/lib/python3.6/dist-packages (from kiwisolver>=1.0.1->matplotlib->aguaclara) (41.0.1)\n",
            "Requirement already satisfied: six in /usr/local/lib/python3.6/dist-packages (from cycler>=0.10->matplotlib->aguaclara) (1.12.0)\n",
            "Requirement already satisfied: ruamel.yaml.clib; platform_python_implementation == \"CPython\" and python_version < \"3.8\" in /usr/local/lib/python3.6/dist-packages (from ruamel.yaml->onshapepy->aguaclara) (0.1.0)\n",
            "Requirement already satisfied: certifi>=2017.4.17 in /usr/local/lib/python3.6/dist-packages (from requests->onshapepy->aguaclara) (2019.6.16)\n",
            "Requirement already satisfied: chardet<3.1.0,>=3.0.2 in /usr/local/lib/python3.6/dist-packages (from requests->onshapepy->aguaclara) (3.0.4)\n",
            "Requirement already satisfied: urllib3<1.25,>=1.21.1 in /usr/local/lib/python3.6/dist-packages (from requests->onshapepy->aguaclara) (1.24.3)\n",
            "Requirement already satisfied: idna<2.9,>=2.5 in /usr/local/lib/python3.6/dist-packages (from requests->onshapepy->aguaclara) (2.8)\n"
          ],
          "name": "stdout"
        }
      ]
    },
    {
      "cell_type": "markdown",
      "metadata": {
        "id": "j0N8X9Vq9ZjE",
        "colab_type": "text"
      },
      "source": [
        "The following code was used to calculate the flow rates in Table 3 and Table 4  (varying the distance between orifice and deflector plate)"
      ]
    },
    {
      "cell_type": "code",
      "metadata": {
        "id": "eEpWjBkIGjOa",
        "colab_type": "code",
        "colab": {}
      },
      "source": [
        "import math as m\n",
        "from aguaclara.play import*\n",
        "import numpy as np\n",
        "from scipy.constants import g as g # standard acceleration due to gravity\n",
        "from scipy.constants import pi as pi\n",
        "\n",
        "g = g * u.m/(u.s**2)\n",
        "Pi_vc = 0.62 # Pi vena contracta\n",
        "diam_orif = 0.00595313*u.m\n",
        "A_orif = (pi*(diam_orif/2)**2) # Area of the orifice\n",
        "h1 = 0.01*u.m\n",
        "Q = Pi_vc*A_orif*((2*g*h1)**0.5) # See Equation 2 in Literature Review\n",
        "Flowrate = [Q]\n",
        "\n",
        "for h in range(2,30):\n",
        "  Q = Pi_vc*A_orif*(2*g*h*u.m/100)**0.5\n",
        "  Flowrate.append(Q)\n",
        "\n",
        "for i in range (0,30):\n",
        "  print(Flowrate[i])\n",
        "  "
      ],
      "execution_count": 0,
      "outputs": []
    },
    {
      "cell_type": "markdown",
      "metadata": {
        "id": "H_HL98Jzh6sR",
        "colab_type": "text"
      },
      "source": [
        "The following code was used to calculate the flow rate from [Equation 2](##Orifice), given the orifice diameter and height of water in the water column."
      ]
    },
    {
      "cell_type": "code",
      "metadata": {
        "id": "5bAMvVIpiLu6",
        "colab_type": "code",
        "colab": {}
      },
      "source": [
        "import math as m\n",
        "from aguaclara.play import*\n",
        "from scipy.constants import g as g # standard acceleration due to gravity\n",
        "from scipy.constants import pi as pi\n",
        "\n",
        "g = g * u.m/u.s**2\n",
        "Pi_vc = 0.62 # Pi vena contracta\n",
        "diam_orif = 0.00595313*u.m\n",
        "A_orif = (pi*(diam_orif/2)**2)\n",
        "h = 0.155 * u.m\n",
        "Q = Pi_vc*A_orif*(2*g*h)**0.5\n",
        "print(Q)"
      ],
      "execution_count": 0,
      "outputs": []
    },
    {
      "cell_type": "markdown",
      "metadata": {
        "id": "pW1x5pdHANcK",
        "colab_type": "text"
      },
      "source": [
        "The following code was used to create **Figure 19** and to compute a linear regression for the data"
      ]
    },
    {
      "cell_type": "code",
      "metadata": {
        "id": "6e4fRDAQvy40",
        "colab_type": "code",
        "outputId": "072b69f2-d60a-4a4f-e199-7cef7a92497d",
        "colab": {
          "base_uri": "https://localhost:8080/",
          "height": 351
        }
      },
      "source": [
        "import numpy as np\n",
        "import matplotlib.pyplot as plt\n",
        "import scipy.stats as stats\n",
        "\n",
        "#Data from Preferential Flow Experiments \n",
        "densities = np.array([12, 18, 24, 30, 36]) # strings/cm\n",
        "percentReceivedWater = [82.5, 93.34, 95.2, 89.34, 89.4] #Average percentage of strings that recieved water (1 or 2)\n",
        "percentFullyDyed = [64.34, 63.72, 72.76, 75.1, 66.29] #Average percentage of strings that were completely dyed (2 only)\n",
        "\n",
        "#Plot Data\n",
        "receivedWater, = plt.plot(densities,percentReceivedWater,\"ro\")\n",
        "FullFlow, = plt.plot(densities,percentFullyDyed,\"bs\")\n",
        "plt.xlabel(\"Density [strings/cm]\")\n",
        "plt.ylabel(\"Average Percentage of Strings\")\n",
        "plt.legend([receivedWater,FullFlow],[\"Partially or Fully Dyed\",\"Fully Dyed\"])\n",
        "\n",
        "x = np.linspace(10,40,100)\n",
        ".0\n",
        "#Percent Received Water\n",
        "p1 = np.polyfit(densities, percentReceivedWater, 2)\n",
        "plt.plot(densities, percentReceivedWater, 'ro') #Data points\n",
        "plt.plot(x, np.polyval(p1,x),'r--') #Trendline \n",
        "\n",
        "#Percent Fully Dyed\n",
        "p2 = np.polyfit(densities, percentFullyDyed, 2)\n",
        "plt.plot(densities, percentFullyDyed, 'bs') #Data points\n",
        "plt.plot(x, np.polyval(p2,x),'b--') #Trendline\n",
        "\n",
        "#Stats\n",
        "#Received Water\n",
        "print(\"Trendline for the average percentage of strings that were partially or fully dyed:\")\n",
        "yfit1 = p1[0]* densities**2 + p1[1]*densities + p1[2]\n",
        "yresid1 = percentReceivedWater - yfit1\n",
        "SSresid1 = sum(pow(yresid1,2))\n",
        "SStotal1 = len(percentReceivedWater)*np.var(percentReceivedWater)\n",
        "rsq1 = 1 - SSresid1/SStotal1\n",
        "print(\"R-squared:\",rsq1)\n",
        "\n",
        "#Fully Dyed\n",
        "print(\"Trendline for the average percentage of strings that were fully dyed:\")\n",
        "yfit2 = p2[0]* densities**2 + p2[1]*densities + p2[2]\n",
        "yresid2 = percentFullyDyed - yfit2\n",
        "SSresid2 = sum(pow(yresid2,2))\n",
        "SStotal2 = len(percentFullyDyed)*np.var(percentFullyDyed)\n",
        "rsq2 = 1 - SSresid2/SStotal2\n",
        "print(\"R-squared:\",rsq2)\n"
      ],
      "execution_count": 0,
      "outputs": [
        {
          "output_type": "stream",
          "text": [
            "Trendline for the average percentage of strings that were partially or fully dyed:\n",
            "R-squared: 0.7438821576241624\n",
            "Trendline for the average percentage of strings that were fully dyed:\n",
            "R-squared: 0.575260122390759\n"
          ],
          "name": "stdout"
        },
        {
          "output_type": "display_data",
          "data": {
            "image/png": "[encoded data removed]",
            "text/plain": [
              "<Figure size 432x288 with 1 Axes>"
            ]
          },
          "metadata": {
            "tags": []
          }
        }
      ]
    },
    {
      "cell_type": "markdown",
      "metadata": {
        "id": "6v8yZvT8SJF0",
        "colab_type": "text"
      },
      "source": [
        "## Appendix B: Spray Images \n",
        "### Decreasing Flow Rate  \n",
        "#### Trial 1\n",
        "<center>\n",
        "<p style=\"text-align: center;\">\n",
        "<img src=\"https://github.com/AguaClara/String-Digester/blob/master/Summer_2019/Photos/jet_flow_rate_Exp3.2_Trial1_b.PNG\n",
        "?raw=true\" height = 250 />\n",
        "  </p>\n",
        "\n",
        "**Figure 1:** This image shows the spray pattern at a water height of 35.5 cm, a flow rate of 0.05798 L/s, and an orifice size of 6.72 mm.\n",
        "</center>\n",
        "  \n",
        "#### Trial 2\n",
        " <center>\n",
        "<p style=\"text-align: center;\">\n",
        "<img src=\"https://github.com/AguaClara/String-Digester/blob/master/Summer_2019/Photos/jet_flow_rate_Exp3.2_Trial2_b.PNG\n",
        "?raw=true\" height = 250 />\n",
        "  </p>\n",
        " \n",
        " **Figure 2:** This image shows the spray pattern at a water height of 15.8 cm, a flow rate of 0.03866 L/s, and an orifice size of 6.72 mm.\n",
        "  </center>\n",
        "\n",
        "#### Trial 3\n",
        " <center>\n",
        "<p style=\"text-align: center;\">\n",
        "<img src=\"https://github.com/AguaClara/String-Digester/blob/master/Summer_2019/Photos/jet_flow_rate_Exp3.2_Trial4_b.PNG\n",
        "?raw=true\" height = 250 />\n",
        "  </p>\n",
        "  \n",
        "  **Figure 3:** This image shows the spray pattern at a water height of 35 cm, a flow rate of 0.039374 L/s, and an orifice size of 5.56 mm.\n",
        "  </center>\n",
        "  \n",
        "#### Trial 4\n",
        "<center>\n",
        "<p style=\"text-align: center;\">\n",
        "<img src=\"https://github.com/AguaClara/String-Digester/blob/master/Summer_2019/Photos/jet_flow_rate_Exp3.2_Trial5_video2.PNG\n",
        "?raw=true\" height = 250 />\n",
        "  </p>\n",
        "  \n",
        "  **Figure 4:** This image shows the spray pattern at a water height of 15.5 cm, a flow rate of 0.030079 L/s, and an orifice size of 5.95 mm. It uses an orifice-deflector distance of 25 cm. \n",
        "  </center>\n",
        "  \n",
        "### Varying Water Velocity\n",
        "The following pictures correspond to Table 4 \n",
        "\n",
        "<center>\n",
        "<p style=\"text-align: center;\">\n",
        "<img src=\"https://github.com/AguaClara/String-Digester/blob/master/Summer_2019/Photos/jet_flow_rate_Exp3.3_10cm.PNG\n",
        "?raw=true\" height = 250 />\n",
        "  </p>\n",
        "  \n",
        "**Figure 5:**  A distance of 10 cm between the orifice and the deflecting plate was used to create this spray, with a water column height of 20 cm and flow rate of 0.03418 L/s. \n",
        "\n",
        "<p style=\"text-align: center;\">\n",
        "<img src=\"https://github.com/AguaClara/String-Digester/blob/master/Summer_2019/Photos/jet_flow_rate_Exp3.3_20cm.PNG\n",
        "?raw=true\" height = 250 />\n",
        "  </p>\n",
        "  \n",
        " **Figure 6:**  A distance of 20 cm between the orifice and the deflecting plate was used to create this spray, with a water column height of 30 cm and flow rate of 0.04186 L/s. \n",
        "\n",
        "<p style=\"text-align: center;\">\n",
        "<img src=\"https://github.com/AguaClara/String-Digester/blob/master/Summer_2019/Photos/jet_flow_rate_Exp3.3_30cm.PNG\n",
        "?raw=true\" height = 250 />\n",
        "  </p>\n",
        "\n",
        "**Figure 7:**  A distance of 30 cm between the orifice and the deflecting plate was used to create this spray, with a water column height of 4 cm and flow rate of 0.01529 L/s. \n",
        "\n",
        "<p style=\"text-align: center;\">\n",
        "<img src=\"https://github.com/AguaClara/String-Digester/blob/master/Summer_2019/Photos/jet_flow_rate_Exp3.3_40cm.PNG\n",
        "?raw=true\" height = 250 />\n",
        "  </p>\n",
        "  \n",
        "  **Figure 8:**  A distance of 40 cm between the orifice and the deflecting plate was used to create this spray, with a water column height of 2 cm and flow rate of 0.01081 L/s. \n",
        "\n",
        "<p style=\"text-align: center;\">\n",
        "<img src=\"https://github.com/AguaClara/String-Digester/blob/master/Summer_2019/Photos/jet_flow_rate_Exp3.3_50cm.PNG\n",
        "?raw=true\" height = 250 />\n",
        "  </p>\n",
        "\n",
        "  **Figure 9:**  A distance of 50 cm between the orifice and the deflecting plate was used to create this spray, with a water column height of 2 cm and flow rate of 0.01081 L/s. \n",
        "</center>"
      ]
    },
    {
      "cell_type": "markdown",
      "metadata": {
        "id": "2CuBGF7y-5HC",
        "colab_type": "text"
      },
      "source": [
        "## Appendix C: Additional Tables\n",
        "\n",
        "The following table corresponds to **Figure 19**  in the String Density vs. Water Distribution Experiment\n",
        "\n",
        " **Table 1:** This table shows the average percentages of strings that received water or that were completely covered with dye. The number of trials conducted for each string density are 3, 3, 1, 3, and 2 respectively.\n",
        " \n",
        "| String Density (strings/cm) | Average percentage of strings that received water | Average percentage of strings that were completely covered with dye |\n",
        "|:-:|:-:|:-:|\n",
        "|12|82.58|64.34|\n",
        "|18|93.34|63.72|\n",
        "|24|95.20|72.76|\n",
        "|30|89.34|75.10|\n",
        "|36|89.40|66.29|"
      ]
    }
  ]
}
