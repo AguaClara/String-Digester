{
  "nbformat": 4,
  "nbformat_minor": 0,
  "metadata": {
    "colab": {
      "name": "String Digester Spring 2022 Final Report Draft",
      "provenance": [],
      "collapsed_sections": []
    },
    "kernelspec": {
      "name": "python3",
      "display_name": "Python 3"
    }
  },
  "cells": [
    {
      "cell_type": "markdown",
      "metadata": {
        "id": "TLAmaRBfCmiy"
      },
      "source": [
        "# **String Digester, Spring 2022**\n",
        "#### Sarah Bae, Ruby Pascual, Camden Wehrle\n",
        "#### 04/29/2022"
      ]
    },
    {
      "cell_type": "markdown",
      "metadata": {
        "id": "BfeU4k7OCphn"
      },
      "source": [
        "## Abstract\n",
        "The String Digester Spring 2022 subteam continues to research into the use of strings as a filtration medium in an efficient gravity powered trickle filter. This semester, the team is building off of previous work to create a model of sloped layers of loopy strings, with water sprayed evenly on them by a water distributor. Water flowing at 10 μL/s on each string would allow for cleaning by a biofilm. The team will test for preferential flow and even water dispersion, critical for treatment of the secondary and tertiary wastewater entering the string digester. \n"
      ]
    },
    {
      "cell_type": "markdown",
      "metadata": {
        "id": "YBfX7kSlkgBd"
      },
      "source": [
        "## **Introduction**\n",
        "The String Digester sub-team was created in response to the need for additional wastewater treatment after treatment from the Upflow Anaerobic Sludge Blanket (UASB) reactor. A trickling filter is a secondary wastewater treatment system that removes organic matter from the wastewater through biological means, and is crucial for the removal of harmful pathogens. The goal of the String Digester subteam is to design a new trickling filter using strings as media that addresses the expensive and inefficient nature of conventional designs. Current trickling filters utilize a large mechanical distributor arm to spray water onto filter media, which requires periodic maintenance, can clog easily, and distributes water unevenly. Other inefficiencies in trickling filter operation are caused by preferential flow in the filter media itself. \n",
        " \n",
        "When designing a new trickling filter, a priority for the subteam was following the AguaClara philosophy: plants should be designed for low cost, high performance, and accessibility. Eliminating the need for large moving parts such as the distributor arm, would reduce the energy requirements and therefore the cost of a trickling filters. Additionally, decreasing preferential flow in the filter media would improve performance, making trickling filters more competitive with other secondary treatment methods such as aeration tanks. Finally, avoiding the use of small holes susceptible to clogging was an important consideration in the trickling filter design. \n",
        " \n",
        "Strings were chosen as a filter media for several reasons. Their high surface area to volume ratio means that a large amount of water can be treated in a small space. [Research](###String-Reaeration) also shows that strings have the ability to reaerate quickly so that energy-consuming fans are not needed to reintroduce oxygen to the system. Additionally, the subteam believed that the linear geometry of a string could minimize preferential flow. \n",
        " \n",
        "This semester, the team looks to calculate the number of strings required for a model that uses a spoon shaped water distributor to create a good flow, and create an arrangement of those strings that would reduce preferential flow. The string arrangement is important to ensure water is evenly distributed across the total area. "
      ]
    },
    {
      "cell_type": "markdown",
      "metadata": {
        "id": "FLDOXtNqCtAW"
      },
      "source": [
        "## Literature Review and Previous Work\n"
      ]
    },
    {
      "cell_type": "markdown",
      "metadata": {
        "id": "uIw2mruwm-vO"
      },
      "source": [
        "## **Trickling Filters**\n",
        "\n",
        "The filter media in a conventional trickling filter is usually a material such as rocks, gravel, shredded PVC bottles, or special pre-formed plastic filter media. Because all these materials are not regularly shaped and wastewater is not distributed exactly equally across the top of the media, the water follows the paths of least resistance and preferential flow occurs. To clarify, preferential flow occurs when water repeatedly follows a specific pathway through the filter media opposed to others. Thus, there is wasted space in the filter that remains dry and unused, and this is space ineffeicient. Spuhler recommended using specially manufactured plastic media, like corrugated plastic sheets or even hollow plastic cylinders, to optimize surface area for biofilm formation and allow for free movement of air [(Spuhler 2018)](https://www.sswm.info/node/8215).\n",
        "\n",
        "In addition to non-homogenous distribution of wastewater throughout the filter, there is significant documentation of other problems plant operators experience when dealing with trickling filters. Ali and co-authors stated that one major problem is clogging and ponding occurring within the filter media due to high biomass sloughing rate. In the context of a trickling filter, sloughing refers to when a layer of the microbial growth loses the ability to stay attached and is shed from the filter media and washed away by water flow. If the layer of biofilm is not maintained at a desired thickness, treatment performance will decrease. Clogging results in a decreased efficiency of treatment and if it is not addressed, the quality of the effluent will suffer. Current solutions include flashing with low doses of chlorine to remove deposited solids and kill excess biomass or periodic flooding [(Ali et al. 2017)](http://www.pjoes.com/pdf/26.6/Pol.J.Environ.Stud.Vol.26.No.6.2431-2444.pdf). The team aims to avoid the problem altogether by using a media that will not clog, however it is still an important factor to consider in the design, because any small slots or holes that the wastewater travels through in the system has the potential to clog with biofilm growth.\n",
        "\n",
        "Ali also stated that the aforementioned sloughing and clogging are often caused by uneven hydraulic loading rates (HLR). Hydraulic loading rate is the amount of flow arriving at the treatment plant and entering the treatment process at any given time. Uneven HLR is caused by clogging of the distribution arm and an uneven distribution of influent. Therefore, proper distribution of wastewater onto the filter media is crucial for optimizing efficiency of treatment. The most common method of influent distribution is rotating distributors. Rotating distributors consist of moving parts that require more maintenance and may be a burden in a plant to operators. \n",
        "\n",
        "The less common method of distribution, the fixed distribution system as seen below (**Figure 1**), utilizes lateral and main distribution pipes, which are placed just above the trickling filter medium and spaced to give uniform distribution of water. The pipes generally have nozzles with a circular hole and a deflector. This method is commonly used with intermittent dosing, meaning flow from the system varies; it starts at a maximum and lowers as the tank empties. Currently, fixed distribution systems are mostly used in deep filter and biotowers (i.e. very tall filters). Since this method is non-rotating, it may be more applicable for the proposed use of a string media. However, Sperling and colleagues showed that both the fixed and rotating distribution systems have an inconsistent hydraulic load of the influent [(Sperling 2007)](https://www.iwapublishing.com/sites/default/files/ebooks/9781780402123.pdf). Therefore, the distribution system is another area where there is huge potential for the team to increase the productivity of trickling filters.\n",
        "\n",
        "<center>\n",
        "\n",
        "![Fixed Distribution System](https://github.com/AguaClara/String-Digester/blob/master/Spring%202019/Images/Fixed%20Distribution%20Trickling%20Filter.gif?raw=true)\n",
        "\n",
        "**Figure 1:** Trickling filter with a fixed distribution system.\n",
        "\n",
        "</center>\n",
        "\n",
        "Although there are multiple problems with trickling filters, one main advantage of trickling filters is that they have a relatively low residence time. This is a consideration which the team should plan to maintain in future designs. Hinton and Stensel measured residence time per unit length of between 30 and 40 sec/m with dye tests. Their predicted residence times, calculated from laminar flow theory, were closer to about 15 sec/m. The authors attributed this discrepancy to \"dye sorption and desorption by the biofilm.\" In either case, the residence time for a 5 meter deep trickling filter would be well under 5 minutes [(Hinton and Stensel 1991)](https://ac.els-cdn.com/0043135491901179/1-s2.0-0043135491901179-main.pdf?_tid=e8d2db22-8e0f-4d3c-a421-352ef74e6f5e&acdnat=1540500088_4808114af12660c061fbd139ac0fbd33). This short treatment time makes trickling filters an appealing wastewater treatment option if problems such as uneven HLR and clogging can be minimized.\n",
        "\n",
        "[Above review of current trickling filters adapted from [Spring 2019 Final Report](https://github.com/AguaClara/String-Digester/blob/master/Spring%202019/String_Digester_Final_Report.md)]\n",
        "\n"
      ]
    },
    {
      "cell_type": "markdown",
      "metadata": {
        "id": "3bueEmUbnCOR"
      },
      "source": [
        "## **Water Distribution**\n",
        "Uniform water distribution is essential for many applications such as irrigation and water treatment. One common method for distributing water over a relatively large area is using a spray. There are several different methods for creating a spray, two being the Fixed Spray Plate Sprinklers (FSPS) and Rotating Spray Plate Sprinklers (RSPS). A comparative study conducted by [Faci et al. (2001)](https://ascelibrary.org/doi/pdf/10.1061/%28ASCE%290733-9437%282001%29127%3A4%28224%29) found that both methods resulted in a highly uniform distribution, with RSPS slightly more uniform than FSPS (94.6% versus 93.7%). While the study also focused on the effect of wind and overlapping sprinkler arrays, the methods and materials of the sprinklers are more applicable to this report.\n",
        "\n",
        "The FSPS design involves a water jet impinging on a fixed deflector plate, which then sprays water radially outward in the horizontal plane. The RSPS differs in that the deflector plate rotates when hit with the water jet. The nozzle diameters used in the study for both the FSPS and the RSPS were 3.8, 6.7, and 7.9mm. The deflector plate is what creates the spray pattern, and different deflectors can result in sprays at different angles. For the FSPS, the deflector had 33 grooves which resulted in flow being divided into 33 streams for the 3.8mm nozzle. One note from the study was that as the number of grooves in the deflector plate is increased, the drop size (for a set pressure and nozzle diameter) decreases [(Kincaid et al. 1996)](https://elibrary.asabe.org/azdez.asp?JID=3&AID=27568&CID=t1996&v=39&i=3&T=1&refer=7&access=&dabs=Y).\n",
        "\n",
        "For each of the sprinkler types, the distribution pattern was observed in varying wind conditions (low wind and medium wind) and with the sprinkler at different heights (1m and 2.5m) above the ground. Figure 2 shows that the RSPS results in a distribution with the highest density at the center (directly under the sprinkler) with the water density decreasing gradually as the radius from the center increases. However the FSPS results in a maximum density in a circular crown several meters from the center where the sprinkler is located. This difference in precipitation patterns is caused by the variation in the size of droplets from an RSPS (which can travel a wide range of distances depending on droplet diameter) compared with the relatively uniform droplet size from an FSPS.\n",
        "\n",
        "<center>\n",
        "\n",
        "<img src=\"https://github.com/AguaClara/String-Digester/blob/master/Summer_2019/Photos/FSPS_v_RSPS%20distribution.png?raw=true\" height = 350 />\n",
        "\n",
        "**Figure 2:** Water distribution from RSPS and FSPS sprinklers in different wind conditions at different heights.\n",
        "\n",
        "</center>\n",
        "\n",
        "[Faci et al. (2001)](https://ascelibrary.org/doi/pdf/10.1061/%28ASCE%290733-9437%282001%29127%3A4%28224%29) described how varying sprinkler head height causes changes in water distribution. As the sprinkler height from the ground increases, the total wetted area increases as drops emitted in the horizontal direction are able to travel a longer distance. However, drops traveling further have a tendency to drift or evaporate causing less uniformity in the sprinkler distribution, especially at higher wind speeds.\n",
        "\n",
        "While sprinklers create a uniform spray pattern that can be manipulated by varying parameters such as droplet size, nozzle diameter, and sprinkler height, sprinklers also require small orifices and large water velocities which may not be feasible with wastewater and potential clogging from biofilm growth. However the methods used to spray water outward in the radial direction could be useful when designing a system to spray water in a specific pattern, such as a straight line, and the methods used to split a water stream into several smaller jets may be applicable to future string digester designs.\n",
        "\n"
      ]
    },
    {
      "cell_type": "markdown",
      "metadata": {
        "id": "ny0MOcZ9nquG"
      },
      "source": [
        "## **Orifice**\n",
        "Torricelli's principle relates the velocity of water exiting an orifice, *v*, with water height, *h*, above the orifice; *g* is acceleration due to gravity. \n",
        "\n",
        "#### Equation 1: $$v = \\sqrt{2gh}$$ \n",
        "\n",
        "Multiplying this relation by the area of the orifice and a constant called the vena contracta, $\\pi_{vc}$, gives the flow rate of water through the orifice. The vena contracta is a constant that takes into account the narrowing of the water stream as it exits the orifice, and typically has values on the order of 0.62.\n",
        "\n",
        "#### Equation 2: $$Q = \\pi_{vc}A_{orifice}\\sqrt{2gh}$$ \n",
        "\n",
        "This relation was used to calculate the height of water necessary to produce a particular flow rate, given an orifice size. Additionally this relation can be used to calculate the total flow rate needed to serve a particular population, given that each person needs about [300 strings](###Number-of-Strings-Needed-to-Support-a-Small-Population) and there is a maximum flow rate of 10𝜇L/s per string.\n"
      ]
    },
    {
      "cell_type": "markdown",
      "metadata": {
        "id": "b5gnd91yn049"
      },
      "source": [
        "## **Number of Strings Needed to Support a Small Population**\n",
        "\n",
        "The [2010 World Water Day Fact Sheet](https://pacinst.org/wp-content/uploads/2013/02/water_quality_facts_and_stats3.pdf) reported an annual wastewater production of 1500 km^3 in 2003. For a  6.4 billion population in 2003, this translates to a waste water production rate of 7.50 mL/s per person. A more recent [source](https://www.researchgate.net/publication/283744445_Global_Wastewater_and_Sludge_Production_Treatment_and_Use) from 2015 reported a municipal wastewater production of 330 km^3. With a world population of 7.2 billion at in 2015, this corresponds to a wastewater production rate of 1.4 mL/s per person. \n",
        "\n",
        "To investigate the feasibility of using strings as a filter media, the subteam calculated the number of strings needed to support the population of a small town of 10,000 people. Professor Weber-Shirk estimated that the average human creates wastewater at a rate of 3 mL/s, or 3000 microliters/second. The research in the above paragraph supports this estimate, as the calculated values are on the same order of magnitude. If the flowrate down each string is 10 microliters per second, each person would need 300 strings to keep up with their own wastewater production. Therefore a population of 10,000 people would need a trickling filter composed of 3 million strings.\n",
        "\n",
        "\n"
      ]
    },
    {
      "cell_type": "markdown",
      "metadata": {
        "id": "o6LbMa39lc7p"
      },
      "source": [
        "# **Previous Work**\n",
        "\n",
        "In Spring 2018 ([Spring 2018 Final Report](https://github.com/AguaClara/String-Digester/blob/master/Spring%20'18/TricklingFilter_Final_Report.md)), the string digester team was created. After noting problems with preferential flow in traditional filtration mediums such as rocks and plastic pieces, they turned to strings as a medium. A model testing capillary action on the strings with an overflowing basin was created, and flow rate and residency time were experimented with. \n",
        "\n",
        "In Fall 2018 ([Fall 2018 Final Report](https://github.com/AguaClara/String-Digester/blob/master/Fall%20'18/Final_Report_stringdigester.md)), the team tested various materials to be used at the filter medium, such as chains and foams. They found foams to be the most promising. The following semester ([Spring 2019 Final Report](https://github.com/AguaClara/String-Digester/blob/master/Spring%202019/String_Digester_Final_Report.md)), the team looked at synthetic polymers due to their slow absorption of water, finding Dacron string to be the most viable. \n",
        "\n",
        "In Summer 2019 [(Summer 2019 Final Report)](https://github.com/AguaClara/String-Digester/blob/master/StringDigester_Summer2019_FinalReport.ipynb) loopy strings were found to be preferable to flat strings as they have higher aeration, allowing for a higher flow rate while still exposing the wastewater to sufficient amounts of oxygen. The team also constucted a string matrix model, which used a tightly packed \"wall\" of strings, and tested the flow of water onto it from a spray. However, some preferential flow was observed while using red dye to see where water flowed.\n",
        " \n",
        "In Fall 2019 [(Fall 2019 Final Report)](https://colab.research.google.com/drive/1bCo5l3UjrdeM9crV1CJhCS_xlaDBv3I9) the subteam focused on creating an optimal spray, after concluding this method was more effective than capillary action. A square deflector tube was tested at varying heights and angles. Having the deflector angled at 60 degrees, with spray hitting the front, and at a medium height yielded an optimal spray. In Spring 2020 [(Spring 2020 Report 1)](https://colab.research.google.com/drive/1_wz6dTfi0BINZCQzKKJTvB9XXq7eb-a9#scrollTo=o6LbMa39lc7p) preliminary tests looked at the distribution of water off of different distributors including mesh, a metal propeller, and a rectangular channel.\n",
        "\n",
        "In Spring 2021 [(Spring 2021 Final Report)](https://colab.research.google.com/drive/1fnSz-uj0K8EOCUCBqHxwP7pXrNaEqYOQ) a new \"jellyfish\" model was created. Instead of a spray dispersion it used a conical channel design to distribute water, allowing for the direct flow of water to strings. However, some problems with uneven distribution were obeserved.\n",
        "\n",
        "In Fall 2021 [(Fall 2021 Final Report)](https://colab.research.google.com/drive/1shFDk2ZdQc55sXGxp706zYVjcbdcq9QT#scrollTo=EqtwU-gRCrj9) the team CAD'd a new design. It featured an inverted spoon shaped water distributor placed in a square reactor made of acrylic sheets. Water would theoretically spray onto bundles of strings attached to PVC pipes when dropped onto the distributor.\n",
        "\n"
      ]
    },
    {
      "cell_type": "markdown",
      "metadata": {
        "id": "A9c0Dr8rCujT"
      },
      "source": [
        "## Methods\n"
      ]
    },
    {
      "cell_type": "markdown",
      "source": [
        "### Distributor Design\n",
        "The team decided to print and test two designs made by the Fall 2021 subteam, from this [Onshape project](https://cad.onshape.com/documents/05b4f90ab2cffb7b8f521f09/w/6ddc65805186140034d0788e/e/5b3b064bd0954601db881453). Both prints were made with a diameter of 75 mm at the Rapid Prototyping Lab.\n",
        "\n",
        "<center>\n",
        "  <p style=\"text-align: center;\">\n",
        "<img src=\"https://raw.githubusercontent.com/AguaClara/String-Digester/master/Spring%202022/spoon.jpg\" height = 400 />\n",
        "  </p>\n",
        "\n",
        "  **Figure 5.** Print of spoon design\n",
        "\n",
        "  <center>\n",
        "  <p style=\"text-align: center;\">\n",
        "<img src=\"https://raw.githubusercontent.com/AguaClara/String-Digester/master/Spring%202022/umbrella.jpg\" height = 400 />\n",
        "  </p>\n",
        "\n",
        "  **Figure 6.** Print of umbrella design\n",
        "\n",
        "  During preliminary tests, the team decided that the spoon design showed more promise with its flow, as shown in the image below. Thus, the team has decided to move forward with the spoon as the water distributor. In the future, a new print may be made that's smaller and made of a higher quality resin. \n",
        "\n",
        "\n",
        "  <center>\n",
        "  <p style=\"text-align: center;\">\n",
        "<img src=\"https://raw.githubusercontent.com/AguaClara/String-Digester/master/Spring%202022/spoonspraytest.PNG\" height = 400 />\n",
        "  </p>\n",
        "\n",
        "  **Figure 7.** Preliminary test of spoon design\n",
        "\n",
        "In a real digester, the water basin from which water falls onto the spoon would be kept at a constant water height of 5 cm of water, to optimize the flow onto the spoon. Future tests will hold the spoon and tube in place more rigidly. \n",
        "\n"
      ],
      "metadata": {
        "id": "VO0CsleqGfTd"
      }
    },
    {
      "cell_type": "markdown",
      "metadata": {
        "id": "P1KPU32VCw94"
      },
      "source": [
        "### Digester Design\n",
        "The preliminary digester design consists of several thin rods with strings spaced 5.0 mm apart spread down their lengths. These walls of strings would be tilted at an angle (the figures below use a 60 degree angle, however this can be experimented with), and there would be multiple walls. In addition, the rods should be even smaller in diameter than they are in this model, to keep the string walls close together. \n",
        "\n",
        "<center>\n",
        "  <p style=\"text-align: center;\">\n",
        "<img src=\"https://raw.githubusercontent.com/AguaClara/String-Digester/master/Spring%202022/digesterdesign2d.png\" height = 400 />\n",
        "  </p>\n",
        "\n",
        "**Figure 3.** Side view of digester\n",
        "\n",
        "<center>\n",
        "  <p style=\"text-align: center;\">\n",
        "<img src=\"https://raw.githubusercontent.com/AguaClara/String-Digester/master/Spring%202022/digesterdesign3d.png\" height = 400 />\n",
        "  </p>\n",
        "\n",
        "**Figure 4.** 3D view of design\n",
        "\n",
        "After consulting with Dr. Weber-Shirk, the team decided that the design should be cantilevered - leaving one side open to allow for easy removal and removal of strings. From that point, some considerations and potential problems with reactor design were identified. \n"
      ]
    },
    {
      "cell_type": "markdown",
      "source": [
        "### Design Considerations\n",
        "\n",
        "1. The strings should be spaced 5 mm apart from each other. On each rod, the individual strings should be 5 mm apart, and each wall of strings should also be 5 mm from the ones in front and behind. So, a rod of 5 mm diameter could be used. \n",
        "\n",
        "2. The walls of strings should be angled at a degree between 0 and 85 from the horizontal, as angles in this range are satisfactory for trickling water. \n",
        "\n",
        "3. The flow onto the strings should be offset so that it hits the walls of strings relatively equally. This could be achieved by tilting the spoon distributor to the side.\n",
        "\n",
        "4. The strings must be arranged in a way that's easy to put them on the reactor and replace. In a plant, they may need to be replaced frequently if the biofilm gets dirty, so a design that allows for fast and easy replacement is important. "
      ],
      "metadata": {
        "id": "SiAy5p7bELpQ"
      }
    },
    {
      "cell_type": "markdown",
      "source": [
        "### Models\n",
        "\n",
        "\n",
        "#### Drilled Hole Design\n",
        "The team decided to create some rudimentary real world models based on the identified constraints. \n",
        "\n",
        "The first design consisted of two PVC pipes with holes drilled in them. In a more refined model, the holes would be 5 mm apart. From there, one string could be pulled through every hole in the single rod. The multiple rods would be arranged as shown in Figure 4 above. \n",
        "\n",
        "<center>\n",
        "  <p style=\"text-align: center;\">\n",
        "<img src=\"https://raw.githubusercontent.com/AguaClara/String-Digester/master/Spring%202022/drilledside.jpg\" height = 400 />\n",
        "  </p>\n",
        "\n",
        "**Figure 5.** Side view of drilled hole design\n",
        "\n",
        "<center>\n",
        "  <p style=\"text-align: center;\">\n",
        "<img src=\"https://raw.githubusercontent.com/AguaClara/String-Digester/master/Spring%202022/drilledtop.jpg\" height = 400 />\n",
        "  </p>\n",
        "\n",
        "  **Figure 6.** Cross sectional view of drilled hole design\n",
        "\n",
        "\n",
        "\n",
        "#### Threaded Rod Design\n",
        "\n",
        "\n",
        "Another idea the team had was to use threaded rod to space apart the strings. Threaded rod comes in smaller diameter sizes than PVC pipes, which is appealing when trying to space the string walls apart. String would be spaced apart by the thread of the rod, which creates small grooves for the string to sit in.\n",
        "\n",
        "<center>\n",
        "  <p style=\"text-align: center;\">\n",
        "<img src=\"https://raw.githubusercontent.com/AguaClara/String-Digester/master/Spring%202022/threaded.jpg\" height = 400 />\n",
        "  </p>\n",
        "\n",
        "**Figure 7.** Threaded rod\n",
        "\n",
        "This design posed issues in that the string could easily slide around on the rod, therefore it should be tightly tied to increase tension."
      ],
      "metadata": {
        "id": "-Bg65jYBGSSy"
      }
    },
    {
      "cell_type": "markdown",
      "source": [
        "## Results and Analysis\n",
        "\n",
        "For the distributor, the team has decided to move forward with the spoon design for the time being, leaving future revisions to the design for after progress has been made towards a digester design. \n",
        "\n",
        "For the digester designs, the \"drilled hole\" design shows some promise. While this design showed  If holes could be drilled in a steady pattern, it would be a relatively quick way to string the walls, especially if a needle was used to quickly pass through the holes. A larger pipe could potentially be used, allowing for multiple walls of string to be hung from the same rod. \n",
        "\n",
        "In addition, for this design a plan to pump water though each individual PVC pipe, instead of using the spray distributor, was devised. The top pipe would have a closed off end so all water would have to travel through the drilled holes. From there, water would trickle down from each of the strings. However, this idea was rejected as the small holes could get clogged by particles in the water. \n",
        "\n",
        "Nonetheless, this design could still work with a spray distributor. Some potential problems include difficulties in drilling every hole in an even line. Also, it would be ideal if the pipe was smaller - 5mm in diameter, however that would require a different material than PVC pipe. A way to space the walls apart could be to have multiple walls strung through each pipe, if a pipe of a diameter much larger than 5 mm was used. \n",
        "\n",
        "The threaded rod design did not work as well. The biggest problem was the string slipping from the positions, leading to cross over and not keeping the required 5 mm distance between strings. Perhaps if the threading was more pronounced, the strings would stay in place better. "
      ],
      "metadata": {
        "id": "LojKrtkrLuF3"
      }
    },
    {
      "cell_type": "markdown",
      "source": [
        "## Procedure\n",
        "\n",
        "In future semesters, the preliminary models for the digester design can be expanded on to be full-sized (around 0.2 m long rods). Tests of these designs can be conducted by dropping water from a basin onto the distributor and observing the flow onto the walls of strings. Red dye could be used to more easily view the distribution. "
      ],
      "metadata": {
        "id": "QoLEn1YdNMEO"
      }
    },
    {
      "cell_type": "markdown",
      "metadata": {
        "id": "8WdhCMcNC00a"
      },
      "source": [
        "\n",
        "### Python Code to Determine String Count\n",
        "\n",
        "Based on the height of the water and the .25 inch orifice of the tube, Torricelli's principle can be used to find the total number of strings to be used in the model. Based on the [Python Code](##Python-Code), which has been modified from that written by the Summer 2019 subteam, roughly between 1,900 and 2,000 strings would be needed. "
      ]
    },
    {
      "cell_type": "markdown",
      "source": [
        "## Conclusions and Future Work\n",
        "\n",
        "Overall, the team feels that moving forward with a combination of the drilled hole digester design and the spoon distributor design could be fruitful. The spoon distributor appeared to produce a satisfactory spray in preliminary trials.  Investigation into the optimal height to position it under falling water will be necessary moving forward. \n",
        "\n",
        "In addition, finding a suitable material to use for the rods is a priority. Ideally, a material would have a diameter of 5 mm and be easy to drill through. However, one consideration to keep in mind is that if a larger PVC pipe were used, of say 25 mm, then multiple walls of string could potentially be included on one rod. \n",
        "\n",
        "One aspect of the string digester that has been largely ignored in research thus far is the biofilm. Investigation into the creation of an ideal biofilm to be present on the strings will be important once a digester design is accepted and built."
      ],
      "metadata": {
        "id": "dv5zG43UaZvM"
      }
    },
    {
      "cell_type": "markdown",
      "source": [
        "## Manual\n",
        "\n",
        "### Fabrication Details\n",
        "The spray distributor designs were both printed from the Rapid Prototyping Lab with a radius of 75 mm. \n",
        "\n",
        "Materials needed to reproduce and further the model work done this semester include:\n",
        "\n",
        "\n",
        "*   Loopy yarn\n",
        "*   PVC piping\n",
        "\n",
        "*   Sewing needle\n",
        "*   Drill with small drill bits (potentially around 0.5 mm)\n",
        "\n",
        "\n",
        "*   Water basin\n",
        "*   Tubing with 0.25 in. opening\n",
        "\n",
        "\n",
        "\n",
        "\n",
        "\n",
        "\n"
      ],
      "metadata": {
        "id": "u7rX73AVePmy"
      }
    },
    {
      "cell_type": "markdown",
      "metadata": {
        "id": "HCNXi5uiDFsw"
      },
      "source": [
        "## Python Code\n"
      ]
    },
    {
      "cell_type": "code",
      "metadata": {
        "id": "CsiQ1OupEI4P"
      },
      "source": [
        "!pip install aguaclara\n",
        "import aguaclara as ac\n",
        "from aguaclara.core.units import u\n",
        "import matplotlib.pyplot as plt"
      ],
      "execution_count": null,
      "outputs": []
    },
    {
      "cell_type": "markdown",
      "metadata": {
        "id": "YWTxs8-PEV2J"
      },
      "source": [
        "### Code for Experimental Design\n"
      ]
    },
    {
      "cell_type": "code",
      "metadata": {
        "id": "qQu_bRDMDLVm",
        "outputId": "1ab59be3-dc26-48a9-c54b-eac156ea331b",
        "colab": {
          "base_uri": "https://localhost:8080/"
        }
      },
      "source": [
        "import math as m\n",
        "from aguaclara.play import*\n",
        "from scipy.constants import g as g # standard acceleration due to gravity\n",
        "from scipy.constants import pi as pi\n",
        "\n",
        "g = g * u.m/u.s**2\n",
        "Pi_vc = 0.62 # Pi vena contracta\n",
        "diam_orif = 0.00635*u.m\n",
        "A_orif = (pi*(diam_orif/2)**2)\n",
        "h = 0.05 * u.m\n",
        "Q = Pi_vc*A_orif*(2*g*h)**0.5\n",
        "\n",
        "v = np.sqrt(2*g*h) #calculate velocity\n",
        "\n",
        "strings = Q*v*(10**9)/10 #convert into microliters/second then divide by 10 to determine # of strings\n",
        "print(strings.magnitude)"
      ],
      "execution_count": null,
      "outputs": [
        {
          "output_type": "stream",
          "name": "stdout",
          "text": [
            "1925.5273737079472\n"
          ]
        }
      ]
    },
    {
      "cell_type": "markdown",
      "metadata": {
        "id": "fZyCYDraC80B"
      },
      "source": [
        "## Bibliography\n",
        "Ali et al. (2017). \"Identification and Elucidation of the Designing and Operational Issues of Trickling Filter Systems for Wastewater Treatment.\" Polish Journal of Environmental Studies. 26(6), 2431-2444.\n",
        "\n",
        "Faci, J. M. et al. \"Comparison of Fixed and Rotating Spray Plate Sprinklers.\" ASCE, Journal of Irrigation and Drainage Engineering, July/August 2001, 127(4): 224-233. https://ascelibrary.org/doi/pdf/10.1061/%28ASCE%290733-9437%282001%29127%3A4%28224%29\n",
        "\n",
        "Hinton, Steven. David, Stensel. (1991). \"Experimental observation of trickling filter hydraulics.\" Water Research. (pp. 1389-139).\n",
        "\n",
        "Kincaid, D. C.; Solomon, K. H; Oliphant, J. C.; \"Drop Size Distibutions for Irrigation Sprinklers.\" 1996 American Society for Agricultural Engineers. Vol. 39(3): 839-845. http://citeseerx.ist.psu.edu/viewdoc/download?doi=10.1.1.465.5537&rep=rep1&type=pdf\n",
        "\n",
        "Sperling, Marcos von (2007). Activated Sludge and Aerobic Biofilm Reactors. (pp. 271-283) London: IWA Publishing.\n",
        "\n",
        "Spuhler, Dorothee; Eawag (Swiss Federal Institute of Aquatic Science and Technology). Trickling Filter.\n",
        "\n",
        "World Water Day 2010 (2010, March 22). World water Quality Facts and Staistics. Retrieved from https://pacinst.org/wp-content/uploads/2013/02/water_quality_facts_and_stats3.pdf"
      ]
    }
  ]
}