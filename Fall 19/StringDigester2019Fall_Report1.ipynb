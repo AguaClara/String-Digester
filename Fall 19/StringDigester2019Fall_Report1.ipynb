{
  "nbformat": 4,
  "nbformat_minor": 0,
  "metadata": {
    "colab": {
      "name": "StringDigester2019Fall_Report1.ipynb",
      "provenance": [],
      "collapsed_sections": [],
      "include_colab_link": true
    },
    "kernelspec": {
      "name": "python3",
      "display_name": "Python 3"
    }
  },
  "cells": [
    {
      "cell_type": "markdown",
      "metadata": {
        "id": "view-in-github",
        "colab_type": "text"
      },
      "source": [
        "<a href=\"https://colab.research.google.com/github/AguaClara/String-Digester/blob/master/StringDigester2019Fall_Report1.ipynb\" target=\"_parent\"><img src=\"https://colab.research.google.com/assets/colab-badge.svg\" alt=\"Open In Colab\"/></a>"
      ]
    },
    {
      "cell_type": "markdown",
      "metadata": {
        "id": "awle31N5ykbr",
        "colab_type": "text"
      },
      "source": [
        "# String Digester, Fall 2019\n",
        "#### Madeline Garell, Gaby Sibel, and Valentina Dai\n",
        "#### October 2 2019\n"
      ]
    },
    {
      "cell_type": "markdown",
      "metadata": {
        "id": "lGzNCdLa1f38",
        "colab_type": "text"
      },
      "source": [
        "# Abstract\n",
        "The String Digester Fall 2019 subteam continued research on designing a new trickling filter to eliminate problems associated with conventional designs. The team developed an improved model of the previous model that used materials that do not decay as quickly. Experiments this fall focused on designing a water distribution system that does not encourage preferential flow, and creating a matrix of strings using \"loopy yarn\" as the filter media. An ideal string digester would distribute water uniformly onto a large number of densely packed strings from a spray. Previous testing demonstrated that a \"good\" spray can be achieved with flow rates on the order of 10 μL/s per string, which is the amount needed to ensure proper cleaning by a biofilm. Previous testing also found the string density resulting in the least preferential flow to be 30 strings/cm, although more trials are needed to confirm this result. Further experimentation is needed to improve the spray pattern geometry, and to determine if the \"loopy yarn\" is suitable for biofilm growth. The long-term goal of this team is to create an efficient wastewater treatment system that will perform tertiary treatment on domestic wastewater."
      ]
    },
    {
      "cell_type": "markdown",
      "metadata": {
        "id": "TpShT1NO1jsq",
        "colab_type": "text"
      },
      "source": [
        "# Introduction\n",
        "\n",
        "The String Digester sub-team was created in response to the need for additional wastewater treatment after treatment from the Upflow Anaerobic Sludge Blanket (UASB) reactor. A trickling filter is a secondary wastewater treatment system that removes organic matter from the wastewater through biological means, and is crucial for the removal of harmful pathogens. The goal of the String Digester subteam is to design a new trickling filter using strings as media that addresses the expensive and inefficient nature of conventional designs. Current trickling filters utilize a large mechanical distributor arm to spray water onto filter media, which requires periodic maintenance, can clog easily, and distributes water unevenly. Other inefficiencies in trickling filter operation are caused by preferential flow in the filter media itself. \n",
        " \n",
        "When designing a new trickling filter, a priority for the subteam was following the AguaClara philosophy: plants should be designed for low cost, high performance, and accessibility. Eliminating the need for large moving parts such as the distributor arm, would reduce the energy requirements and therefore the cost of a trickling filters. Additionally, decreasing preferential flow in the filter media would improve performance, making trickling filters more competitive with other secondary treatment methods such as aeration tanks. Finally, avoiding the use of small holes susceptible to clogging was an important consideration in the trickling filter design. \n",
        " \n",
        "Strings were chosen as a filter media for several reasons. Their high surface area to volume ratio means that a large amount of water can be treated in a small space. [Research](###String-Reaeration) also shows that strings have the ability to reaerate quickly so that energy-consuming fans are not needed to reintroduce oxygen to the system. Additionally, the subteam believed that the linear geometry of a string could minimize preferential flow. \n",
        " \n",
        "The main challenges faced by the subteam are finding a way to distribute a small amount of water evenly onto a large number of strings and ensuring that water is flowing down the strings evenly with the correct flow rate (10 μL/s) so that all the water gets treated fully and there is little to no wasted space. This semester the subteam will continue experimenting with methods for water distribution that do not involve large moving mechanical parts or small orifices that can clog. One concern with strings, as with traditional filter media, is that preferential flow will limit the efficiency of the design. Taking this into account when designing a model will be important, as well as concerns about biofilm growth and treatment. \n"
      ]
    },
    {
      "cell_type": "markdown",
      "metadata": {
        "id": "4gfgHIlZ2Evd",
        "colab_type": "text"
      },
      "source": [
        "# Literature Review\n",
        "## Trickling Filters\n",
        "\n",
        "The filter media in a conventional trickling filter is usually a material such as rocks, gravel, shredded PVC bottles, or special pre-formed plastic filter media. Because all these materials are not regularly shaped and wastewater is not distributed exactly equally across the top of the media, the water follows the paths of least resistance and preferential flow occurs. To clarify, preferential flow occurs when water repeatedly follows a specific pathway through the filter media opposed to others.Thus, there is wasted space in the filter that remains dry and unused, and this is space ineffeicient. Spuhler recommended using specially manufactured plastic media, like corrugated plastic sheets or even hollow plastic cylinders, to optimize surface area for biofilm formation and allow for free movement of air [(Spuhler 2018)](https://www.sswm.info/node/8215).\n",
        "\n",
        "In addition to non-homogenous distribution of wastewater throughout the filter, there is significant documentation of other problems plant operators experience when dealing with trickling filters. Ali and co-authors stated that one major problem is clogging and ponding occurring within the filter media due to high biomass sloughing rate. In the context of a trickling filter, sloughing refers to when a layer of the microbial growth loses the ability to stay attached and is shed from the filter media and washed away by water flow. If the layer of biofilm is not maintained at a desired thickness, treatment performance will decrease. Clogging results in a decreased efficiency of treatment and if it is not addressed, the quality of the effluent will suffer. Current solutions include flashing with low doses of chlorine to remove deposited solids and kill excess biomass or periodic flooding [(Ali et al. 2017)](http://www.pjoes.com/pdf/26.6/Pol.J.Environ.Stud.Vol.26.No.6.2431-2444.pdf). The team aims to avoid the problem altogether by using a media that will not clog, however it is still an important factor to consider in the design, because any small slots or holes that the wastewater travels through in the system has the potential to clog with biofilm growth.\n",
        "\n",
        "Ali also stated that the aforementioned sloughing and clogging are often caused by uneven hydraulic loading rates (HLR). Hydraulic loading rate is the amount of flow arriving at the treatment plant and entering the treatment process at any given time. Uneven HLR is caused by clogging of the distribution arm and an uneven distribution of influent. Therefore, proper distribution of wastewater onto the filter media is crucial for optimizing efficiency of treatment. The most common method of influent distribution is rotating distributors. Rotating distributors consist of moving parts that require more maintenance and may be a burden in a plant to operators. \n",
        "\n",
        "The less common method of distribution, the fixed distribution system as seen below (**Figure 3**), utilizes lateral and main distribution pipes, which are placed just above the trickling filter medium and spaced to give uniform distribution of water. The pipes generally have nozzles with a circular hole and a deflector. This method is commonly used with intermittent dosing, meaning flow from the system varies; it starts at a maximum and lowers as the tank empties. Currently, fixed distribution systems are mostly used in deep filter and biotowers (i.e. very tall filters). Since this method is non-rotating, it may be more applicable for the proposed use of a string media. However, Sperling and colleagues showed that both the fixed and rotating distribution systems have an inconsistent hydraulic load of the influent [(Sperling 2007)](https://www.iwapublishing.com/sites/default/files/ebooks/9781780402123.pdf). Therefore, the distribution system is another area where there is huge potential for the team to increase the productivity of trickling filters.\n",
        "\n",
        "<center>\n",
        "\n",
        "![Fixed Distribution System](https://github.com/AguaClara/String-Digester/blob/master/Spring%202019/Images/Fixed%20Distribution%20Trickling%20Filter.gif?raw=true)\n",
        "\n",
        "**Figure 3.** Trickling filter with a fixed distribution system.\n",
        "\n",
        "</center>\n",
        "\n",
        "Although there are multiple problems with trickling filters, one main advantage of trickling filters is that they have a relatively low residence time. This is a consideration which the team should plan to maintain in future designs. Hinton and Stensel measured residence time per unit length of between 30 and 40 sec/m with dye tests. Their predicted residence times, calculated from laminar flow theory, were closer to about 15 sec/m. The authors attributed this discrepancy to \"dye sorption and desorption by the biofilm.\" In either case, the residence time for a 5 meter deep trickling filter would be well under 5 minutes [(Hinton and Stensel 1991)](https://ac.els-cdn.com/0043135491901179/1-s2.0-0043135491901179-main.pdf?_tid=e8d2db22-8e0f-4d3c-a421-352ef74e6f5e&acdnat=1540500088_4808114af12660c061fbd139ac0fbd33). This short treatment time makes trickling filters an appealing wastewater treatment option if problems such as uneven HLR and clogging can be minimized.\n",
        "\n",
        "[Above review of current trickling filters adapted from [Spring 2019 Final Report](https://github.com/AguaClara/String-Digester/blob/master/Spring%202019/String_Digester_Final_Report.md)]\n",
        "\n",
        "## Water Distribution\n",
        "Uniform water distribution is essential for many applications such as irrigation and water treatment. One common method for distributing water over a relatively large area is using a spray. There are several different methods for creating a spray, two being the Fixed Spray Plate Sprinklers (FSPS) and Rotating Spray Plate Sprinklers (RSPS). A comparative study conducted by [Faci et al. (2001)](https://ascelibrary.org/doi/pdf/10.1061/%28ASCE%290733-9437%282001%29127%3A4%28224%29) found that both methods resulted in a highly uniform distribution, with RSPS slightly more uniform than FSPS (94.6% versus 93.7%). While the study also focused on the effect of wind and overlapping sprinkler arrays, the methods and materials of the sprinklers are more applicable to this report.\n",
        "\n",
        "The FSPS design involves a water jet impinging on a fixed deflector plate, which then sprays water radially outward in the horizontal plane. The RSPS differs in that the deflector plate rotates when hit with the water jet. The nozzle diameters used in the study for both the FSPS and the RSPS were 3.8, 6.7, and 7.9mm. The deflector plate is what creates the spray pattern, and different deflectors can result in sprays at different angles. For the FSPS, the deflector had 33 grooves which resulted in flow being divided into 33 streams for the 3.8mm nozzle. One note from the study was that as the number of grooves in the deflector plate is increased, the drop size (for a set pressure and nozzle diameter) decreases [(Kincaid et al. 1996)](https://elibrary.asabe.org/azdez.asp?JID=3&AID=27568&CID=t1996&v=39&i=3&T=1&refer=7&access=&dabs=Y).\n",
        "\n",
        "For each of the sprinkler types, the distribution pattern was observed in varying wind conditions (low wind and medium wind) and with the sprinkler at different heights (1m and 2.5m) above the ground. Figure 2 shows that the RSPS results in a distribution with the highest density at the center (directly under the sprinkler) with the water density decreasing gradually as the radius from the center increases. However the FSPS results in a maximum density in a circular crown several meters from the center where the sprinkler is located. This difference in precipitation patterns is caused by the variation in the size of droplets from an RSPS (which can travel a wide range of distances depending on droplet diameter) compared with the relatively uniform droplet size from an FSPS.\n",
        "\n",
        "<center>\n",
        "\n",
        "<img src=\"https://github.com/AguaClara/String-Digester/blob/master/Summer_2019/Photos/FSPS_v_RSPS%20distribution.png?raw=true\" height = 350 />\n",
        "\n",
        "**Figure 4.** Water distribution from RSPS and FSPS sprinklers in different wind conditions at different heights.\n",
        "\n",
        "</center>\n",
        "\n",
        "[Faci et al. (2001)](https://ascelibrary.org/doi/pdf/10.1061/%28ASCE%290733-9437%282001%29127%3A4%28224%29) described how varying sprinkler head height causes changes in water distribution. As the sprinkler height from the ground increases, the total wetted area increases as drops emitted in the horizontal direction are able to travel a longer distance. However, drops traveling further have a tendency to drift or evaporate causing less uniformity in the sprinkler distribution, especially at higher wind speeds.\n",
        "\n",
        "While sprinklers create a uniform spray pattern that can be manipulated by varying parameters such as droplet size, nozzle diameter, and sprinkler height, sprinklers also require small orifices and large water velocities which may not be feasible with wastewater and potential clogging from biofilm growth. However the methods used to spray water outward in the radial direction could be useful when designing a system to spray water in a specific pattern, such as a straight line, and the methods used to split a water stream into several smaller jets may be applicable to future string digester designs.\n",
        "\n",
        "## Orifice\n",
        "Torricelli's principle relates the velocity of water exiting an orifice, *v*, with water height, *h*, above the orifice; *g* is acceleration due to gravity. \n",
        "\n",
        "#### Equation 1: $$v = \\sqrt{2gh}$$ \n",
        "\n",
        "Multiplying this relation by the area of the orifice and a constant called the vena contracta, $\\pi_{vc}$, gives the flow rate of water through the orifice. The vena contracta is a constant that takes into account the narrowing of the water stream as it exits the orifice, and typically has values on the order of 0.62.\n",
        "\n",
        "#### Equation 2: $$Q = \\pi_{vc}A_{orifice}\\sqrt{2gh}$$ \n",
        "\n",
        "This relation was used to calculate the height of water necessary to produce a particular flow rate, given an orifice size. [Python code](##Python-Code) was written to perform such calculations. Additionally this relation can be used to calculate the total flow rate needed to serve a particular population, given that each person needs about [300 strings](###Number-of-Strings-Needed-to-Support-a-Small-Population) and there is a maximum flow rate of 10𝜇L/s per string.\n",
        "\n",
        "## Biofilm Growth\n",
        "A component of the string digester that is crucial to its success is the growth of biofilms on the strings. \"A biofilm is an assemblage of microbial cells that is irreversibly associated (not removed by gentle rinsing) with a surface and enclosed in a matrix of primarily polysaccharide material.\" [(Donlan 2002).](https://www.ncbi.nlm.nih.gov/pmc/articles/PMC2732559/) Biofilm attachment is a complex process regulated by diverse characteristics of the growth medium, substratum, and cell surface. Biofilm on trickling filters is composed of a variety of organisms and are typically enclosed in a polysaccharide. The biofilm matrix may also contain mineral crystals, corrosion particles, and clay or silt particles. In conclusion, biofilms in wastewater systems are often highly complex [(Donlan 2002).](https://www.ncbi.nlm.nih.gov/pmc/articles/PMC2732559/)\n",
        "\n",
        "Some testing has been done of the growth of biofilm in different surfaces. One study compared growth on glossy electro-polished, bright annealed stainless steel to matte stainless steel and to PVC. The paper notes that stainless steel is hydrophilic and PVC is hydrophobic. In the last 45 days of the 167 day experiment, the matte steel had about 1.44 times more microorganisms than the electro-polished steel, and there was no significant difference between the PVC and polished steel. In discussion of why this occurs, Pedersen cites two reasons: \"detachment due to shear forces from the flow will be reduced on the rougher surface since cells can be shielded from the bulk flow and more substratum surface area may be available for the biofilm\" [(Pedersen 1990).](https://www.ncbi.nlm.nih.gov/pmc/articles/PMC2732559/)\n",
        "\n",
        "[Above review of biofilm from [Spring 2019 Final Report](https://github.com/AguaClara/String-Digester/blob/master/Spring%202019/String_Digester_Final_Report.md)]\n",
        "\n",
        "## String Reaeration\n",
        "For strings to be a viable filter media in a string digester, the wastewater being treated must be exposed to a sufficient amount of oxygen. This is because biofilms consume oxygen in the process of breaking down organic material. Whether reaeration occurs as water flows slowly down a string is an important question Krasnoff and Lee answered in their report [Potential Aeration of Water Trickling Down a String](https://github.com/monroews/CEE3530/blob/master/Projects/2019/1Project.pdf). The experiments performed in this investigation into the aeration of water as it flows down a string included testing two different types of string - a flat string and a loopy yarn. By observing dissolved oxygen (DO) levels for varying amounts of chemical oxygen demand (COD) from $Na_{2}SO_{3}$, it was concluded that aeration can occur when water trickles down both the flat string and the loopy yarn. \n",
        "\n",
        "A second set of trials where the COD level was kept constant at 200 mg/L tested the aeration potential at three different flow rates. As expected the slowest flow rate resulted in the highest levels of DO since the water had the most time for aeration to occur on the string. In each case, the loopy yarn had higher levels of DO and it was shown that the loopy yarn still allowed for significant aeration at high flow rates whie the flat string did not (reaeration of the loopy yarn occurred for flow rates ranging from 1.75 to 17.2 μL/s). This means the loopy yarn is a more promising string digester filter media because a higher flow rate will increase the efficiency of the reactor without sacrificing the treatment. The higher rate of aeration in the yarn is attributed to it being hydrophilic and having \"loops\" that allow water drops to briefly collect. Because of this decreased flow rate and ability to reaerate, the loopy yarn was chosen over other materials tested by previous subteams (See [Previous Work](#Previous-work) for more details on these materials) to be used in Summer 2019 experiments. \n",
        "\n",
        "The results from these experiments showed that strings have the ability to reaerate naturally as water flows down them without needing an external source of air movement, such as with a fan. The type of string, the flow rate, and the level of COD are other variables that were proven to impact the degree of aeration and further tests with these parameters in mind would potentially lead to an ideal material and flowrate to consider for a working wastewater treatment plant. While the loopy yarn is promising in lab conditions, the biodegradability of acrylic yarn is something to consider. Under the conditions of a string digester, each strand of filter media will need to withstand a near constant flow of wastewater as well as host a biofilm for proper treatment. Further research into the effects of biofilm growth on several materials with the same \"loopy\" properties as the yarn will be needed. \n",
        "\n",
        "## Number of Strings Needed to Support a Small Population\n",
        "\n",
        "The [2010 World Water Day Fact Sheet](https://pacinst.org/wp-content/uploads/2013/02/water_quality_facts_and_stats3.pdf) reported an annual wastewater production of 1500 km^3 in 2003. For a  6.4 billion population in 2003, this translates to a waste water production rate of 7.50 mL/s per person. A more recent [source](https://www.researchgate.net/publication/283744445_Global_Wastewater_and_Sludge_Production_Treatment_and_Use) from 2015 reported a municpal wastewater production of 330 km^3. With a world population of 7.2 billion at in 2015, this corresponds to a wastewater production rate of 1.4 mL/s per person. \n",
        "\n",
        "To investigate the feasibility of using strings as a filter media, the subteam calculated the number of strings needed to support the population of a small town of 10,000 people. Professor Weber-Shirk estimated that the average human creates wastewater at a rate of 3 mL/s, or 3000 microliters/second. The research in the above paragraph supports this estimate, as the calculated values are on the same order of magnitude. If the flowrate down each string is 10 microliters per second, each person would need 300 strings to keep up with their own wastewater production. Therefore a population of 10,000 people would need a trickling filter composed of 3 million strings.\n",
        "\n"
      ]
    },
    {
      "cell_type": "markdown",
      "metadata": {
        "id": "OOkEV8L0lWoE",
        "colab_type": "text"
      },
      "source": [
        "# Previous Work \n",
        "[//]: <> (Write previous work in a general form instead of separating by semester. I think writing it by semester makes the flow more discontinuous. Summarize the main points of the semester by the importance of their findings and how they influenced this summer's work)\n",
        "\n",
        "The String Digester team began by researching the operational difficulties, kinetics, and typical design parameters of trickling filters in Spring 2018 ([Spring 2018 Final Report](https://github.com/AguaClara/String-Digester/blob/master/Spring%20'18/TricklingFilter_Final_Report.md)). The two main areas for improvement the team identified were the filter media itself and the distribution system. The team fabricated a bench top model for flow mapping and conducted several rounds of tests to determine the distribution of flow in trickling filters with small rock and marble media. In an effort to maximize the surface area to volume ratio and minimize the preferential flow observed with traditional filter media, the team shifted focus towards strings. This concept led the team to start with very preliminary testing of an overflowing basin model.\n",
        "\n",
        "The next two semesters, the team continued experimentation with the overflowing basin and focused on trying to find an ideal material to use as the filter media. Nylon, polypropylene, and a stainless steel wire and cable were tested, however none of the materials performed well on the basin set-up as the water did not follow the strands due to their hydrophobicity. [(Fall 2018 Final Report, ](https://github.com/AguaClara/String-Digester/blob/master/Fall%20'18/Final_Report_stringdigester.md)  [Spring 2019 Final Report)](https://github.com/AguaClara/String-Digester/blob/master/Spring%202019/String_Digester_Final_Report.md) The subteam eventually identified the Dacron string as having the most potential for a string digester in terms of residence time and viability for biofilm growth. Finally, the subteam calculated the theoretical efficiency (BOD removal per unit area) of a string digester and found that it compared with or exceeded traditional low-rate and high-rate trickling filters.\n",
        "\n",
        "As discussed in the [Literature](#String-Reaeration) section, Krasnoff and Lee tested the reaeration capacity of the loopy yarn and found that reaeration occurred for flow rates ranging from 1.75 to 17.2 μL/s, whereas flat string did not demonstrate strong reaeration at higher flow rates. Therefore, the loopy yarn was used for experiments this semester and the team focused on spray and flow patterns rather than choosing a filter media.  \n",
        "\n",
        "The Summer 2019 team focused on creating an initial model using a matrix of strings and experimented with sprays. The team fabricated a benchtop model and began observing preferential flow patterns using red dye. Conclusions from the summer included how to create a good spray and get water onto a wall of strings using a deflector plate with a specific geometry, an ideal flow rate per string, and ideal string placement geometry (spacing, angle, “loopiness”, …). [(Summer 2019 Final Report)](https://github.com/AguaClara/String-Digester/blob/master/StringDigester_Summer2019_FinalReport.ipynb)\n",
        " \n",
        "This semester the subteam hopes to continue the work from the Summer 2019 team by re-fabricating the benchtop model to be completely enclosed (for future wastewater tests), and by designing a more reliable method for spraying water onto the strings. \n",
        "\n"
      ]
    },
    {
      "cell_type": "markdown",
      "metadata": {
        "id": "a7POfNmj2Gr7",
        "colab_type": "text"
      },
      "source": [
        "# Methods\n",
        "\n",
        "\n",
        "\n",
        "\n",
        "\n",
        "\n",
        "\n",
        "\n",
        "\n",
        "\n"
      ]
    },
    {
      "cell_type": "markdown",
      "metadata": {
        "id": "m8p8W_x4y3zX",
        "colab_type": "text"
      },
      "source": [
        "## Determining Design Parameters\n"
      ]
    },
    {
      "cell_type": "markdown",
      "metadata": {
        "colab_type": "text",
        "id": "qWaJGr83-HtZ"
      },
      "source": [
        "## Experimental Apparatus"
      ]
    },
    {
      "cell_type": "markdown",
      "metadata": {
        "id": "_Nn9zXKc-Fjq",
        "colab_type": "text"
      },
      "source": [
        "# Results and Analysis\n",
        "\n",
        "[//]: <> (Use past tense for this section)"
      ]
    },
    {
      "cell_type": "markdown",
      "metadata": {
        "id": "Me12TWjY-Iys",
        "colab_type": "text"
      },
      "source": [
        "# Conclusions\n",
        "\n",
        "\n",
        "\n"
      ]
    },
    {
      "cell_type": "markdown",
      "metadata": {
        "id": "uQBlaQNP-VJA",
        "colab_type": "text"
      },
      "source": [
        "# Future Work\n"
      ]
    },
    {
      "cell_type": "markdown",
      "metadata": {
        "id": "ZXUik5SH-YFM",
        "colab_type": "text"
      },
      "source": [
        "# Bibliography\n",
        "\n",
        "Faci, J. M. et al. \"Comparison of Fixed and Rotating Spray Plate Sprinklers.\" ASCE, Journal of Irrigation and Drainage Engineering, July/August 2001, 127(4): 224-233. https://ascelibrary.org/doi/pdf/10.1061/%28ASCE%290733-9437%282001%29127%3A4%28224%29\n",
        "\n",
        "Kincaid, D. C.; Solomon, K. H; Oliphant, J. C.; \"Drop Size Distibutions for Irrigation Sprinklers.\" 1996 American Society for Agricultural Engineers. Vol. 39(3): 839-845. http://citeseerx.ist.psu.edu/viewdoc/download?doi=10.1.1.465.5537&rep=rep1&type=pdf\n",
        "\n",
        "Mateo-Sagasta, Javier & Raschid-Sally, Liqa & Thebo, Anne. (2015). *Global Wastewater and Sludge Production, Treatment and Use.* Wastewater: Economic Asset in an Urbanizing World. 15-38. 10.1007/978-94-017-9545-6_2. Retrieved from https://www.researchgate.net/publication/283744445_Global_Wastewater_and_Sludge_Production_Treatment_and_Use \n",
        "\n",
        "World Water Day 2010 (2010, March 22). *World water Quality Facts and Staistics.* Retrieved from https://pacinst.org/wp-content/uploads/2013/02/water_quality_facts_and_stats3.pdf\n",
        "\n",
        "\n",
        "\n",
        "\n",
        "\n"
      ]
    },
    {
      "cell_type": "markdown",
      "metadata": {
        "id": "EvBA8kN4-dty",
        "colab_type": "text"
      },
      "source": [
        "# Manual\n",
        "This manual is broken down into several different experimental methods, each with a brief description, list of materials, fabrication details, special components, and experimental procedure."
      ]
    },
    {
      "cell_type": "markdown",
      "metadata": {
        "colab_type": "text",
        "id": "Yd_GRy_7-U-X"
      },
      "source": [
        "# Appendices"
      ]
    },
    {
      "cell_type": "markdown",
      "metadata": {
        "id": "LaELphDxGIE-",
        "colab_type": "text"
      },
      "source": [
        "## Appendix A: Python Code\n",
        "\n"
      ]
    },
    {
      "cell_type": "code",
      "metadata": {
        "id": "Cq2qbVl1GpO3",
        "colab_type": "code",
        "outputId": "e6b144d3-ce4f-4ff6-ab2f-d47bf99edba9",
        "colab": {
          "base_uri": "https://localhost:8080/",
          "height": 410
        }
      },
      "source": [
        "!pip install aguaclara"
      ],
      "execution_count": 0,
      "outputs": [
        {
          "output_type": "stream",
          "text": [
            "Requirement already satisfied: aguaclara in /usr/local/lib/python3.6/dist-packages (0.1.4)\n",
            "Requirement already satisfied: numpy in /usr/local/lib/python3.6/dist-packages (from aguaclara) (1.16.4)\n",
            "Requirement already satisfied: matplotlib in /usr/local/lib/python3.6/dist-packages (from aguaclara) (3.0.3)\n",
            "Requirement already satisfied: scipy in /usr/local/lib/python3.6/dist-packages (from aguaclara) (1.3.0)\n",
            "Requirement already satisfied: onshapepy in /usr/local/lib/python3.6/dist-packages (from aguaclara) (0.0.18)\n",
            "Requirement already satisfied: pandas in /usr/local/lib/python3.6/dist-packages (from aguaclara) (0.24.2)\n",
            "Requirement already satisfied: pint==0.8.1 in /usr/local/lib/python3.6/dist-packages (from aguaclara) (0.8.1)\n",
            "Requirement already satisfied: kiwisolver>=1.0.1 in /usr/local/lib/python3.6/dist-packages (from matplotlib->aguaclara) (1.1.0)\n",
            "Requirement already satisfied: pyparsing!=2.0.4,!=2.1.2,!=2.1.6,>=2.0.1 in /usr/local/lib/python3.6/dist-packages (from matplotlib->aguaclara) (2.4.0)\n",
            "Requirement already satisfied: cycler>=0.10 in /usr/local/lib/python3.6/dist-packages (from matplotlib->aguaclara) (0.10.0)\n",
            "Requirement already satisfied: python-dateutil>=2.1 in /usr/local/lib/python3.6/dist-packages (from matplotlib->aguaclara) (2.5.3)\n",
            "Requirement already satisfied: ruamel.yaml in /usr/local/lib/python3.6/dist-packages (from onshapepy->aguaclara) (0.16.0)\n",
            "Requirement already satisfied: requests in /usr/local/lib/python3.6/dist-packages (from onshapepy->aguaclara) (2.21.0)\n",
            "Requirement already satisfied: pytz>=2011k in /usr/local/lib/python3.6/dist-packages (from pandas->aguaclara) (2018.9)\n",
            "Requirement already satisfied: setuptools in /usr/local/lib/python3.6/dist-packages (from kiwisolver>=1.0.1->matplotlib->aguaclara) (41.0.1)\n",
            "Requirement already satisfied: six in /usr/local/lib/python3.6/dist-packages (from cycler>=0.10->matplotlib->aguaclara) (1.12.0)\n",
            "Requirement already satisfied: ruamel.yaml.clib; platform_python_implementation == \"CPython\" and python_version < \"3.8\" in /usr/local/lib/python3.6/dist-packages (from ruamel.yaml->onshapepy->aguaclara) (0.1.0)\n",
            "Requirement already satisfied: certifi>=2017.4.17 in /usr/local/lib/python3.6/dist-packages (from requests->onshapepy->aguaclara) (2019.6.16)\n",
            "Requirement already satisfied: chardet<3.1.0,>=3.0.2 in /usr/local/lib/python3.6/dist-packages (from requests->onshapepy->aguaclara) (3.0.4)\n",
            "Requirement already satisfied: urllib3<1.25,>=1.21.1 in /usr/local/lib/python3.6/dist-packages (from requests->onshapepy->aguaclara) (1.24.3)\n",
            "Requirement already satisfied: idna<2.9,>=2.5 in /usr/local/lib/python3.6/dist-packages (from requests->onshapepy->aguaclara) (2.8)\n"
          ],
          "name": "stdout"
        }
      ]
    }
  ]
}
