{
  "nbformat": 4,
  "nbformat_minor": 0,
  "metadata": {
    "colab": {
      "name": "StringDigester_Report1_Spring2020.ipynb",
      "provenance": [],
      "collapsed_sections": [],
      "include_colab_link": true
    },
    "kernelspec": {
      "name": "python3",
      "display_name": "Python 3"
    }
  },
  "cells": [
    {
      "cell_type": "markdown",
      "metadata": {
        "id": "view-in-github",
        "colab_type": "text"
      },
      "source": [
        "<a href=\"https://colab.research.google.com/github/AguaClara/String-Digester/blob/master/StringDigester_Report1_Spring2020.ipynb\" target=\"_parent\"><img src=\"https://colab.research.google.com/assets/colab-badge.svg\" alt=\"Open In Colab\"/></a>"
      ]
    },
    {
      "cell_type": "markdown",
      "metadata": {
        "id": "TLAmaRBfCmiy",
        "colab_type": "text"
      },
      "source": [
        "# **String Digester, Spring 2020**\n",
        "#### Shania Fang, Madeline Garell, Madeline Keep, Adam Kulaczkowski\n",
        "#### 3/6/20"
      ]
    },
    {
      "cell_type": "markdown",
      "metadata": {
        "id": "BfeU4k7OCphn",
        "colab_type": "text"
      },
      "source": [
        "## **Abstract**\n",
        "The String Digester Spring 2020 subteam continued research on designing a new trickling filter to eliminate problems associated with conventional designs. The team developed an improved model of the previous model that used materials that do not decay as quickly. Experiments this semester focused on designing a water distribution system that does not encourage preferential flow, and creating a matrix of strings using \"loopy yarn\" as the filter media. An ideal string digester would distribute water uniformly onto a large number of densely packed strings from a spray. Previous testing demonstrated that a \"good\" spray can be achieved with flow rates on the order of 10 μL/s per string, which is the amount needed to ensure proper cleaning by a biofilm. Previous testing also found the string density resulting in the least preferential flow to be 30 strings/cm, although more trials are needed to confirm this result. Further experimentation is needed to improve the spray pattern geometry, and to determine if the \"loopy yarn\" is suitable for biofilm growth. The long-term goal of this team is to create an efficient wastewater treatment system that will perform tertiary treatment on domestic wastewater. "
      ]
    },
    {
      "cell_type": "markdown",
      "metadata": {
        "id": "EqtwU-gRCrj9",
        "colab_type": "text"
      },
      "source": [
        "## **Introduction**\n",
        "The String Digester sub-team was created in response to the need for additional wastewater treatment after treatment from the Upflow Anaerobic Sludge Blanket (UASB) reactor. A trickling filter is a secondary wastewater treatment system that removes organic matter from the wastewater through biological means, and is crucial for the removal of harmful pathogens. The goal of the String Digester subteam is to design a new trickling filter using strings as media that addresses the expensive and inefficient nature of conventional designs. Current trickling filters utilize a large mechanical distributor arm to spray water onto filter media, which requires periodic maintenance, can clog easily, and distributes water unevenly. Other inefficiencies in trickling filter operation are caused by preferential flow in the filter media itself. \n",
        " \n",
        "When designing a new trickling filter, a priority for the subteam was following the AguaClara philosophy: plants should be designed for low cost, high performance, and accessibility. Eliminating the need for large moving parts such as the distributor arm, would reduce the energy requirements and therefore the cost of a trickling filters. Additionally, decreasing preferential flow in the filter media would improve performance, making trickling filters more competitive with other secondary treatment methods such as aeration tanks. Finally, avoiding the use of small holes susceptible to clogging was an important consideration in the trickling filter design. \n",
        " \n",
        "Strings were chosen as a filter media for several reasons. Their high surface area to volume ratio means that a large amount of water can be treated in a small space. [Research](###String-Reaeration) also shows that strings have the ability to reaerate quickly so that energy-consuming fans are not needed to reintroduce oxygen to the system. Additionally, the subteam believed that the linear geometry of a string could minimize preferential flow. \n",
        " \n",
        "The main challenges faced by the subteam are finding a way to distribute a small amount of water evenly onto a large number of strings and ensuring that water is flowing down the strings evenly with the correct flow rate (10 μL/s) so that all the water gets treated fully and there is little to no wasted space. This semester the subteam will continue experimenting with methods for water distribution that do not involve large moving mechanical parts or small orifices that can clog. One concern with strings, as with traditional filter media, is that preferential flow will limit the efficiency of the design. Taking this into account when designing a model will be important, as well as concerns about biofilm growth and treatment. "
      ]
    },
    {
      "cell_type": "markdown",
      "metadata": {
        "id": "VF08I5Q5m2G1",
        "colab_type": "text"
      },
      "source": [
        "# **Literature Review**\n",
        "---"
      ]
    },
    {
      "cell_type": "markdown",
      "metadata": {
        "id": "uIw2mruwm-vO",
        "colab_type": "text"
      },
      "source": [
        "## **Trickling Filters**\n",
        "\n",
        "The filter media in a conventional trickling filter is usually a material such as rocks, gravel, shredded PVC bottles, or special pre-formed plastic filter media. Because all these materials are not regularly shaped and wastewater is not distributed exactly equally across the top of the media, the water follows the paths of least resistance and preferential flow occurs. To clarify, preferential flow occurs when water repeatedly follows a specific pathway through the filter media opposed to others.Thus, there is wasted space in the filter that remains dry and unused, and this is space ineffeicient. Spuhler recommended using specially manufactured plastic media, like corrugated plastic sheets or even hollow plastic cylinders, to optimize surface area for biofilm formation and allow for free movement of air [(Spuhler 2018)](https://www.sswm.info/node/8215).\n",
        "\n",
        "In addition to non-homogenous distribution of wastewater throughout the filter, there is significant documentation of other problems plant operators experience when dealing with trickling filters. Ali and co-authors stated that one major problem is clogging and ponding occurring within the filter media due to high biomass sloughing rate. In the context of a trickling filter, sloughing refers to when a layer of the microbial growth loses the ability to stay attached and is shed from the filter media and washed away by water flow. If the layer of biofilm is not maintained at a desired thickness, treatment performance will decrease. Clogging results in a decreased efficiency of treatment and if it is not addressed, the quality of the effluent will suffer. Current solutions include flashing with low doses of chlorine to remove deposited solids and kill excess biomass or periodic flooding [(Ali et al. 2017)](http://www.pjoes.com/pdf/26.6/Pol.J.Environ.Stud.Vol.26.No.6.2431-2444.pdf). The team aims to avoid the problem altogether by using a media that will not clog, however it is still an important factor to consider in the design, because any small slots or holes that the wastewater travels through in the system has the potential to clog with biofilm growth.\n",
        "\n",
        "Ali also stated that the aforementioned sloughing and clogging are often caused by uneven hydraulic loading rates (HLR). Hydraulic loading rate is the amount of flow arriving at the treatment plant and entering the treatment process at any given time. Uneven HLR is caused by clogging of the distribution arm and an uneven distribution of influent. Therefore, proper distribution of wastewater onto the filter media is crucial for optimizing efficiency of treatment. The most common method of influent distribution is rotating distributors. Rotating distributors consist of moving parts that require more maintenance and may be a burden in a plant to operators. \n",
        "\n",
        "The less common method of distribution, the fixed distribution system as seen below (**Figure 1**), utilizes lateral and main distribution pipes, which are placed just above the trickling filter medium and spaced to give uniform distribution of water. The pipes generally have nozzles with a circular hole and a deflector. This method is commonly used with intermittent dosing, meaning flow from the system varies; it starts at a maximum and lowers as the tank empties. Currently, fixed distribution systems are mostly used in deep filter and biotowers (i.e. very tall filters). Since this method is non-rotating, it may be more applicable for the proposed use of a string media. However, Sperling and colleagues showed that both the fixed and rotating distribution systems have an inconsistent hydraulic load of the influent [(Sperling 2007)](https://www.iwapublishing.com/sites/default/files/ebooks/9781780402123.pdf). Therefore, the distribution system is another area where there is huge potential for the team to increase the productivity of trickling filters.\n",
        "\n",
        "<center>\n",
        "\n",
        "![Fixed Distribution System](https://github.com/AguaClara/String-Digester/blob/master/Spring%202019/Images/Fixed%20Distribution%20Trickling%20Filter.gif?raw=true)\n",
        "\n",
        "**Figure 1:** Trickling filter with a fixed distribution system.\n",
        "\n",
        "</center>\n",
        "\n",
        "Although there are multiple problems with trickling filters, one main advantage of trickling filters is that they have a relatively low residence time. This is a consideration which the team should plan to maintain in future designs. Hinton and Stensel measured residence time per unit length of between 30 and 40 sec/m with dye tests. Their predicted residence times, calculated from laminar flow theory, were closer to about 15 sec/m. The authors attributed this discrepancy to \"dye sorption and desorption by the biofilm.\" In either case, the residence time for a 5 meter deep trickling filter would be well under 5 minutes [(Hinton and Stensel 1991)](https://ac.els-cdn.com/0043135491901179/1-s2.0-0043135491901179-main.pdf?_tid=e8d2db22-8e0f-4d3c-a421-352ef74e6f5e&acdnat=1540500088_4808114af12660c061fbd139ac0fbd33). This short treatment time makes trickling filters an appealing wastewater treatment option if problems such as uneven HLR and clogging can be minimized.\n",
        "\n",
        "[Above review of current trickling filters adapted from [Spring 2019 Final Report](https://github.com/AguaClara/String-Digester/blob/master/Spring%202019/String_Digester_Final_Report.md)]\n",
        "\n"
      ]
    },
    {
      "cell_type": "markdown",
      "metadata": {
        "id": "3bueEmUbnCOR",
        "colab_type": "text"
      },
      "source": [
        "## **Water Distribution**\n",
        "Uniform water distribution is essential for many applications such as irrigation and water treatment. One common method for distributing water over a relatively large area is using a spray. There are several different methods for creating a spray, two being the Fixed Spray Plate Sprinklers (FSPS) and Rotating Spray Plate Sprinklers (RSPS). A comparative study conducted by [Faci et al. (2001)](https://ascelibrary.org/doi/pdf/10.1061/%28ASCE%290733-9437%282001%29127%3A4%28224%29) found that both methods resulted in a highly uniform distribution, with RSPS slightly more uniform than FSPS (94.6% versus 93.7%). While the study also focused on the effect of wind and overlapping sprinkler arrays, the methods and materials of the sprinklers are more applicable to this report.\n",
        "\n",
        "The FSPS design involves a water jet impinging on a fixed deflector plate, which then sprays water radially outward in the horizontal plane. The RSPS differs in that the deflector plate rotates when hit with the water jet. The nozzle diameters used in the study for both the FSPS and the RSPS were 3.8, 6.7, and 7.9mm. The deflector plate is what creates the spray pattern, and different deflectors can result in sprays at different angles. For the FSPS, the deflector had 33 grooves which resulted in flow being divided into 33 streams for the 3.8mm nozzle. One note from the study was that as the number of grooves in the deflector plate is increased, the drop size (for a set pressure and nozzle diameter) decreases [(Kincaid et al. 1996)](https://elibrary.asabe.org/azdez.asp?JID=3&AID=27568&CID=t1996&v=39&i=3&T=1&refer=7&access=&dabs=Y).\n",
        "\n",
        "For each of the sprinkler types, the distribution pattern was observed in varying wind conditions (low wind and medium wind) and with the sprinkler at different heights (1m and 2.5m) above the ground. Figure 2 shows that the RSPS results in a distribution with the highest density at the center (directly under the sprinkler) with the water density decreasing gradually as the radius from the center increases. However the FSPS results in a maximum density in a circular crown several meters from the center where the sprinkler is located. This difference in precipitation patterns is caused by the variation in the size of droplets from an RSPS (which can travel a wide range of distances depending on droplet diameter) compared with the relatively uniform droplet size from an FSPS.\n",
        "\n",
        "<center>\n",
        "\n",
        "<img src=\"https://github.com/AguaClara/String-Digester/blob/master/Summer_2019/Photos/FSPS_v_RSPS%20distribution.png?raw=true\" height = 350 />\n",
        "\n",
        "**Figure 2:** Water distribution from RSPS and FSPS sprinklers in different wind conditions at different heights.\n",
        "\n",
        "</center>\n",
        "\n",
        "[Faci et al. (2001)](https://ascelibrary.org/doi/pdf/10.1061/%28ASCE%290733-9437%282001%29127%3A4%28224%29) described how varying sprinkler head height causes changes in water distribution. As the sprinkler height from the ground increases, the total wetted area increases as drops emitted in the horizontal direction are able to travel a longer distance. However, drops traveling further have a tendency to drift or evaporate causing less uniformity in the sprinkler distribution, especially at higher wind speeds.\n",
        "\n",
        "While sprinklers create a uniform spray pattern that can be manipulated by varying parameters such as droplet size, nozzle diameter, and sprinkler height, sprinklers also require small orifices and large water velocities which may not be feasible with wastewater and potential clogging from biofilm growth. However the methods used to spray water outward in the radial direction could be useful when designing a system to spray water in a specific pattern, such as a straight line, and the methods used to split a water stream into several smaller jets may be applicable to future string digester designs.\n",
        "\n"
      ]
    },
    {
      "cell_type": "markdown",
      "metadata": {
        "id": "ny0MOcZ9nquG",
        "colab_type": "text"
      },
      "source": [
        "## **Orifice**\n",
        "Torricelli's principle relates the velocity of water exiting an orifice, *v*, with water height, *h*, above the orifice; *g* is acceleration due to gravity. \n",
        "\n",
        "#### Equation 1: $$v = \\sqrt{2gh}$$ \n",
        "\n",
        "Multiplying this relation by the area of the orifice and a constant called the vena contracta, $\\pi_{vc}$, gives the flow rate of water through the orifice. The vena contracta is a constant that takes into account the narrowing of the water stream as it exits the orifice, and typically has values on the order of 0.62.\n",
        "\n",
        "#### Equation 2: $$Q = \\pi_{vc}A_{orifice}\\sqrt{2gh}$$ \n",
        "\n",
        "This relation was used to calculate the height of water necessary to produce a particular flow rate, given an orifice size. [Python code](##Python-Code) was written to perform such calculations. Additionally this relation can be used to calculate the total flow rate needed to serve a particular population, given that each person needs about [300 strings](###Number-of-Strings-Needed-to-Support-a-Small-Population) and there is a maximum flow rate of 10𝜇L/s per string."
      ]
    },
    {
      "cell_type": "markdown",
      "metadata": {
        "id": "ZfYJGuARntoM",
        "colab_type": "text"
      },
      "source": [
        "## **Biofilm Growth**\n",
        "A component of the string digester that is crucial to its success is the growth of biofilms on the strings. \"A biofilm is an assemblage of microbial cells that is irreversibly associated (not removed by gentle rinsing) with a surface and enclosed in a matrix of primarily polysaccharide material.\" [(Donlan 2002).](https://www.ncbi.nlm.nih.gov/pmc/articles/PMC2732559/) Biofilm attachment is a complex process regulated by diverse characteristics of the growth medium, substratum, and cell surface. Biofilm on trickling filters is composed of a variety of organisms and are typically enclosed in a polysaccharide. The biofilm matrix may also contain mineral crystals, corrosion particles, and clay or silt particles. In conclusion, biofilms in wastewater systems are often highly complex [(Donlan 2002).](https://www.ncbi.nlm.nih.gov/pmc/articles/PMC2732559/)\n",
        "\n",
        "Some testing has been done of the growth of biofilm in different surfaces. One study compared growth on glossy electro-polished, bright annealed stainless steel to matte stainless steel and to PVC. The paper notes that stainless steel is hydrophilic and PVC is hydrophobic. In the last 45 days of the 167 day experiment, the matte steel had about 1.44 times more microorganisms than the electro-polished steel, and there was no significant difference between the PVC and polished steel. In discussion of why this occurs, Pedersen cites two reasons: \"detachment due to shear forces from the flow will be reduced on the rougher surface since cells can be shielded from the bulk flow and more substratum surface area may be available for the biofilm\" [(Pedersen 1990).](https://www.ncbi.nlm.nih.gov/pmc/articles/PMC2732559/)\n",
        "\n",
        "[Above review of biofilm from [Spring 2019 Final Report](https://github.com/AguaClara/String-Digester/blob/master/Spring%202019/String_Digester_Final_Report.md)]"
      ]
    },
    {
      "cell_type": "markdown",
      "metadata": {
        "id": "w1LzzCPqnxRZ",
        "colab_type": "text"
      },
      "source": [
        "## **String Reaeration**\n",
        "For strings to be a viable filter media in a string digester, the wastewater being treated must be exposed to a sufficient amount of oxygen. This is because biofilms consume oxygen in the process of breaking down organic material. Whether reaeration occurs as water flows slowly down a string is an important question Krasnoff and Lee answered in their report [Potential Aeration of Water Trickling Down a String](https://github.com/monroews/CEE3530/blob/master/Projects/2019/1Project.pdf). The experiments performed in this investigation into the aeration of water as it flows down a string included testing two different types of string - a flat string and a loopy yarn. By observing dissolved oxygen (DO) levels for varying amounts of chemical oxygen demand (COD) from $Na_{2}SO_{3}$, it was concluded that aeration can occur when water trickles down both the flat string and the loopy yarn. \n",
        "\n",
        "A second set of trials where the COD level was kept constant at 200 mg/L tested the aeration potential at three different flow rates. As expected the slowest flow rate resulted in the highest levels of DO since the water had the most time for aeration to occur on the string. In each case, the loopy yarn had higher levels of DO and it was shown that the loopy yarn still allowed for significant aeration at high flow rates whie the flat string did not (reaeration of the loopy yarn occurred for flow rates ranging from 1.75 to 17.2 μL/s). This means the loopy yarn is a more promising string digester filter media because a higher flow rate will increase the efficiency of the reactor without sacrificing the treatment. The higher rate of aeration in the yarn is attributed to it being hydrophilic and having \"loops\" that allow water drops to briefly collect. Because of this decreased flow rate and ability to reaerate, the loopy yarn was chosen over other materials tested by previous subteams (See [Previous Work](#Previous-work) for more details on these materials) to be used in Summer 2019 experiments. \n",
        "\n",
        "The results from these experiments showed that strings have the ability to reaerate naturally as water flows down them without needing an external source of air movement, such as with a fan. The type of string, the flow rate, and the level of COD are other variables that were proven to impact the degree of aeration and further tests with these parameters in mind would potentially lead to an ideal material and flowrate to consider for a working wastewater treatment plant. While the loopy yarn is promising in lab conditions, the biodegradability of acrylic yarn is something to consider. Under the conditions of a string digester, each strand of filter media will need to withstand a near constant flow of wastewater as well as host a biofilm for proper treatment. Further research into the effects of biofilm growth on several materials with the same \"loopy\" properties as the yarn will be needed."
      ]
    },
    {
      "cell_type": "markdown",
      "metadata": {
        "id": "b5gnd91yn049",
        "colab_type": "text"
      },
      "source": [
        "## **Number of Strings Needed to Support a Small Population**\n",
        "\n",
        "The [2010 World Water Day Fact Sheet](https://pacinst.org/wp-content/uploads/2013/02/water_quality_facts_and_stats3.pdf) reported an annual wastewater production of 1500 km^3 in 2003. For a  6.4 billion population in 2003, this translates to a waste water production rate of 7.50 mL/s per person. A more recent [source](https://www.researchgate.net/publication/283744445_Global_Wastewater_and_Sludge_Production_Treatment_and_Use) from 2015 reported a municpal wastewater production of 330 km^3. With a world population of 7.2 billion at in 2015, this corresponds to a wastewater production rate of 1.4 mL/s per person. \n",
        "\n",
        "To investigate the feasibility of using strings as a filter media, the subteam calculated the number of strings needed to support the population of a small town of 10,000 people. Professor Weber-Shirk estimated that the average human creates wastewater at a rate of 3 mL/s, or 3000 microliters/second. The research in the above paragraph supports this estimate, as the calculated values are on the same order of magnitude. If the flowrate down each string is 10 microliters per second, each person would need 300 strings to keep up with their own wastewater production. Therefore a population of 10,000 people would need a trickling filter composed of 3 million strings.\n"
      ]
    },
    {
      "cell_type": "markdown",
      "metadata": {
        "id": "FLDOXtNqCtAW",
        "colab_type": "text"
      },
      "source": [
        "## **Water Droplet Splitting**\n",
        "The String Digester team analyzed many methods for creating uniform water spray onto the digester. In order to better understand the hydrodynamics of water droplets, specifically surface tension, a literature review was conducted to analyze earlier research. An important feature was the significance of the weber number (We) in whether a drop hangs, separates and merges back, or fully splits when coming into contact with a wire (Zheng et al., 2018). The below graph summarizes the findings from the research of the water droplet impacts on a thin wire:\n",
        "\n",
        "<center>\n",
        " <p style=\"text-align: center;\">\n",
        "<img src=\"https://github.com/AguaClara/String-Digester/blob/master/Spring%202020/Images/Screen%20Shot%202020-03-05%20at%208.31.58%20PM.png?raw=true\" height = 400 />\n",
        "  </p>\n",
        "</center>\n",
        "\n",
        "Where We is the weber number and Bo is the bond number. These findings were very useful in determining what pressure and velocity would be required to have water split on a series of mesh further explained in “Methods: 4”[(*Zheng et al*, 2018)](www.hindawi.com/journals/mpe/2018/9818494/).\n"
      ]
    },
    {
      "cell_type": "markdown",
      "metadata": {
        "id": "o6LbMa39lc7p",
        "colab_type": "text"
      },
      "source": [
        "# **Previous Work**\n",
        "[//]: <> (Write previous work in a general form instead of separating by semester. I think writing it by semester makes the flow more discontinuous. Summarize the main points of the semester by the importance of their findings and how they influenced this summer's work)\n",
        "\n",
        "The String Digester team began by researching the operational difficulties, kinetics, and typical design parameters of trickling filters in Spring 2018 ([Spring 2018 Final Report](https://github.com/AguaClara/String-Digester/blob/master/Spring%20'18/TricklingFilter_Final_Report.md)). The two main areas for improvement the team identified were the filter media itself and the distribution system. The team fabricated a bench top model for flow mapping and conducted several rounds of tests to determine the distribution of flow in trickling filters with small rock and marble media. In an effort to maximize the surface area to volume ratio and minimize the preferential flow observed with traditional filter media, the team shifted focus towards strings. This concept led the team to start with very preliminary testing of an overflowing basin model.\n",
        "\n",
        "The next two semesters, the team continued experimentation with the overflowing basin and focused on trying to find an ideal material to use as the filter media. Nylon, polypropylene, and a stainless steel wire and cable were tested, however none of the materials performed well on the basin set-up as the water did not follow the strands due to their hydrophobicity. [(Fall 2018 Final Report, ](https://github.com/AguaClara/String-Digester/blob/master/Fall%20'18/Final_Report_stringdigester.md)  [Spring 2019 Final Report)](https://github.com/AguaClara/String-Digester/blob/master/Spring%202019/String_Digester_Final_Report.md) The subteam eventually identified the Dacron string as having the most potential for a string digester in terms of residence time and viability for biofilm growth. Finally, the subteam calculated the theoretical efficiency (BOD removal per unit area) of a string digester and found that it compared with or exceeded traditional low-rate and high-rate trickling filters.\n",
        "\n",
        "As discussed in the [Literature](#String-Reaeration) section, Krasnoff and Lee tested the reaeration capacity of the loopy yarn and found that reaeration occurred for flow rates ranging from 1.75 to 17.2 μL/s, whereas flat string did not demonstrate strong reaeration at higher flow rates. Therefore, the loopy yarn was used for experiments this semester and the team focused on spray and flow patterns rather than choosing a filter media.  \n",
        "\n",
        "The Summer 2019 team focused on creating an initial model using a matrix of strings and experimented with sprays. The team fabricated a benchtop model and began observing preferential flow patterns using red dye. Conclusions from the summer included how to create a good spray and get water onto a wall of strings using a deflector plate with a specific geometry, an ideal flow rate per string, and ideal string placement geometry (spacing, angle, “loopiness”, …). [(Summer 2019 Final Report)](https://github.com/AguaClara/String-Digester/blob/master/StringDigester_Summer2019_FinalReport.ipynb)\n",
        " \n",
        "In Fall 2019, the subteam re-fabricated the benchtop model and worked on determining the ideal conditions for the creation of a uniform spray. The team experimented with several different variables that affect spray formation and the results are displayed on slide 9 of the final presentation [Fall 2019 Final Presentation Slides](https://docs.google.com/presentation/d/1BofvJ9yJQYk4BHJEfhJP_mLRHSYiM21T6l31AJxYSIk/edit). These results will be used this semester to continue work on spray methods as the team designs an enclosed string digester. "
      ]
    },
    {
      "cell_type": "markdown",
      "metadata": {
        "id": "A9c0Dr8rCujT",
        "colab_type": "text"
      },
      "source": [
        "# **Methods**\n",
        "Explain the techniques you have used to acquire additional data and insights. Reserve fine detail for the Manual at the end of the report, but use this section to give an overview with enough detail for the reader to understand your Results and Analysis. Be especially careful to detail the conditions your experiments were conducted under, as this information is especially important for interpreting your results.\n",
        "\n",
        "Below, some example sections are given. Sectioning the report is meant to keep similar information together.  Continue making sections as necessary, or delete sections if you do not need them. Feel free to add subsubsections to further delineate the information. For example, under the Experimental Apparatus section below, the EStaRS team might consider having sections such as \"Filter Design\" and \"Filter Fabrication\"."
      ]
    },
    {
      "cell_type": "markdown",
      "metadata": {
        "id": "P1KPU32VCw94",
        "colab_type": "text"
      },
      "source": [
        "### **Experimental Apparatus**\n",
        "<center>\n",
        " <p style=\"text-align: center;\">\n",
        "<img src=\"https://github.com/AguaClara/String-Digester/blob/master/Spring%202020/Images/Screen%20Shot%202020-03-05%20at%201.30.33%20PM.png?raw=true\" height = 200 />\n",
        "  </p>\n",
        "</center>\n",
        "\n",
        "**Figure 1** Side View of Metal Propeller\n",
        "\n",
        "<center>\n",
        "  <p style=\"text-align: center;\">\n",
        "<img src=\"https://github.com/AguaClara/String-Digester/blob/master/Spring%202020/Images/Screen%20Shot%202020-03-05%20at%201.30.17%20PM.png?raw=true\" height = 200 />\n",
        "  </p>\n",
        "</center>\n",
        "\n",
        "**Figure 2** Top Side View of Metal Propeller\n",
        "\n",
        "<center>\n",
        "   <p style=\"text-align: center;\">\n",
        "<img src=\"https://github.com/AguaClara/String-Digester/blob/master/Spring%202020/Images/Screen%20Shot%202020-03-05%20at%201.29.39%20PM.png?raw=true\" height = 200 />\n",
        "  </p>\n",
        "</center>\n",
        "\n",
        "  **Figure 3** Water Testing of Metal Propeller \n",
        "\n",
        "Methods: Placed metal propellor under stream of water to observe its effectiveness at distributing water spray over string digester.\n",
        "\n",
        "Results: While the propellor successfully broke up the flow of water, the distribution was uneven, with some sprays more clumped together than others, and there was limited water distribution directly below the blades of the propellor.\n",
        "\n",
        "\n",
        "<center>\n",
        "   <p style=\"text-align: center;\">\n",
        "<img src=\"https://github.com/AguaClara/String-Digester/blob/master/Spring%202020/Images/Screen%20Shot%202020-03-05%20at%201.30.52%20PM.png?raw=true\" height = 200 />\n",
        "  </p>\n",
        "\n",
        "**Figure 4** Side View of Inlet Orifice Pipe\n",
        "\n",
        "</center>\n",
        "\n",
        "<center>\n",
        "   <p style=\"text-align: center;\">\n",
        "<img src=\"https://github.com/AguaClara/String-Digester/blob/master/Spring%202020/Images/Screen%20Shot%202020-03-05%20at%201.30.44%20PM.png?raw=true\" height = 200 />\n",
        "  </p>\n",
        "\n",
        "**Figure 5** Bottom View of the Orifice \n",
        "\n",
        "</center>\n",
        "\n",
        "<center>\n",
        "   <p style=\"text-align: center;\">\n",
        "<img src=\"https://github.com/AguaClara/String-Digester/blob/master/Spring%202020/Images/Screen%20Shot%202020-03-05%20at%201.37.21%20PM.png?raw=true\" height = 200 />\n",
        "  </p>\n",
        "\n",
        "\n",
        "**Figure 6** Water Testing Horizontal Stacked Beams\n",
        "\n",
        "  </center>\n",
        "\n",
        "Methods: Horizontal beams were placed vertically on top of one another to observe how water droplets would be displaced.  \n",
        "\n",
        "Results: There was a poor distribution of water where the majority of the water dripped down instead of being splashed. More horizontal beams would need to be added successively to ensure all the water that dripped down splashed. This would not be space efficient. \n",
        "\n",
        "<center>\n",
        "  <p style=\"text-align: center;\">\n",
        "<img src=\"https://github.com/AguaClara/String-Digester/blob/master/Spring%202020/Images/Screen%20Shot%202020-03-05%20at%208.37.37%20PM.png?raw=true\" height = 200 />\n",
        "  </p>\n",
        "\n",
        "**Figure 7** Spring Distributor\n",
        "</center>\n",
        "\n",
        "Methods: Placed plastic platform beneath the rectangular plastic channel, connecting the two with a spring, and modified the connection of the rectangular channel to support beams so that the channel could move freely about the axis of a pin. Theoretically, the weight of the water flowing onto the rectangular channel would push it downwards, and the spring would push the channel back up into place, effectively fanning the water over the string digester. The string digester subteam tried attaching the string as the center, front, and back of the rectangular channel.\n",
        "\n",
        "Results: The spring used was too rigid for the stream of water hitting the rectangular channel, thus the channel remained stationary and was unable to be pushed down by the water alone. Based on a series of calculations, the string digester subteam determined the proper spring constant needed for the required flow of water is 1.0817 N/m, which was too small to purchase online.   \n",
        "\n",
        "\n",
        "\n",
        "\n",
        "<center>\n",
        "  <p style=\"text-align: center;\">\n",
        "<img src=\"https://github.com/AguaClara/String-Digester/blob/master/Spring%202020/Images/Screen%20Shot%202020-03-05%20at%208.41.12%20PM.png?raw=true\" height = 200 />\n",
        "  </p>\n",
        "\n",
        "**Figure 8** Mesh\n",
        "\n",
        "</center>\n",
        "\n",
        "Methods: Placed circular mesh cut-out, approximately 4 inches in diameter, beneath stream of water to observe its effectiveness at distributing water spray over string digester.\n",
        "\n",
        "Results: Due to the large spacings of the mesh (~0.5 cm) to prevent organic matter blockages, the stream of water flowed directly through the mesh holes and was not distributed. Additionally, the droplet velocity and pressure did not produce a weber number large enough to cause splitting [(*Zheng et al*, 2018)](www.hindawi.com/journals/mpe/2018/9818494/).\n"
      ]
    },
    {
      "cell_type": "markdown",
      "metadata": {
        "id": "8WdhCMcNC00a",
        "colab_type": "text"
      },
      "source": [
        "## **Procedure**\n",
        "Discuss your experimental procedure. How did you run your experiment? What were you testing? What were the values of relevant parameters?"
      ]
    },
    {
      "cell_type": "markdown",
      "metadata": {
        "id": "TPiP9gijC3GV",
        "colab_type": "text"
      },
      "source": [
        "# **Results and Analysis**\n",
        "Present an observation (results), then explain what happened (analysis).  Each paragraph should focus on one aspect of your results and interpret that result. In other words, there should not be two distinct paragraphs, but one paragraph containing one result and the interpretation and analysis of this result. Here are some guiding questions for results and analysis:\n",
        "\n",
        "When describing your results, present your data, using the guidelines below:\n",
        "* What happened? What did you find?\n",
        "* Show your experimental data in a professional way (see Figure Requirements).\n",
        "\n",
        "After describing a particular result, within a paragraph, go on to connect your work to fundamental physics, chemistry, statics, fluid mechanics, or whatever field is appropriate. Analyze your results and compare with theoretical expectations; or, if you have not yet done the experiments, describe your expectations based on established knowledge.\n",
        "* Why did you get those results/data?\n",
        "* Did these results line up with expectations?\n",
        "* What went wrong?\n",
        "* If the data do not support your hypothesis, is there another hypothesis that describes your new data?\n",
        "\n",
        "Include implications of your results. How will your results influence the design of AguaClara plants? If possible provide clear recommendations for design changes that should be adopted.\n"
      ]
    },
    {
      "cell_type": "markdown",
      "metadata": {
        "id": "tN-yJhe_C3pS",
        "colab_type": "text"
      },
      "source": [
        "### Figure requirements\n",
        "The [Data Analysis in Python](https://aguaclara.github.io/aguaclara_tutorial/python/data-analysis.html) page of the AguaClara Tutorial wiki pages shows how to create graphs in Python to meet these requirements. Make sure to read the sections on [Plotting with Matplotlib](https://aguaclara.github.io/aguaclara_tutorial/python/data-analysis.html#plotting-with-matplotlib) and, if you are working with ProCoDA data files, [Reading ProCoDA Data with the AguaClara Package](https://aguaclara.github.io/aguaclara_tutorial/python/data-analysis.html#reading-procoda-data-with-the-aguaclara-package).\n",
        "\n",
        "Basics\n",
        "- Create your graphs using Python. Include the code for your graph in the Python Code section of your report.\n",
        "- Place a caption with a brief description below the graph. Add this caption using Markdown in Colab, not in your graphing software.\n",
        "- Insert the graph in your report after the first paragraph with a reference to it.\n",
        "\n",
        "Appearance\n",
        "- Use a white background.\n",
        "- Use the same font in the graphs as you use in the text of the report.\n",
        "- Scale the size of the graph so it is large enough to see the data and read the text without having to follow a link to see a larger image. Avoid using hyperlinks on images, because an export to Microsoft Word will not include the image.\n",
        "\n",
        " Axes\n",
        " - Data with x and y values should be presented using an xy scatter plot.\n",
        " - Label all axes and include units.\n",
        " - Axis scale labels should be in the margin of the graph, not inside the graph border.\n",
        " - If the x-axis is time, then make time zero the beginning of the test.\n",
        " - Eliminate ranges of the x and y axes that are not used or meaningful.\n",
        "\n",
        "Data Representation\n",
        " - Use data symbols, not a line, to show discrete data points.\n",
        " - However, if there is so much data that the symbols overlap, it is better to connect the data points with a line and not show the data symbols.\n",
        "\n",
        "Multiple Plots\n",
        " - When presenting multiple plots on a single graph make sure that it is easy to distinguish the plots using the legend.\n",
        "\n",
        "Curve Fitting\n",
        " - If curve fitting is used, explain why and include the equation elsewhere in the report.\n",
        " - The model or theoretical curve should be a smooth curve without data points.\n",
        "\n",
        "Here is an example graph:\n",
        "\n",
        " <center>\n",
        "   <img src=\"https://raw.githubusercontent.com/AguaClara/team_resources/master/Images/Turbidity.png\">\n",
        " </center>\n",
        "\n",
        " Figure 3. Descriptive captions are very important for figures. The code used to create this graph can be found in the Python Code section of this report."
      ]
    },
    {
      "cell_type": "markdown",
      "metadata": {
        "id": "4m-fx7GnC6a-",
        "colab_type": "text"
      },
      "source": [
        "## **Conclusions**\n",
        "Explain what you have learned and how that influences your next steps. Why does what you discovered matter to AguaClara?\n",
        "\n",
        "Make sure that you have defended your conclusions with facts and results."
      ]
    },
    {
      "cell_type": "markdown",
      "metadata": {
        "id": "QbOeP4KiC7p2",
        "colab_type": "text"
      },
      "source": [
        "## **Future Work**\n",
        "Describe your plan of action for the next several weeks of research. Detail the next steps for this team. How can AguaClara use what you discovered for future projects? Your suggestions for challenges for future teams are most welcome. Should research in this area continue?"
      ]
    },
    {
      "cell_type": "markdown",
      "metadata": {
        "id": "fZyCYDraC80B",
        "colab_type": "text"
      },
      "source": [
        "## **Bibliography**\n",
        "Logan, B. E., Hermanowicz, S. W., & Parker,A. S. (1987). A Fundamental Model for Trickling Filter Process Design. Journal (Water Pollution Control Federation), 59(12), 1029–1042."
      ]
    },
    {
      "cell_type": "markdown",
      "metadata": {
        "id": "oDYGZ4TkC-H2",
        "colab_type": "text"
      },
      "source": [
        "# **Manual**\n",
        "The goal of this section is to provide all of the guidance that would be necessary for a future team to pick up your work where you left off. Please try to be thorough and put yourselves in the shoes of a newcomer to the project. Below are some recommended sections, but the manual will likely take a slightly different form for each team."
      ]
    },
    {
      "cell_type": "markdown",
      "metadata": {
        "id": "kfka8Y62C_y-",
        "colab_type": "text"
      },
      "source": [
        "## **Fabrication Details**\n",
        "Include any information related to the fabrication of equipment, technologies, or experimental apparatuses, such as\n",
        "\n",
        "* materials, with dimensions\n",
        "* fabrication methods and the purpose of each step\n",
        "* complications and constraints in construction\n",
        "* revisions made to a previous design, with a reference to the report where the design is described\n",
        "* appropriate safety precautions"
      ]
    },
    {
      "cell_type": "markdown",
      "metadata": {
        "id": "Gi1Zhpu9DBSv",
        "colab_type": "text"
      },
      "source": [
        "## **Special Components**\n",
        "If your subteam uses a particular part that is unique and you could foresee a future subteam needing to order it or learn more about it, please include basic information such as its vendor, its catalog/item number, and a link to any documentation."
      ]
    },
    {
      "cell_type": "markdown",
      "metadata": {
        "id": "OH4T3NMQDE84",
        "colab_type": "text"
      },
      "source": [
        "## **Experimental Methods**\n",
        "### Set-up\n",
        "Step 1.\n",
        "* Put tasks in a sequential order.\n",
        "* It is okay to have sub-lists.\n",
        "  - Like this.\n",
        "\n",
        "### Experiment\n",
        "Step 1.\n",
        "\n",
        "### Cleaning Procedure\n",
        "Step 1."
      ]
    },
    {
      "cell_type": "markdown",
      "metadata": {
        "id": "7Nhn0HGZpXsy",
        "colab_type": "text"
      },
      "source": [
        "## Experimental Checklist\n",
        "Another potential section could include a list of things that you need to check before running an experiment."
      ]
    },
    {
      "cell_type": "markdown",
      "metadata": {
        "id": "cNK5GnhVpb74",
        "colab_type": "text"
      },
      "source": [
        "## ProCoDA Method File\n",
        "\n",
        "**Upload your ProCoDA method file to your Github repository and provide a link it in your report.**\n",
        "\n",
        "Use the rest of this section to explain your method file. Your explanation can be broken up into several components as shown below:\n",
        "\n",
        "### States\n",
        "Here, you should describe the function of each state in your method file, both in terms of its overall purpose and also in terms of the details that make it distinct from other states. For example:\n",
        "\n",
        " - **OFF**: Resting state of ProCoDA. All sensors, relays, and pumps are turned off.\n",
        "\n",
        "### Set Points\n",
        "Here, you should list the set points used in your method file and explain their use as well as how each was calculated."
      ]
    },
    {
      "cell_type": "markdown",
      "metadata": {
        "id": "HCNXi5uiDFsw",
        "colab_type": "text"
      },
      "source": [
        "## Python Code\n",
        "\n",
        "In this section, provide any code that was a significant part of your research, including in making theoretical calculations, determining parameters for your experiment, or analyzing your data. Make sure to display all outputs, as shown below."
      ]
    },
    {
      "cell_type": "code",
      "metadata": {
        "id": "CsiQ1OupEI4P",
        "colab_type": "code",
        "outputId": "f5f728b9-37a3-475c-aef4-85cf35e55de5",
        "colab": {
          "base_uri": "https://localhost:8080/",
          "height": 252
        }
      },
      "source": [
        "!pip install aguaclara\n",
        "import aguaclara as ac\n",
        "from aguaclara.core.units import u\n",
        "import matplotlib.pyplot as plt"
      ],
      "execution_count": 0,
      "outputs": [
        {
          "output_type": "stream",
          "text": [
            "Requirement already satisfied: aguaclara in /usr/local/lib/python3.6/dist-packages (0.2.0)\n",
            "Requirement already satisfied: scipy in /usr/local/lib/python3.6/dist-packages (from aguaclara) (1.4.1)\n",
            "Requirement already satisfied: urllib3 in /usr/local/lib/python3.6/dist-packages (from aguaclara) (1.24.3)\n",
            "Requirement already satisfied: pandas in /usr/local/lib/python3.6/dist-packages (from aguaclara) (0.25.3)\n",
            "Requirement already satisfied: pint==0.8.1 in /usr/local/lib/python3.6/dist-packages (from aguaclara) (0.8.1)\n",
            "Requirement already satisfied: matplotlib in /usr/local/lib/python3.6/dist-packages (from aguaclara) (3.1.3)\n",
            "Requirement already satisfied: numpy>=1.13.3 in /usr/local/lib/python3.6/dist-packages (from scipy->aguaclara) (1.17.5)\n",
            "Requirement already satisfied: python-dateutil>=2.6.1 in /usr/local/lib/python3.6/dist-packages (from pandas->aguaclara) (2.6.1)\n",
            "Requirement already satisfied: pytz>=2017.2 in /usr/local/lib/python3.6/dist-packages (from pandas->aguaclara) (2018.9)\n",
            "Requirement already satisfied: kiwisolver>=1.0.1 in /usr/local/lib/python3.6/dist-packages (from matplotlib->aguaclara) (1.1.0)\n",
            "Requirement already satisfied: cycler>=0.10 in /usr/local/lib/python3.6/dist-packages (from matplotlib->aguaclara) (0.10.0)\n",
            "Requirement already satisfied: pyparsing!=2.0.4,!=2.1.2,!=2.1.6,>=2.0.1 in /usr/local/lib/python3.6/dist-packages (from matplotlib->aguaclara) (2.4.6)\n",
            "Requirement already satisfied: six>=1.5 in /usr/local/lib/python3.6/dist-packages (from python-dateutil>=2.6.1->pandas->aguaclara) (1.12.0)\n",
            "Requirement already satisfied: setuptools in /usr/local/lib/python3.6/dist-packages (from kiwisolver>=1.0.1->matplotlib->aguaclara) (45.1.0)\n"
          ],
          "name": "stdout"
        }
      ]
    },
    {
      "cell_type": "markdown",
      "metadata": {
        "id": "NtF6hMF9EkG2",
        "colab_type": "text"
      },
      "source": [
        "### Code for Figure 3"
      ]
    },
    {
      "cell_type": "code",
      "metadata": {
        "id": "CP_A9n8SDHf1",
        "colab_type": "code",
        "outputId": "42a061d2-3675-49eb-c7be-44e07d10ad51",
        "colab": {
          "base_uri": "https://localhost:8080/",
          "height": 300
        }
      },
      "source": [
        "path = \"https://raw.githubusercontent.com/AguaClara/team_resources/master/Data/datalog%206-14-2018.xls\"\n",
        "\n",
        "time = ac.column_of_time(path=path, start=2250, end=5060).to(u.hr)\n",
        "influent_turbidity = ac.column_of_data(path=path, start=2250, column=3, end=5060)\n",
        "effluent_turbidity = ac.column_of_data(path=path, start=2250, column=4, end=5060)\n",
        "\n",
        "# set up multiple subplots with same x-axis\n",
        "fig, ax1 = plt.subplots()\n",
        "ax2 = ax1.twinx()\n",
        "\n",
        "# make the first subplot (Effluent Turbidity vs Time)\n",
        "ax1.set_xlabel(\"Time (hours)\")\n",
        "ax1.set_ylabel(\"Effluent Turbidity (NTU)\")\n",
        "line1, = ax1.plot(time, effluent_turbidity, color=\"blue\")\n",
        "\n",
        "# make the second subplot (Influent Turbidity vs Time)\n",
        "ax2.set_ylabel(\"Influent Turbidity (NTU)\")\n",
        "ax2.set_ylim(60,120)\n",
        "line2, = ax2.plot(time, influent_turbidity, color=\"green\")\n",
        "\n",
        "plt.legend((line1, line2), (\"Effluent\", \"Influent\"))\n"
      ],
      "execution_count": 0,
      "outputs": [
        {
          "output_type": "execute_result",
          "data": {
            "text/plain": [
              "<matplotlib.legend.Legend at 0x7f46b9b526a0>"
            ]
          },
          "metadata": {
            "tags": []
          },
          "execution_count": 7
        },
        {
          "output_type": "display_data",
          "data": {
            "image/png": "[encoded data removed]",
            "text/plain": [
              "<Figure size 432x288 with 2 Axes>"
            ]
          },
          "metadata": {
            "tags": []
          }
        }
      ]
    },
    {
      "cell_type": "markdown",
      "metadata": {
        "id": "YWTxs8-PEV2J",
        "colab_type": "text"
      },
      "source": [
        "### Code for Experimental Design\n",
        "Make sure variables in your code, as well as anything that might not be easily understood by a newcomer, is well commented. Also include the outputs of your code, if applicable and not given earlier in the report."
      ]
    },
    {
      "cell_type": "code",
      "metadata": {
        "id": "qQu_bRDMDLVm",
        "colab_type": "code",
        "outputId": "4fdda5a6-3b7e-44d8-c795-dd48f3dc7097",
        "colab": {
          "base_uri": "https://localhost:8080/",
          "height": 101
        }
      },
      "source": [
        "import aguaclara as ac\n",
        "from aguaclara.core.units import u\n",
        "\n",
        "# volume per revolution flowing from the pump for PACl (coagulant) stock\n",
        "vol_per_rev_PACl = ac.vol_per_rev_3_stop(\"yellow-blue\")\n",
        "# revolutions per minute of PACl stock pump\n",
        "rpm_PACl = 3 * u.rev/u.min\n",
        "# flow rate from the PACl stock pump\n",
        "Q_PACl = ac.flow_rate(vol_per_rev_PACl, rpm_PACl)\n",
        "\n",
        "# desired system flow rate\n",
        "Q_sys = 2 * u.mL/u.s\n",
        "# desired system concentration of PACl\n",
        "C_sys = 1.4 * u.mg/u.L\n",
        "# a variable representing the reactor and its parameters\n",
        "reactor = ac.Variable_C_Stock(Q_sys, C_sys, Q_PACl)\n",
        "\n",
        "# required concentration of PACl stock\n",
        "C_stock_PACl = reactor.C_stock()\n",
        "# concentration of purchased PACl super stock in lab\n",
        "C_super_PACl = 70.28 * u.g/u.L\n",
        "# dilution factor of PACl super stock necessary to achieve PACl stock\n",
        "# concentration (in L of super stock per L water)\n",
        "dilution = reactor.dilution_factor(C_super_PACl)\n",
        "mL_per_L = dilution * 1000\n",
        "\n",
        "print(\"A reactor with a system flow rate of\", Q_sys, \",\")\n",
        "print(\"a system PACl concentration of\", C_sys, \",\")\n",
        "print(\"and a PACl stock flow rate of\", Q_PACl)\n",
        "print(\"will require a dilution factor of\", round(mL_per_L.magnitude, 3),\n",
        "  \"milliliters of PACl super\")\n",
        "print(\"stock per liter of water for the PACl stock.\")\n"
      ],
      "execution_count": 0,
      "outputs": [
        {
          "output_type": "stream",
          "text": [
            "A reactor with a system flow rate of 2 milliliter / second ,\n",
            "a system PACl concentration of 1.4 milligram / liter ,\n",
            "and a PACl stock flow rate of 0.007442 milliliter / second\n",
            "will require a dilution factor of 5.353 milliliters of PACl super\n",
            "stock per liter of water for the PACl stock.\n"
          ],
          "name": "stdout"
        }
      ]
    },
    {
      "cell_type": "markdown",
      "metadata": {
        "id": "IeQmLmxyDSVY",
        "colab_type": "text"
      },
      "source": [
        "<!-- DELETE THIS SECTION BEFORE SUBMITTING -->\n",
        "----------------------------------------------\n",
        "## Add/Delete/Change this Template as you see Fit\n",
        "When using this template keep in mind that this serves three purposes. The first is to provide your team feedback on your progress, assumptions, and conclusions. The second is to keep your team focused on what you are learning and doing for AguaClara. Another is to educate future teams on what you've learned and done. This document should be comprehensive, consistent, and well-written. With that in mind, add, subtract, or move sections. Reach out to the RAs and graders for help with figuring out what should or shouldn't include. Focus on how wonderful a reference you are making through this and work hard on communicating amongst yourselves and with future teammates."
      ]
    }
  ]
}